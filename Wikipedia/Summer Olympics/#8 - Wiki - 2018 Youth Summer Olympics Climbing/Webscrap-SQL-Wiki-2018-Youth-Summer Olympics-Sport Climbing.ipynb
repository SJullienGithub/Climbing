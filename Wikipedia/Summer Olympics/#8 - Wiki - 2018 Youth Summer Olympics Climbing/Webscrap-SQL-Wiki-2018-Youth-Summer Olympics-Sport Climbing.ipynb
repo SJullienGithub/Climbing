{
 "cells": [
  {
   "cell_type": "markdown",
   "id": "73ea9c6d",
   "metadata": {},
   "source": [
    "### Webscrapping with Pandas pd.read_html()  + ODBC on SQL Server with pyodbc"
   ]
  },
  {
   "cell_type": "markdown",
   "id": "2001a642",
   "metadata": {},
   "source": [
    "#### Source : Wikipedia / Sport climbing at the Youth 2018 Summer Olympics"
   ]
  },
  {
   "cell_type": "markdown",
   "id": "fc95af51",
   "metadata": {},
   "source": [
    "Sport climbing at the 2018 Summer Youth Olympics was held from 7 to 10 October. The competition took place at the Parque Urbano in Puerto Madero, Buenos Aires, Argentina. This marked the debut of the sport at the Youth Olympics. To be eligible to participate at the Youth Olympics athletes needed to have been born between 1 January 2000 and 31 December 2001"
   ]
  },
  {
   "cell_type": "markdown",
   "id": "6c5aafda",
   "metadata": {},
   "source": [
    "Athletes compete in the disciplines of BOULDERING, LEAD Climbing, and SPEED climbing. All three disciplines were contested as a single event in the 2020 programme : so 2 climbing events were contested (men's combined and women's combined)."
   ]
  },
  {
   "cell_type": "code",
   "execution_count": 26,
   "id": "669a39fa",
   "metadata": {},
   "outputs": [],
   "source": [
    "import numpy as np\n",
    "import pandas as pd\n",
    "# Beautifulsoup already installed into Anaconda environment\n",
    "\n",
    "# Librairy PyODBC for SQL Server connection\n",
    "import os\n",
    "import pyodbc\n",
    "# setup SQL Server connection session\n",
    "server = '-PCSJN\\DATAVIZ'  \n",
    "database = 'Climbing_Staging'\n",
    "connection_string= (\n",
    "                    'DRIVER={SQL Server};SERVER='\n",
    "                     + server\n",
    "                     + ';DATABASE='\n",
    "                     + database \n",
    "                     + ';Trusted_Connection=yes'                  \n",
    "                    )\n",
    "\n",
    "# Function for injecting dataframe content into SQL Server Table\n",
    "def template_SQL_insert_values(table_name,dict):\n",
    "    \n",
    "    columns = \"(\"\n",
    "    for k in dict.keys():\n",
    "        columns += str(k) + ','\n",
    "    columns = columns[:-1] ### remove last comma\n",
    "    columns += \")\"\n",
    "    \n",
    "    req = f\"\"\"INSERT INTO {table_name} {columns} VALUES {tuple(dict.values())}\"\"\"\n",
    "    return req"
   ]
  },
  {
   "cell_type": "code",
   "execution_count": 27,
   "id": "f789ecf1",
   "metadata": {},
   "outputs": [
    {
     "data": {
      "text/plain": [
       "(list, 9)"
      ]
     },
     "execution_count": 27,
     "metadata": {},
     "output_type": "execute_result"
    }
   ],
   "source": [
    "### url\n",
    "Wiki_Climbing_2018_Youth_Summer_Olympics = \"https://en.wikipedia.org/wiki/Sport_climbing_at_the_2018_Summer_Youth_Olympics\"\n",
    "### récuperer toutes les tables html vu sur le site (url)\n",
    "Dataset_Wiki_Climbing_2018_Youth_Summer_Olympics = pd.read_html(Wiki_Climbing_2018_Youth_Summer_Olympics)\n",
    "type(Dataset_Wiki_Climbing_2018_Youth_Summer_Olympics), len(Dataset_Wiki_Climbing_2018_Youth_Summer_Olympics)"
   ]
  },
  {
   "cell_type": "markdown",
   "id": "33d96a1a",
   "metadata": {},
   "source": [
    "##### on récupère 1 list de 9 élts"
   ]
  },
  {
   "cell_type": "code",
   "execution_count": 28,
   "id": "bc12a62b",
   "metadata": {},
   "outputs": [
    {
     "data": {
      "text/plain": [
       "pandas.core.frame.DataFrame"
      ]
     },
     "execution_count": 28,
     "metadata": {},
     "output_type": "execute_result"
    }
   ],
   "source": [
    "type(Dataset_Wiki_Climbing_2018_Youth_Summer_Olympics[0])"
   ]
  },
  {
   "cell_type": "markdown",
   "id": "f64692b3",
   "metadata": {},
   "source": [
    "##### > Chaque élt est un DataFrame Pandas\n",
    "##### ? Quel est le contenu chacun des 9 dataframes ? Lesquelles nous interessent ?"
   ]
  },
  {
   "cell_type": "code",
   "execution_count": 29,
   "id": "65fa8500",
   "metadata": {},
   "outputs": [
    {
     "data": {
      "text/html": [
       "<div>\n",
       "<style scoped>\n",
       "    .dataframe tbody tr th:only-of-type {\n",
       "        vertical-align: middle;\n",
       "    }\n",
       "\n",
       "    .dataframe tbody tr th {\n",
       "        vertical-align: top;\n",
       "    }\n",
       "\n",
       "    .dataframe thead th {\n",
       "        text-align: right;\n",
       "    }\n",
       "</style>\n",
       "<table border=\"1\" class=\"dataframe\">\n",
       "  <thead>\n",
       "    <tr style=\"text-align: right;\">\n",
       "      <th></th>\n",
       "      <th>Sport Climbing at the III Summer Youth Olympic Games</th>\n",
       "      <th>Sport Climbing at the III Summer Youth Olympic Games.1</th>\n",
       "    </tr>\n",
       "  </thead>\n",
       "  <tbody>\n",
       "    <tr>\n",
       "      <th>0</th>\n",
       "      <td>NaN</td>\n",
       "      <td>NaN</td>\n",
       "    </tr>\n",
       "    <tr>\n",
       "      <th>1</th>\n",
       "      <td>Venue</td>\n",
       "      <td>Parque Urbano</td>\n",
       "    </tr>\n",
       "    <tr>\n",
       "      <th>2</th>\n",
       "      <td>Dates</td>\n",
       "      <td>7–10 October</td>\n",
       "    </tr>\n",
       "    <tr>\n",
       "      <th>3</th>\n",
       "      <td>No. of events</td>\n",
       "      <td>2 (1 boys, 1 girls)</td>\n",
       "    </tr>\n",
       "    <tr>\n",
       "      <th>4</th>\n",
       "      <td>Competitors</td>\n",
       "      <td>42 (21 boys, 21 girls)</td>\n",
       "    </tr>\n",
       "    <tr>\n",
       "      <th>5</th>\n",
       "      <td>2026 →</td>\n",
       "      <td>2026 →</td>\n",
       "    </tr>\n",
       "  </tbody>\n",
       "</table>\n",
       "</div>"
      ],
      "text/plain": [
       "  Sport Climbing at the III Summer Youth Olympic Games  \\\n",
       "0                                                NaN     \n",
       "1                                              Venue     \n",
       "2                                              Dates     \n",
       "3                                      No. of events     \n",
       "4                                        Competitors     \n",
       "5                                             2026 →     \n",
       "\n",
       "  Sport Climbing at the III Summer Youth Olympic Games.1  \n",
       "0                                                NaN      \n",
       "1                                      Parque Urbano      \n",
       "2                                       7–10 October      \n",
       "3                                2 (1 boys, 1 girls)      \n",
       "4                             42 (21 boys, 21 girls)      \n",
       "5                                             2026 →      "
      ]
     },
     "execution_count": 29,
     "metadata": {},
     "output_type": "execute_result"
    }
   ],
   "source": [
    "Dataset_Wiki_Climbing_2018_Youth_Summer_Olympics[0]"
   ]
  },
  {
   "cell_type": "markdown",
   "id": "0c3ca9b2",
   "metadata": {},
   "source": [
    "######## [0] is dataset of summarized data about Sport Climbing at 2018 Youth Summer Olympics dataset > NOT to Discard"
   ]
  },
  {
   "cell_type": "code",
   "execution_count": 30,
   "id": "c27ceede",
   "metadata": {},
   "outputs": [
    {
     "data": {
      "text/html": [
       "<div>\n",
       "<style scoped>\n",
       "    .dataframe tbody tr th:only-of-type {\n",
       "        vertical-align: middle;\n",
       "    }\n",
       "\n",
       "    .dataframe tbody tr th {\n",
       "        vertical-align: top;\n",
       "    }\n",
       "\n",
       "    .dataframe thead th {\n",
       "        text-align: right;\n",
       "    }\n",
       "</style>\n",
       "<table border=\"1\" class=\"dataframe\">\n",
       "  <thead>\n",
       "    <tr style=\"text-align: right;\">\n",
       "      <th></th>\n",
       "      <th>Sport climbing at the 2018 Summer Youth Olympics</th>\n",
       "      <th>Sport climbing at the 2018 Summer Youth Olympics.1</th>\n",
       "      <th>Sport climbing at the 2018 Summer Youth Olympics.2</th>\n",
       "    </tr>\n",
       "  </thead>\n",
       "  <tbody>\n",
       "    <tr>\n",
       "      <th>0</th>\n",
       "      <td>NaN</td>\n",
       "      <td>NaN</td>\n",
       "      <td>NaN</td>\n",
       "    </tr>\n",
       "    <tr>\n",
       "      <th>1</th>\n",
       "      <td>Combined</td>\n",
       "      <td>Boys</td>\n",
       "      <td>Girls</td>\n",
       "    </tr>\n",
       "    <tr>\n",
       "      <th>2</th>\n",
       "      <td>vte</td>\n",
       "      <td>vte</td>\n",
       "      <td>vte</td>\n",
       "    </tr>\n",
       "  </tbody>\n",
       "</table>\n",
       "</div>"
      ],
      "text/plain": [
       "  Sport climbing at the 2018 Summer Youth Olympics  \\\n",
       "0                                              NaN   \n",
       "1                                         Combined   \n",
       "2                                              vte   \n",
       "\n",
       "  Sport climbing at the 2018 Summer Youth Olympics.1  \\\n",
       "0                                                NaN   \n",
       "1                                               Boys   \n",
       "2                                                vte   \n",
       "\n",
       "  Sport climbing at the 2018 Summer Youth Olympics.2  \n",
       "0                                                NaN  \n",
       "1                                              Girls  \n",
       "2                                                vte  "
      ]
     },
     "execution_count": 30,
     "metadata": {},
     "output_type": "execute_result"
    }
   ],
   "source": [
    "Dataset_Wiki_Climbing_2018_Youth_Summer_Olympics[1]"
   ]
  },
  {
   "cell_type": "markdown",
   "id": "d2521ef3",
   "metadata": {},
   "source": [
    "######## [1] > to Discard"
   ]
  },
  {
   "cell_type": "code",
   "execution_count": 31,
   "id": "3b498511",
   "metadata": {},
   "outputs": [
    {
     "data": {
      "text/html": [
       "<div>\n",
       "<style scoped>\n",
       "    .dataframe tbody tr th:only-of-type {\n",
       "        vertical-align: middle;\n",
       "    }\n",
       "\n",
       "    .dataframe tbody tr th {\n",
       "        vertical-align: top;\n",
       "    }\n",
       "\n",
       "    .dataframe thead th {\n",
       "        text-align: right;\n",
       "    }\n",
       "</style>\n",
       "<table border=\"1\" class=\"dataframe\">\n",
       "  <thead>\n",
       "    <tr style=\"text-align: right;\">\n",
       "      <th></th>\n",
       "      <th>Event</th>\n",
       "      <th>Location</th>\n",
       "      <th>Date</th>\n",
       "      <th>Total Places</th>\n",
       "      <th>Qualified</th>\n",
       "    </tr>\n",
       "  </thead>\n",
       "  <tbody>\n",
       "    <tr>\n",
       "      <th>0</th>\n",
       "      <td>Host Nation</td>\n",
       "      <td>-</td>\n",
       "      <td>-</td>\n",
       "      <td>0 1</td>\n",
       "      <td>Argentina</td>\n",
       "    </tr>\n",
       "    <tr>\n",
       "      <th>1</th>\n",
       "      <td>2017 World Youth Championship[6]</td>\n",
       "      <td>Innsbruck</td>\n",
       "      <td>30 Aug–10 Sept 2017</td>\n",
       "      <td>15</td>\n",
       "      <td>Sam Avezou (FRA)  Filip Schenk (ITA)  Petar Iv...</td>\n",
       "    </tr>\n",
       "    <tr>\n",
       "      <th>2</th>\n",
       "      <td>2017 Asian Youth Championship[7]</td>\n",
       "      <td>Singapore</td>\n",
       "      <td>5–9 July 2017</td>\n",
       "      <td>1</td>\n",
       "      <td>Bharath Pereira (IND)</td>\n",
       "    </tr>\n",
       "    <tr>\n",
       "      <th>3</th>\n",
       "      <td>2017 Oceania Youth Championship[8]</td>\n",
       "      <td>Nouméa</td>\n",
       "      <td>13–15 October 2017</td>\n",
       "      <td>1</td>\n",
       "      <td>Ned Middlehurst (AUS)</td>\n",
       "    </tr>\n",
       "    <tr>\n",
       "      <th>4</th>\n",
       "      <td>2017 Pan American Youth Championship[9]</td>\n",
       "      <td>Montreal</td>\n",
       "      <td>30 Oct–5 Nov 2017</td>\n",
       "      <td>2</td>\n",
       "      <td>Galo Hernandez (ECU)  Rivadeneira Nickolaie (ECU)</td>\n",
       "    </tr>\n",
       "    <tr>\n",
       "      <th>5</th>\n",
       "      <td>2017 European Youth Championship[10]</td>\n",
       "      <td>Saint-Étienne</td>\n",
       "      <td>25–26 November 2017</td>\n",
       "      <td>1</td>\n",
       "      <td>Yaroslav Tkach (UKR)</td>\n",
       "    </tr>\n",
       "    <tr>\n",
       "      <th>6</th>\n",
       "      <td>2017 African Youth Championship[11]</td>\n",
       "      <td>Johannesburg</td>\n",
       "      <td>8 December 2017</td>\n",
       "      <td>1</td>\n",
       "      <td>David Naudé (RSA)</td>\n",
       "    </tr>\n",
       "    <tr>\n",
       "      <th>7</th>\n",
       "      <td>TOTAL</td>\n",
       "      <td>NaN</td>\n",
       "      <td>NaN</td>\n",
       "      <td>21</td>\n",
       "      <td>NaN</td>\n",
       "    </tr>\n",
       "  </tbody>\n",
       "</table>\n",
       "</div>"
      ],
      "text/plain": [
       "                                     Event       Location  \\\n",
       "0                              Host Nation              -   \n",
       "1         2017 World Youth Championship[6]      Innsbruck   \n",
       "2         2017 Asian Youth Championship[7]      Singapore   \n",
       "3       2017 Oceania Youth Championship[8]         Nouméa   \n",
       "4  2017 Pan American Youth Championship[9]       Montreal   \n",
       "5     2017 European Youth Championship[10]  Saint-Étienne   \n",
       "6      2017 African Youth Championship[11]   Johannesburg   \n",
       "7                                    TOTAL            NaN   \n",
       "\n",
       "                  Date Total Places  \\\n",
       "0                    -          0 1   \n",
       "1  30 Aug–10 Sept 2017           15   \n",
       "2        5–9 July 2017            1   \n",
       "3   13–15 October 2017            1   \n",
       "4    30 Oct–5 Nov 2017            2   \n",
       "5  25–26 November 2017            1   \n",
       "6      8 December 2017            1   \n",
       "7                  NaN           21   \n",
       "\n",
       "                                           Qualified  \n",
       "0                                          Argentina  \n",
       "1  Sam Avezou (FRA)  Filip Schenk (ITA)  Petar Iv...  \n",
       "2                              Bharath Pereira (IND)  \n",
       "3                              Ned Middlehurst (AUS)  \n",
       "4  Galo Hernandez (ECU)  Rivadeneira Nickolaie (ECU)  \n",
       "5                               Yaroslav Tkach (UKR)  \n",
       "6                                  David Naudé (RSA)  \n",
       "7                                                NaN  "
      ]
     },
     "execution_count": 31,
     "metadata": {},
     "output_type": "execute_result"
    }
   ],
   "source": [
    "Dataset_Wiki_Climbing_2018_Youth_Summer_Olympics[2]"
   ]
  },
  {
   "cell_type": "markdown",
   "id": "6f893c16",
   "metadata": {},
   "source": [
    "[2] is about Qualified Boys from different World Region Championships > NOT to Discard. !! Host Nation Argentina has finally no qualified participant !!"
   ]
  },
  {
   "cell_type": "code",
   "execution_count": 32,
   "id": "856964a2",
   "metadata": {},
   "outputs": [],
   "source": [
    "Df_3_Wiki_IFSC_Climbing_2018_Youth_Summer_Olympics_Qualified_Boys = Dataset_Wiki_Climbing_2018_Youth_Summer_Olympics[2]"
   ]
  },
  {
   "cell_type": "code",
   "execution_count": 33,
   "id": "63ca6e69",
   "metadata": {},
   "outputs": [
    {
     "data": {
      "text/html": [
       "<div>\n",
       "<style scoped>\n",
       "    .dataframe tbody tr th:only-of-type {\n",
       "        vertical-align: middle;\n",
       "    }\n",
       "\n",
       "    .dataframe tbody tr th {\n",
       "        vertical-align: top;\n",
       "    }\n",
       "\n",
       "    .dataframe thead th {\n",
       "        text-align: right;\n",
       "    }\n",
       "</style>\n",
       "<table border=\"1\" class=\"dataframe\">\n",
       "  <thead>\n",
       "    <tr style=\"text-align: right;\">\n",
       "      <th></th>\n",
       "      <th>Event</th>\n",
       "      <th>Location</th>\n",
       "      <th>Date</th>\n",
       "      <th>Total Places</th>\n",
       "      <th>Qualified</th>\n",
       "    </tr>\n",
       "  </thead>\n",
       "  <tbody>\n",
       "    <tr>\n",
       "      <th>0</th>\n",
       "      <td>Host Nation</td>\n",
       "      <td>-</td>\n",
       "      <td>-</td>\n",
       "      <td>1</td>\n",
       "      <td>Valentina Aguado (ARG)</td>\n",
       "    </tr>\n",
       "    <tr>\n",
       "      <th>1</th>\n",
       "      <td>2017 World Youth Championship[6]</td>\n",
       "      <td>Innsbruck</td>\n",
       "      <td>30 Aug–10 Sept 2017</td>\n",
       "      <td>14</td>\n",
       "      <td>Sandra Lettner (AUT)  Elena Krasovskaia (RUS) ...</td>\n",
       "    </tr>\n",
       "    <tr>\n",
       "      <th>2</th>\n",
       "      <td>2017 Asian Youth Championship[7]</td>\n",
       "      <td>Singapore</td>\n",
       "      <td>5–9 July 2017</td>\n",
       "      <td>1</td>\n",
       "      <td>Mao Nakamura (JPN)</td>\n",
       "    </tr>\n",
       "    <tr>\n",
       "      <th>3</th>\n",
       "      <td>2017 Oceania Youth Championship[8]</td>\n",
       "      <td>Nouméa</td>\n",
       "      <td>13–15 October 2017</td>\n",
       "      <td>1</td>\n",
       "      <td>Sarah Tetzlaff (NZL)</td>\n",
       "    </tr>\n",
       "    <tr>\n",
       "      <th>4</th>\n",
       "      <td>2017 Pan American Youth Championship[12]</td>\n",
       "      <td>Montreal</td>\n",
       "      <td>30 Oct–5 Nov 2017</td>\n",
       "      <td>2</td>\n",
       "      <td>Alejandra Contreras (CHI)  Cat Carkner (CAN)</td>\n",
       "    </tr>\n",
       "    <tr>\n",
       "      <th>5</th>\n",
       "      <td>2017 European Youth Championship[13]</td>\n",
       "      <td>Saint-Étienne</td>\n",
       "      <td>25–26 November 2017</td>\n",
       "      <td>1</td>\n",
       "      <td>Nolwenn Arc (FRA)</td>\n",
       "    </tr>\n",
       "    <tr>\n",
       "      <th>6</th>\n",
       "      <td>2017 African Youth Championship[11]</td>\n",
       "      <td>Johannesburg</td>\n",
       "      <td>8 December 2017</td>\n",
       "      <td>1</td>\n",
       "      <td>Angela Eckhardt (RSA)</td>\n",
       "    </tr>\n",
       "    <tr>\n",
       "      <th>7</th>\n",
       "      <td>TOTAL</td>\n",
       "      <td>NaN</td>\n",
       "      <td>NaN</td>\n",
       "      <td>21</td>\n",
       "      <td>NaN</td>\n",
       "    </tr>\n",
       "  </tbody>\n",
       "</table>\n",
       "</div>"
      ],
      "text/plain": [
       "                                      Event       Location  \\\n",
       "0                               Host Nation              -   \n",
       "1          2017 World Youth Championship[6]      Innsbruck   \n",
       "2          2017 Asian Youth Championship[7]      Singapore   \n",
       "3        2017 Oceania Youth Championship[8]         Nouméa   \n",
       "4  2017 Pan American Youth Championship[12]       Montreal   \n",
       "5      2017 European Youth Championship[13]  Saint-Étienne   \n",
       "6       2017 African Youth Championship[11]   Johannesburg   \n",
       "7                                     TOTAL            NaN   \n",
       "\n",
       "                  Date  Total Places  \\\n",
       "0                    -             1   \n",
       "1  30 Aug–10 Sept 2017            14   \n",
       "2        5–9 July 2017             1   \n",
       "3   13–15 October 2017             1   \n",
       "4    30 Oct–5 Nov 2017             2   \n",
       "5  25–26 November 2017             1   \n",
       "6      8 December 2017             1   \n",
       "7                  NaN            21   \n",
       "\n",
       "                                           Qualified  \n",
       "0                             Valentina Aguado (ARG)  \n",
       "1  Sandra Lettner (AUT)  Elena Krasovskaia (RUS) ...  \n",
       "2                                 Mao Nakamura (JPN)  \n",
       "3                               Sarah Tetzlaff (NZL)  \n",
       "4       Alejandra Contreras (CHI)  Cat Carkner (CAN)  \n",
       "5                                  Nolwenn Arc (FRA)  \n",
       "6                              Angela Eckhardt (RSA)  \n",
       "7                                                NaN  "
      ]
     },
     "execution_count": 33,
     "metadata": {},
     "output_type": "execute_result"
    }
   ],
   "source": [
    "Dataset_Wiki_Climbing_2018_Youth_Summer_Olympics[3]"
   ]
  },
  {
   "cell_type": "markdown",
   "id": "55f2a867",
   "metadata": {},
   "source": [
    "[3] is about Qualified Girls from different World Region Championships > NOT to Discard. !! Host Nation Argentina has finally no qualified participant !!"
   ]
  },
  {
   "cell_type": "code",
   "execution_count": 34,
   "id": "1f829291",
   "metadata": {},
   "outputs": [],
   "source": [
    "Df_3_Wiki_IFSC_Climbing_2018_Youth_Summer_Olympics_Qualified_Girls = Dataset_Wiki_Climbing_2018_Youth_Summer_Olympics[3]"
   ]
  },
  {
   "cell_type": "code",
   "execution_count": 35,
   "id": "9716bbb6",
   "metadata": {},
   "outputs": [
    {
     "data": {
      "text/html": [
       "<div>\n",
       "<style scoped>\n",
       "    .dataframe tbody tr th:only-of-type {\n",
       "        vertical-align: middle;\n",
       "    }\n",
       "\n",
       "    .dataframe tbody tr th {\n",
       "        vertical-align: top;\n",
       "    }\n",
       "\n",
       "    .dataframe thead th {\n",
       "        text-align: right;\n",
       "    }\n",
       "</style>\n",
       "<table border=\"1\" class=\"dataframe\">\n",
       "  <thead>\n",
       "    <tr style=\"text-align: right;\">\n",
       "      <th></th>\n",
       "      <th>0</th>\n",
       "      <th>1</th>\n",
       "      <th>2</th>\n",
       "      <th>3</th>\n",
       "    </tr>\n",
       "  </thead>\n",
       "  <tbody>\n",
       "    <tr>\n",
       "      <th>0</th>\n",
       "      <td>Q</td>\n",
       "      <td>Qualifiers</td>\n",
       "      <td>F</td>\n",
       "      <td>Final</td>\n",
       "    </tr>\n",
       "  </tbody>\n",
       "</table>\n",
       "</div>"
      ],
      "text/plain": [
       "   0           1  2      3\n",
       "0  Q  Qualifiers  F  Final"
      ]
     },
     "execution_count": 35,
     "metadata": {},
     "output_type": "execute_result"
    }
   ],
   "source": [
    "Dataset_Wiki_Climbing_2018_Youth_Summer_Olympics[4]"
   ]
  },
  {
   "cell_type": "markdown",
   "id": "b9289879",
   "metadata": {},
   "source": [
    "[4] > to Discard."
   ]
  },
  {
   "cell_type": "code",
   "execution_count": 36,
   "id": "c6877998",
   "metadata": {},
   "outputs": [
    {
     "data": {
      "text/html": [
       "<div>\n",
       "<style scoped>\n",
       "    .dataframe tbody tr th:only-of-type {\n",
       "        vertical-align: middle;\n",
       "    }\n",
       "\n",
       "    .dataframe tbody tr th {\n",
       "        vertical-align: top;\n",
       "    }\n",
       "\n",
       "    .dataframe thead th {\n",
       "        text-align: right;\n",
       "    }\n",
       "</style>\n",
       "<table border=\"1\" class=\"dataframe\">\n",
       "  <thead>\n",
       "    <tr style=\"text-align: right;\">\n",
       "      <th></th>\n",
       "      <th>Event ↓ / Date →</th>\n",
       "      <th>Sun 7</th>\n",
       "      <th>Mon 8</th>\n",
       "      <th>Tue 9</th>\n",
       "      <th>Wed 10</th>\n",
       "    </tr>\n",
       "  </thead>\n",
       "  <tbody>\n",
       "    <tr>\n",
       "      <th>0</th>\n",
       "      <td>Girls' Combined</td>\n",
       "      <td>Q</td>\n",
       "      <td>NaN</td>\n",
       "      <td>F</td>\n",
       "      <td>NaN</td>\n",
       "    </tr>\n",
       "    <tr>\n",
       "      <th>1</th>\n",
       "      <td>Boys' Combined</td>\n",
       "      <td>NaN</td>\n",
       "      <td>Q</td>\n",
       "      <td>NaN</td>\n",
       "      <td>F</td>\n",
       "    </tr>\n",
       "  </tbody>\n",
       "</table>\n",
       "</div>"
      ],
      "text/plain": [
       "  Event ↓ / Date → Sun 7 Mon 8 Tue 9 Wed 10\n",
       "0  Girls' Combined     Q   NaN     F    NaN\n",
       "1   Boys' Combined   NaN     Q   NaN      F"
      ]
     },
     "execution_count": 36,
     "metadata": {},
     "output_type": "execute_result"
    }
   ],
   "source": [
    "Dataset_Wiki_Climbing_2018_Youth_Summer_Olympics[5]"
   ]
  },
  {
   "cell_type": "markdown",
   "id": "b3c42d0c",
   "metadata": {},
   "source": [
    "[5] > to Discard."
   ]
  },
  {
   "cell_type": "code",
   "execution_count": 37,
   "id": "c5176aea",
   "metadata": {},
   "outputs": [
    {
     "data": {
      "text/html": [
       "<div>\n",
       "<style scoped>\n",
       "    .dataframe tbody tr th:only-of-type {\n",
       "        vertical-align: middle;\n",
       "    }\n",
       "\n",
       "    .dataframe tbody tr th {\n",
       "        vertical-align: top;\n",
       "    }\n",
       "\n",
       "    .dataframe thead th {\n",
       "        text-align: right;\n",
       "    }\n",
       "</style>\n",
       "<table border=\"1\" class=\"dataframe\">\n",
       "  <thead>\n",
       "    <tr style=\"text-align: right;\">\n",
       "      <th></th>\n",
       "      <th>Rank</th>\n",
       "      <th>Nation</th>\n",
       "      <th>Gold</th>\n",
       "      <th>Silver</th>\n",
       "      <th>Bronze</th>\n",
       "      <th>Total</th>\n",
       "    </tr>\n",
       "  </thead>\n",
       "  <tbody>\n",
       "    <tr>\n",
       "      <th>0</th>\n",
       "      <td>1</td>\n",
       "      <td>Japan</td>\n",
       "      <td>1</td>\n",
       "      <td>1</td>\n",
       "      <td>0</td>\n",
       "      <td>2</td>\n",
       "    </tr>\n",
       "    <tr>\n",
       "      <th>1</th>\n",
       "      <td>2</td>\n",
       "      <td>Austria</td>\n",
       "      <td>1</td>\n",
       "      <td>0</td>\n",
       "      <td>1</td>\n",
       "      <td>2</td>\n",
       "    </tr>\n",
       "    <tr>\n",
       "      <th>2</th>\n",
       "      <td>3</td>\n",
       "      <td>Slovenia</td>\n",
       "      <td>0</td>\n",
       "      <td>1</td>\n",
       "      <td>0</td>\n",
       "      <td>1</td>\n",
       "    </tr>\n",
       "    <tr>\n",
       "      <th>3</th>\n",
       "      <td>4</td>\n",
       "      <td>France</td>\n",
       "      <td>0</td>\n",
       "      <td>0</td>\n",
       "      <td>1</td>\n",
       "      <td>1</td>\n",
       "    </tr>\n",
       "    <tr>\n",
       "      <th>4</th>\n",
       "      <td>Totals (4 entries)</td>\n",
       "      <td>Totals (4 entries)</td>\n",
       "      <td>2</td>\n",
       "      <td>2</td>\n",
       "      <td>2</td>\n",
       "      <td>6</td>\n",
       "    </tr>\n",
       "  </tbody>\n",
       "</table>\n",
       "</div>"
      ],
      "text/plain": [
       "                 Rank              Nation  Gold  Silver  Bronze  Total\n",
       "0                   1               Japan     1       1       0      2\n",
       "1                   2             Austria     1       0       1      2\n",
       "2                   3            Slovenia     0       1       0      1\n",
       "3                   4              France     0       0       1      1\n",
       "4  Totals (4 entries)  Totals (4 entries)     2       2       2      6"
      ]
     },
     "execution_count": 37,
     "metadata": {},
     "output_type": "execute_result"
    }
   ],
   "source": [
    "Dataset_Wiki_Climbing_2018_Youth_Summer_Olympics[6]"
   ]
  },
  {
   "cell_type": "markdown",
   "id": "e2e7c0a6",
   "metadata": {},
   "source": [
    "[6] is about Nation Medal Youth winner in COMBINED's discipline at 2018 Youth Summer Olympics > NOT to Discard."
   ]
  },
  {
   "cell_type": "code",
   "execution_count": 38,
   "id": "b1a5e079",
   "metadata": {},
   "outputs": [
    {
     "data": {
      "text/plain": [
       "Rank      object\n",
       "Nation    object\n",
       "Gold       int64\n",
       "Silver     int64\n",
       "Bronze     int64\n",
       "Total      int64\n",
       "dtype: object"
      ]
     },
     "execution_count": 38,
     "metadata": {},
     "output_type": "execute_result"
    }
   ],
   "source": [
    "Dataset_Wiki_Climbing_2018_Youth_Summer_Olympics[6].dtypes"
   ]
  },
  {
   "cell_type": "code",
   "execution_count": 39,
   "id": "744644a8",
   "metadata": {},
   "outputs": [
    {
     "name": "stdout",
     "output_type": "stream",
     "text": [
      "err: ('42S01', \"[42S01] [Microsoft][ODBC SQL Server Driver][SQL Server]There is already an object named 'Wiki_IFSC_Climbing_Summer_Olympics_Youth_2018_Countries_Total_Ranking_Df6' in the database. (2714) (SQLExecDirectW)\")\n"
     ]
    }
   ],
   "source": [
    "Wiki_IFSC_Climbing_Summer_Olympics_Youth_2018_Countries_Total_Ranking_Df6 = Dataset_Wiki_Climbing_2018_Youth_Summer_Olympics[6]\n",
    "\n",
    "# script de création d'une table ds SQL \n",
    "create_table = \"\"\"Create TABLE Wiki_IFSC_Climbing_Summer_Olympics_Youth_2018_Countries_Total_Ranking_Df6\n",
    "                                   ( \n",
    "                                        id INT IDENTITY PRIMARY KEY,\n",
    "                                        Rank VARCHAR(50),\n",
    "                                        Nation VARCHAR(50),\n",
    "                                        Gold INT,\n",
    "                                        Silver INT,\n",
    "                                        Bronze INT,\n",
    "                                        Total INT                                                                   \n",
    "                                   ) \"\"\"\n",
    "\n",
    "# launch session\n",
    "cnxn = pyodbc.connect(connection_string,autocommit=True) # no cursor.commit as Autocommit already\n",
    "cursor = cnxn.cursor() \n",
    "\n",
    "try: \n",
    "    # load script \"create \" \n",
    "    cursor.execute(create_table) \n",
    "    \n",
    "    # population de la table ds SQL\n",
    "    for i,row in Wiki_IFSC_Climbing_Summer_Olympics_Youth_2018_Countries_Total_Ranking_Df6.iterrows(): \n",
    "        row_dict=row.to_dict()\n",
    "        temp = template_SQL_insert_values('Wiki_IFSC_Climbing_Summer_Olympics_Youth_2018_Countries_Total_Ranking_Df6',row_dict)\n",
    "        cursor.execute(temp)\n",
    "   \n",
    "except Exception as err: \n",
    "    print('err:',err) \n",
    "try: \n",
    "    cursor.close()  # close session\n",
    "except Exception as err: \n",
    "    print('err:',err)"
   ]
  },
  {
   "cell_type": "code",
   "execution_count": 40,
   "id": "40236e71",
   "metadata": {},
   "outputs": [
    {
     "data": {
      "text/html": [
       "<div>\n",
       "<style scoped>\n",
       "    .dataframe tbody tr th:only-of-type {\n",
       "        vertical-align: middle;\n",
       "    }\n",
       "\n",
       "    .dataframe tbody tr th {\n",
       "        vertical-align: top;\n",
       "    }\n",
       "\n",
       "    .dataframe thead th {\n",
       "        text-align: right;\n",
       "    }\n",
       "</style>\n",
       "<table border=\"1\" class=\"dataframe\">\n",
       "  <thead>\n",
       "    <tr style=\"text-align: right;\">\n",
       "      <th></th>\n",
       "      <th>Event</th>\n",
       "      <th>Gold</th>\n",
       "      <th>Silver</th>\n",
       "      <th>Bronze</th>\n",
       "    </tr>\n",
       "  </thead>\n",
       "  <tbody>\n",
       "    <tr>\n",
       "      <th>0</th>\n",
       "      <td>Boys' combined details</td>\n",
       "      <td>Keita Dohi  Japan</td>\n",
       "      <td>Shuta Tanaka  Japan</td>\n",
       "      <td>Sam Avezou  France</td>\n",
       "    </tr>\n",
       "    <tr>\n",
       "      <th>1</th>\n",
       "      <td>Girls' combined details</td>\n",
       "      <td>Sandra Lettner  Austria</td>\n",
       "      <td>Vita Lukan  Slovenia</td>\n",
       "      <td>Laura Lammer  Austria</td>\n",
       "    </tr>\n",
       "  </tbody>\n",
       "</table>\n",
       "</div>"
      ],
      "text/plain": [
       "                     Event                     Gold                Silver  \\\n",
       "0   Boys' combined details        Keita Dohi  Japan   Shuta Tanaka  Japan   \n",
       "1  Girls' combined details  Sandra Lettner  Austria  Vita Lukan  Slovenia   \n",
       "\n",
       "                  Bronze  \n",
       "0     Sam Avezou  France  \n",
       "1  Laura Lammer  Austria  "
      ]
     },
     "execution_count": 40,
     "metadata": {},
     "output_type": "execute_result"
    }
   ],
   "source": [
    "Dataset_Wiki_Climbing_2018_Youth_Summer_Olympics[7]"
   ]
  },
  {
   "cell_type": "markdown",
   "id": "9ed81548",
   "metadata": {},
   "source": [
    "[7] is about Boys and Girls Medal winner full names and Nations in Combined's discipline at 2018 Youth Summer Olympics > NOT to Discard."
   ]
  },
  {
   "cell_type": "code",
   "execution_count": 41,
   "id": "d0340f2c",
   "metadata": {},
   "outputs": [
    {
     "data": {
      "text/plain": [
       "Index(['Event', 'Gold', 'Silver', 'Bronze'], dtype='object')"
      ]
     },
     "execution_count": 41,
     "metadata": {},
     "output_type": "execute_result"
    }
   ],
   "source": [
    "Dataset_Wiki_Climbing_2018_Youth_Summer_Olympics[7].columns"
   ]
  },
  {
   "cell_type": "code",
   "execution_count": 42,
   "id": "79f6f9fd",
   "metadata": {},
   "outputs": [],
   "source": [
    "# Replace 'Event' column by 'Year' to fit with other tables. Result for Gender and Discipline are in a specific table\n",
    "Dataset_Wiki_Climbing_2018_Youth_Summer_Olympics[7].columns =  ['Year','Gold','Silver','Bronze']"
   ]
  },
  {
   "cell_type": "code",
   "execution_count": 43,
   "id": "16ff5418",
   "metadata": {},
   "outputs": [],
   "source": [
    "Wiki_IFSC_Climbing_Summer_Olympics_Youth_2018_Medal_Boys_Combined_Df7 = Dataset_Wiki_Climbing_2018_Youth_Summer_Olympics[7].loc[0,:]\n",
    "Wiki_IFSC_Climbing_Summer_Olympics_Youth_2018_Medal_Girls_Combined_Df7 = Dataset_Wiki_Climbing_2018_Youth_Summer_Olympics[7].loc[1,:]"
   ]
  },
  {
   "cell_type": "code",
   "execution_count": 44,
   "id": "210cebe5",
   "metadata": {},
   "outputs": [
    {
     "data": {
      "text/plain": [
       "Year      Boys' combined details\n",
       "Gold           Keita Dohi  Japan\n",
       "Silver       Shuta Tanaka  Japan\n",
       "Bronze        Sam Avezou  France\n",
       "Name: 0, dtype: object"
      ]
     },
     "execution_count": 44,
     "metadata": {},
     "output_type": "execute_result"
    }
   ],
   "source": [
    "Wiki_IFSC_Climbing_Summer_Olympics_Youth_2018_Medal_Boys_Combined_Df7"
   ]
  },
  {
   "cell_type": "code",
   "execution_count": 45,
   "id": "6ee40e3d",
   "metadata": {},
   "outputs": [],
   "source": [
    "# script de création d'une table ds SQL \n",
    "create_table = \"\"\"Create TABLE Wiki_IFSC_Climbing_Summer_Olympics_Youth_2018_Medal_Boys_Combined_Df7\n",
    "                                   ( \n",
    "                                        id INT IDENTITY PRIMARY KEY,\n",
    "                                        Year VARCHAR(100),\n",
    "                                        Gold VARCHAR(100),\n",
    "                                        Silver VARCHAR(100),\n",
    "                                        Bronze VARCHAR(100),                                                                   \n",
    "                                   ) \"\"\"\n",
    "\n",
    "# script d'ajout des data d'une table ds SQL\n",
    "# le pays n'est pas ajouté, pour matcher avec les autres tables, et 2018 est ajouté ds champ Year\n",
    "populate_table = \"\"\"INSERT INTO Wiki_IFSC_Climbing_Summer_Olympics_Youth_2018_Medal_Boys_Combined_Df7 VALUES ('2018','Keita Dohi','Shuta Tanaka','Sam Avezou')\n",
    "                    \"\"\"\n",
    "                                  \n",
    "# launch session\n",
    "cnxn = pyodbc.connect(connection_string,autocommit=True) # no cursor.commit as Autocommit already\n",
    "cursor = cnxn.cursor() \n",
    "\n",
    "try: \n",
    "    # load script \"create \" \n",
    "    cursor.execute(create_table) \n",
    "    \n",
    "    # population de la table ds SQL\n",
    "    cursor.execute(populate_table) \n",
    "   \n",
    "except Exception as err: \n",
    "    print('err:',err) \n",
    "try: \n",
    "    cursor.close()  # close session\n",
    "except Exception as err: \n",
    "    print('err:',err)"
   ]
  },
  {
   "cell_type": "code",
   "execution_count": 46,
   "id": "70fe6908",
   "metadata": {},
   "outputs": [
    {
     "data": {
      "text/plain": [
       "Year      Girls' combined details\n",
       "Gold      Sandra Lettner  Austria\n",
       "Silver       Vita Lukan  Slovenia\n",
       "Bronze      Laura Lammer  Austria\n",
       "Name: 1, dtype: object"
      ]
     },
     "execution_count": 46,
     "metadata": {},
     "output_type": "execute_result"
    }
   ],
   "source": [
    "Wiki_IFSC_Climbing_Summer_Olympics_Youth_2018_Medal_Girls_Combined_Df7"
   ]
  },
  {
   "cell_type": "code",
   "execution_count": 47,
   "id": "ee14e4d7",
   "metadata": {},
   "outputs": [],
   "source": [
    "# script de création d'une table ds SQL \n",
    "create_table = \"\"\"Create TABLE Wiki_IFSC_Climbing_Summer_Olympics_Youth_2018_Medal_Girls_Combined_Df7\n",
    "                                   ( \n",
    "                                        id INT IDENTITY PRIMARY KEY,\n",
    "                                        Year VARCHAR(100),\n",
    "                                        Gold VARCHAR(100),\n",
    "                                        Silver VARCHAR(100),\n",
    "                                        Bronze VARCHAR(100),                                                                   \n",
    "                                   ) \"\"\"\n",
    "\n",
    "# script d'ajout des data d'une table ds SQL\n",
    "# le pays n'est pas ajouté, pour matcher avec les autres tables, et 2018 est ajouté ds champ Year\n",
    "populate_table = \"\"\"INSERT INTO Wiki_IFSC_Climbing_Summer_Olympics_Youth_2018_Medal_Girls_Combined_Df7 VALUES ('2018','Sandra Lettner ','Vita Lukan','Laura Lammer')\n",
    "                    \"\"\"\n",
    "                                  \n",
    "# launch session\n",
    "cnxn = pyodbc.connect(connection_string,autocommit=True) # no cursor.commit as Autocommit already\n",
    "cursor = cnxn.cursor() \n",
    "\n",
    "try: \n",
    "    # load script \"create \" \n",
    "    cursor.execute(create_table) \n",
    "    \n",
    "    # population de la table ds SQL\n",
    "    cursor.execute(populate_table) \n",
    "   \n",
    "except Exception as err: \n",
    "    print('err:',err) \n",
    "try: \n",
    "    cursor.close()  # close session\n",
    "except Exception as err: \n",
    "    print('err:',err)"
   ]
  },
  {
   "cell_type": "code",
   "execution_count": 48,
   "id": "54eb81dc",
   "metadata": {},
   "outputs": [
    {
     "data": {
      "text/html": [
       "<div>\n",
       "<style scoped>\n",
       "    .dataframe tbody tr th:only-of-type {\n",
       "        vertical-align: middle;\n",
       "    }\n",
       "\n",
       "    .dataframe tbody tr th {\n",
       "        vertical-align: top;\n",
       "    }\n",
       "\n",
       "    .dataframe thead th {\n",
       "        text-align: right;\n",
       "    }\n",
       "</style>\n",
       "<table border=\"1\" class=\"dataframe\">\n",
       "  <thead>\n",
       "    <tr style=\"text-align: right;\">\n",
       "      <th></th>\n",
       "      <th>vteEvents at the 2018 Summer Youth Olympics in Buenos Aires, Argentina</th>\n",
       "      <th>vteEvents at the 2018 Summer Youth Olympics in Buenos Aires, Argentina.1</th>\n",
       "    </tr>\n",
       "  </thead>\n",
       "  <tbody>\n",
       "    <tr>\n",
       "      <th>0</th>\n",
       "      <td>Archery Athletics Badminton Basketball Beach h...</td>\n",
       "      <td>Archery Athletics Badminton Basketball Beach h...</td>\n",
       "    </tr>\n",
       "  </tbody>\n",
       "</table>\n",
       "</div>"
      ],
      "text/plain": [
       "  vteEvents at the 2018 Summer Youth Olympics in Buenos Aires, Argentina  \\\n",
       "0  Archery Athletics Badminton Basketball Beach h...                       \n",
       "\n",
       "  vteEvents at the 2018 Summer Youth Olympics in Buenos Aires, Argentina.1  \n",
       "0  Archery Athletics Badminton Basketball Beach h...                        "
      ]
     },
     "execution_count": 48,
     "metadata": {},
     "output_type": "execute_result"
    }
   ],
   "source": [
    "Dataset_Wiki_Climbing_2018_Youth_Summer_Olympics[8]"
   ]
  }
 ],
 "metadata": {
  "kernelspec": {
   "display_name": "Python 3 (ipykernel)",
   "language": "python",
   "name": "python3"
  },
  "language_info": {
   "codemirror_mode": {
    "name": "ipython",
    "version": 3
   },
   "file_extension": ".py",
   "mimetype": "text/x-python",
   "name": "python",
   "nbconvert_exporter": "python",
   "pygments_lexer": "ipython3",
   "version": "3.11.9"
  }
 },
 "nbformat": 4,
 "nbformat_minor": 5
}
