{
 "cells": [
  {
   "cell_type": "markdown",
   "id": "73ea9c6d",
   "metadata": {},
   "source": [
    "### Webscrapping with Pandas pd.read_html()  + ODBC on SQL Server with pyodbc"
   ]
  },
  {
   "cell_type": "markdown",
   "id": "2001a642",
   "metadata": {},
   "source": [
    "#### Source : Wikipedia / Sport climbing at the Summer Olympics"
   ]
  },
  {
   "cell_type": "markdown",
   "id": "fc95af51",
   "metadata": {},
   "source": [
    "Competition climbing made its Olympic debut at the 2020 Summer Olympics in Tokyo, Japan (postponed to 2021 due to the COVID-19 pandemic)."
   ]
  },
  {
   "cell_type": "markdown",
   "id": "6c5aafda",
   "metadata": {},
   "source": [
    "Two events were held, one each for men and women. The format controversially consisted of 1 single combined event with three disciplines: lead climbing, speed climbing and bouldering. The medals were determined based on best performance across all three disciplines"
   ]
  },
  {
   "cell_type": "code",
   "execution_count": 31,
   "id": "669a39fa",
   "metadata": {},
   "outputs": [],
   "source": [
    "import numpy as np\n",
    "import pandas as pd\n",
    "# Beautifulsoup already installed into Anaconda environment\n",
    "\n",
    "# Librairy PyODBC for SQL Server connection\n",
    "import os\n",
    "import pyodbc\n",
    "# setup SQL Server connection session\n",
    "server = '-PCSJN\\DATAVIZ'  \n",
    "database = 'Climbing_Staging'\n",
    "connection_string= (\n",
    "                    'DRIVER={SQL Server};SERVER='\n",
    "                     + server\n",
    "                     + ';DATABASE='\n",
    "                     + database \n",
    "                     + ';Trusted_Connection=yes'                  \n",
    "                    )\n",
    "\n",
    "# Function for injecting dataframe content into SQL Server Table\n",
    "def template_SQL_insert_values(table_name,dict):\n",
    "    \n",
    "    columns = \"(\"\n",
    "    for k in dict.keys():\n",
    "        columns += str(k) + ','\n",
    "    columns = columns[:-1] ### remove last comma\n",
    "    columns += \")\"\n",
    "    \n",
    "    req = f\"\"\"INSERT INTO {table_name} {columns} VALUES {tuple(dict.values())}\"\"\"\n",
    "    return req"
   ]
  },
  {
   "cell_type": "code",
   "execution_count": 32,
   "id": "f789ecf1",
   "metadata": {},
   "outputs": [
    {
     "data": {
      "text/plain": [
       "(list, 9)"
      ]
     },
     "execution_count": 32,
     "metadata": {},
     "output_type": "execute_result"
    }
   ],
   "source": [
    "### url\n",
    "Wiki_Climbing_Summer_Olympics_2020 = \"https://en.wikipedia.org/wiki/Sport_climbing_at_the_2020_Summer_Olympics\"\n",
    "### récuperer toutes les tables html vu sur le site (url)\n",
    "Dataset_Wiki_Climbing_Summer_Olympics_2020 = pd.read_html(Wiki_Climbing_Summer_Olympics_2020)\n",
    "type(Dataset_Wiki_Climbing_Summer_Olympics_2020), len(Dataset_Wiki_Climbing_Summer_Olympics_2020)"
   ]
  },
  {
   "cell_type": "markdown",
   "id": "33d96a1a",
   "metadata": {},
   "source": [
    "##### on récupère 1 list de 9 élts"
   ]
  },
  {
   "cell_type": "code",
   "execution_count": 4,
   "id": "bc12a62b",
   "metadata": {},
   "outputs": [
    {
     "data": {
      "text/plain": [
       "pandas.core.frame.DataFrame"
      ]
     },
     "execution_count": 4,
     "metadata": {},
     "output_type": "execute_result"
    }
   ],
   "source": [
    "type(Dataset_Wiki_Climbing_Summer_Olympics_2020[0])"
   ]
  },
  {
   "cell_type": "markdown",
   "id": "f64692b3",
   "metadata": {},
   "source": [
    "##### > Chaque élt est un DataFrame Pandas\n",
    "##### ? Quel est le contenu chacun des 18 dataframes ? Lesquelles nous interessent ?"
   ]
  },
  {
   "cell_type": "code",
   "execution_count": 5,
   "id": "65fa8500",
   "metadata": {},
   "outputs": [
    {
     "data": {
      "text/html": [
       "<div>\n",
       "<style scoped>\n",
       "    .dataframe tbody tr th:only-of-type {\n",
       "        vertical-align: middle;\n",
       "    }\n",
       "\n",
       "    .dataframe tbody tr th {\n",
       "        vertical-align: top;\n",
       "    }\n",
       "\n",
       "    .dataframe thead th {\n",
       "        text-align: right;\n",
       "    }\n",
       "</style>\n",
       "<table border=\"1\" class=\"dataframe\">\n",
       "  <thead>\n",
       "    <tr style=\"text-align: right;\">\n",
       "      <th></th>\n",
       "      <th>Competition climbing at the Games of the XXXII Olympiad</th>\n",
       "      <th>Competition climbing at the Games of the XXXII Olympiad.1</th>\n",
       "    </tr>\n",
       "  </thead>\n",
       "  <tbody>\n",
       "    <tr>\n",
       "      <th>0</th>\n",
       "      <td>NaN</td>\n",
       "      <td>NaN</td>\n",
       "    </tr>\n",
       "    <tr>\n",
       "      <th>1</th>\n",
       "      <td>Venue</td>\n",
       "      <td>Aomi Urban Sports Park, Tokyo</td>\n",
       "    </tr>\n",
       "    <tr>\n",
       "      <th>2</th>\n",
       "      <td>Dates</td>\n",
       "      <td>3–6 August 2021</td>\n",
       "    </tr>\n",
       "    <tr>\n",
       "      <th>3</th>\n",
       "      <td>No. of events</td>\n",
       "      <td>2</td>\n",
       "    </tr>\n",
       "    <tr>\n",
       "      <th>4</th>\n",
       "      <td>Competitors</td>\n",
       "      <td>40 from 19 nations</td>\n",
       "    </tr>\n",
       "    <tr>\n",
       "      <th>5</th>\n",
       "      <td>2024 →</td>\n",
       "      <td>2024 →</td>\n",
       "    </tr>\n",
       "  </tbody>\n",
       "</table>\n",
       "</div>"
      ],
      "text/plain": [
       "  Competition climbing at the Games of the XXXII Olympiad  \\\n",
       "0                                                NaN        \n",
       "1                                              Venue        \n",
       "2                                              Dates        \n",
       "3                                      No. of events        \n",
       "4                                        Competitors        \n",
       "5                                             2024 →        \n",
       "\n",
       "  Competition climbing at the Games of the XXXII Olympiad.1  \n",
       "0                                                NaN         \n",
       "1                      Aomi Urban Sports Park, Tokyo         \n",
       "2                                    3–6 August 2021         \n",
       "3                                                  2         \n",
       "4                                 40 from 19 nations         \n",
       "5                                             2024 →         "
      ]
     },
     "execution_count": 5,
     "metadata": {},
     "output_type": "execute_result"
    }
   ],
   "source": [
    "Dataset_Wiki_Climbing_Summer_Olympics_2020[0]"
   ]
  },
  {
   "cell_type": "markdown",
   "id": "0c3ca9b2",
   "metadata": {},
   "source": [
    "######## [0] is dataset of summarized data about Sport Climbing at 2020 Summer Olympics dataset"
   ]
  },
  {
   "cell_type": "code",
   "execution_count": 30,
   "id": "c27ceede",
   "metadata": {},
   "outputs": [
    {
     "data": {
      "text/html": [
       "<div>\n",
       "<style scoped>\n",
       "    .dataframe tbody tr th:only-of-type {\n",
       "        vertical-align: middle;\n",
       "    }\n",
       "\n",
       "    .dataframe tbody tr th {\n",
       "        vertical-align: top;\n",
       "    }\n",
       "\n",
       "    .dataframe thead th {\n",
       "        text-align: right;\n",
       "    }\n",
       "</style>\n",
       "<table border=\"1\" class=\"dataframe\">\n",
       "  <thead>\n",
       "    <tr style=\"text-align: right;\">\n",
       "      <th></th>\n",
       "      <th>Games</th>\n",
       "      <th>Events</th>\n",
       "      <th>Best nations</th>\n",
       "    </tr>\n",
       "  </thead>\n",
       "  <tbody>\n",
       "    <tr>\n",
       "      <th>0</th>\n",
       "      <td>2020 Summer Olympics</td>\n",
       "      <td>2</td>\n",
       "      <td>Spain (1)  Slovenia (1)</td>\n",
       "    </tr>\n",
       "    <tr>\n",
       "      <th>1</th>\n",
       "      <td>2024 Summer Olympics</td>\n",
       "      <td>4</td>\n",
       "      <td>Poland (1)</td>\n",
       "    </tr>\n",
       "  </tbody>\n",
       "</table>\n",
       "</div>"
      ],
      "text/plain": [
       "                  Games  Events             Best nations\n",
       "0  2020 Summer Olympics       2  Spain (1)  Slovenia (1)\n",
       "1  2024 Summer Olympics       4               Poland (1)"
      ]
     },
     "execution_count": 30,
     "metadata": {},
     "output_type": "execute_result"
    }
   ],
   "source": [
    "Dataset_Wiki_Climbing_Summer_Olympics_2020[1]"
   ]
  },
  {
   "cell_type": "markdown",
   "id": "d2521ef3",
   "metadata": {},
   "source": [
    "######## [1] is the Nb of Events at 2020 and 2024 Summer Olympics and Best Nations"
   ]
  },
  {
   "cell_type": "code",
   "execution_count": 6,
   "id": "3b498511",
   "metadata": {},
   "outputs": [
    {
     "data": {
      "text/html": [
       "<div>\n",
       "<style scoped>\n",
       "    .dataframe tbody tr th:only-of-type {\n",
       "        vertical-align: middle;\n",
       "    }\n",
       "\n",
       "    .dataframe tbody tr th {\n",
       "        vertical-align: top;\n",
       "    }\n",
       "\n",
       "    .dataframe thead th {\n",
       "        text-align: right;\n",
       "    }\n",
       "</style>\n",
       "<table border=\"1\" class=\"dataframe\">\n",
       "  <thead>\n",
       "    <tr style=\"text-align: right;\">\n",
       "      <th></th>\n",
       "      <th>Date</th>\n",
       "      <th>Aug 3</th>\n",
       "      <th>Aug 3.1</th>\n",
       "      <th>Aug 3.2</th>\n",
       "      <th>Aug 4</th>\n",
       "      <th>Aug 4.1</th>\n",
       "      <th>Aug 4.2</th>\n",
       "      <th>Aug 5</th>\n",
       "      <th>Aug 5.1</th>\n",
       "      <th>Aug 5.2</th>\n",
       "      <th>Aug 6</th>\n",
       "      <th>Aug 6.1</th>\n",
       "      <th>Aug 6.2</th>\n",
       "    </tr>\n",
       "  </thead>\n",
       "  <tbody>\n",
       "    <tr>\n",
       "      <th>0</th>\n",
       "      <td>Men's</td>\n",
       "      <td>S Qualification: Speed climbing</td>\n",
       "      <td>B Qualification: Bouldering</td>\n",
       "      <td>L Qualification: Lead climbing</td>\n",
       "      <td>NaN</td>\n",
       "      <td>NaN</td>\n",
       "      <td>NaN</td>\n",
       "      <td>S Finals: Speed climbing</td>\n",
       "      <td>B Finals: Bouldering</td>\n",
       "      <td>L Finals: Lead climbing</td>\n",
       "      <td>NaN</td>\n",
       "      <td>NaN</td>\n",
       "      <td>NaN</td>\n",
       "    </tr>\n",
       "    <tr>\n",
       "      <th>1</th>\n",
       "      <td>Women's</td>\n",
       "      <td>NaN</td>\n",
       "      <td>NaN</td>\n",
       "      <td>NaN</td>\n",
       "      <td>S Qualification: Speed climbing</td>\n",
       "      <td>B Qualification: Bouldering</td>\n",
       "      <td>L Qualification: Lead climbing</td>\n",
       "      <td>NaN</td>\n",
       "      <td>NaN</td>\n",
       "      <td>NaN</td>\n",
       "      <td>S Finals: Speed climbing</td>\n",
       "      <td>B Finals: Bouldering</td>\n",
       "      <td>L Finals: Lead climbing</td>\n",
       "    </tr>\n",
       "    <tr>\n",
       "      <th>2</th>\n",
       "      <td>S = Speed, B = Bouldering, L = Lead</td>\n",
       "      <td>S = Speed, B = Bouldering, L = Lead</td>\n",
       "      <td>S = Speed, B = Bouldering, L = Lead</td>\n",
       "      <td>S = Speed, B = Bouldering, L = Lead</td>\n",
       "      <td>S = Speed, B = Bouldering, L = Lead</td>\n",
       "      <td>S = Speed, B = Bouldering, L = Lead</td>\n",
       "      <td>S = Speed, B = Bouldering, L = Lead</td>\n",
       "      <td>S = Speed, B = Bouldering, L = Lead</td>\n",
       "      <td>S = Speed, B = Bouldering, L = Lead</td>\n",
       "      <td>S = Speed, B = Bouldering, L = Lead</td>\n",
       "      <td>S = Speed, B = Bouldering, L = Lead</td>\n",
       "      <td>S = Speed, B = Bouldering, L = Lead</td>\n",
       "      <td>S = Speed, B = Bouldering, L = Lead</td>\n",
       "    </tr>\n",
       "  </tbody>\n",
       "</table>\n",
       "</div>"
      ],
      "text/plain": [
       "                                  Date                                Aug 3  \\\n",
       "0                                Men's      S Qualification: Speed climbing   \n",
       "1                              Women's                                  NaN   \n",
       "2  S = Speed, B = Bouldering, L = Lead  S = Speed, B = Bouldering, L = Lead   \n",
       "\n",
       "                               Aug 3.1                              Aug 3.2  \\\n",
       "0          B Qualification: Bouldering       L Qualification: Lead climbing   \n",
       "1                                  NaN                                  NaN   \n",
       "2  S = Speed, B = Bouldering, L = Lead  S = Speed, B = Bouldering, L = Lead   \n",
       "\n",
       "                                 Aug 4                              Aug 4.1  \\\n",
       "0                                  NaN                                  NaN   \n",
       "1      S Qualification: Speed climbing          B Qualification: Bouldering   \n",
       "2  S = Speed, B = Bouldering, L = Lead  S = Speed, B = Bouldering, L = Lead   \n",
       "\n",
       "                               Aug 4.2                                Aug 5  \\\n",
       "0                                  NaN             S Finals: Speed climbing   \n",
       "1       L Qualification: Lead climbing                                  NaN   \n",
       "2  S = Speed, B = Bouldering, L = Lead  S = Speed, B = Bouldering, L = Lead   \n",
       "\n",
       "                               Aug 5.1                              Aug 5.2  \\\n",
       "0                 B Finals: Bouldering              L Finals: Lead climbing   \n",
       "1                                  NaN                                  NaN   \n",
       "2  S = Speed, B = Bouldering, L = Lead  S = Speed, B = Bouldering, L = Lead   \n",
       "\n",
       "                                 Aug 6                              Aug 6.1  \\\n",
       "0                                  NaN                                  NaN   \n",
       "1             S Finals: Speed climbing                 B Finals: Bouldering   \n",
       "2  S = Speed, B = Bouldering, L = Lead  S = Speed, B = Bouldering, L = Lead   \n",
       "\n",
       "                               Aug 6.2  \n",
       "0                                  NaN  \n",
       "1              L Finals: Lead climbing  \n",
       "2  S = Speed, B = Bouldering, L = Lead  "
      ]
     },
     "execution_count": 6,
     "metadata": {},
     "output_type": "execute_result"
    }
   ],
   "source": [
    "Dataset_Wiki_Climbing_Summer_Olympics_2020[2]"
   ]
  },
  {
   "cell_type": "markdown",
   "id": "6f893c16",
   "metadata": {},
   "source": [
    "[2] is about Program of Climbing events at 2020 Summer Olympics"
   ]
  },
  {
   "cell_type": "code",
   "execution_count": 7,
   "id": "63ca6e69",
   "metadata": {},
   "outputs": [
    {
     "data": {
      "text/html": [
       "<div>\n",
       "<style scoped>\n",
       "    .dataframe tbody tr th:only-of-type {\n",
       "        vertical-align: middle;\n",
       "    }\n",
       "\n",
       "    .dataframe tbody tr th {\n",
       "        vertical-align: top;\n",
       "    }\n",
       "\n",
       "    .dataframe thead th {\n",
       "        text-align: right;\n",
       "    }\n",
       "</style>\n",
       "<table border=\"1\" class=\"dataframe\">\n",
       "  <thead>\n",
       "    <tr style=\"text-align: right;\">\n",
       "      <th></th>\n",
       "      <th>0</th>\n",
       "      <th>1</th>\n",
       "      <th>2</th>\n",
       "      <th>3</th>\n",
       "    </tr>\n",
       "  </thead>\n",
       "  <tbody>\n",
       "    <tr>\n",
       "      <th>0</th>\n",
       "      <td>Q</td>\n",
       "      <td>Qualification</td>\n",
       "      <td>F</td>\n",
       "      <td>Finals</td>\n",
       "    </tr>\n",
       "  </tbody>\n",
       "</table>\n",
       "</div>"
      ],
      "text/plain": [
       "   0              1  2       3\n",
       "0  Q  Qualification  F  Finals"
      ]
     },
     "execution_count": 7,
     "metadata": {},
     "output_type": "execute_result"
    }
   ],
   "source": [
    "Dataset_Wiki_Climbing_Summer_Olympics_2020[3]"
   ]
  },
  {
   "cell_type": "markdown",
   "id": "55f2a867",
   "metadata": {},
   "source": [
    "[3] > to Discard."
   ]
  },
  {
   "cell_type": "code",
   "execution_count": 33,
   "id": "9716bbb6",
   "metadata": {},
   "outputs": [
    {
     "data": {
      "text/html": [
       "<div>\n",
       "<style scoped>\n",
       "    .dataframe tbody tr th:only-of-type {\n",
       "        vertical-align: middle;\n",
       "    }\n",
       "\n",
       "    .dataframe tbody tr th {\n",
       "        vertical-align: top;\n",
       "    }\n",
       "\n",
       "    .dataframe thead th {\n",
       "        text-align: right;\n",
       "    }\n",
       "</style>\n",
       "<table border=\"1\" class=\"dataframe\">\n",
       "  <thead>\n",
       "    <tr style=\"text-align: right;\">\n",
       "      <th></th>\n",
       "      <th>Rank</th>\n",
       "      <th>NOC</th>\n",
       "      <th>Gold</th>\n",
       "      <th>Silver</th>\n",
       "      <th>Bronze</th>\n",
       "      <th>Total</th>\n",
       "    </tr>\n",
       "  </thead>\n",
       "  <tbody>\n",
       "    <tr>\n",
       "      <th>0</th>\n",
       "      <td>1</td>\n",
       "      <td>Slovenia</td>\n",
       "      <td>1</td>\n",
       "      <td>0</td>\n",
       "      <td>0</td>\n",
       "      <td>1</td>\n",
       "    </tr>\n",
       "    <tr>\n",
       "      <th>1</th>\n",
       "      <td>1</td>\n",
       "      <td>Spain</td>\n",
       "      <td>1</td>\n",
       "      <td>0</td>\n",
       "      <td>0</td>\n",
       "      <td>1</td>\n",
       "    </tr>\n",
       "    <tr>\n",
       "      <th>2</th>\n",
       "      <td>3</td>\n",
       "      <td>Japan*</td>\n",
       "      <td>0</td>\n",
       "      <td>1</td>\n",
       "      <td>1</td>\n",
       "      <td>2</td>\n",
       "    </tr>\n",
       "    <tr>\n",
       "      <th>3</th>\n",
       "      <td>4</td>\n",
       "      <td>United States</td>\n",
       "      <td>0</td>\n",
       "      <td>1</td>\n",
       "      <td>0</td>\n",
       "      <td>1</td>\n",
       "    </tr>\n",
       "    <tr>\n",
       "      <th>4</th>\n",
       "      <td>5</td>\n",
       "      <td>Austria</td>\n",
       "      <td>0</td>\n",
       "      <td>0</td>\n",
       "      <td>1</td>\n",
       "      <td>1</td>\n",
       "    </tr>\n",
       "    <tr>\n",
       "      <th>5</th>\n",
       "      <td>Totals (5 entries)</td>\n",
       "      <td>Totals (5 entries)</td>\n",
       "      <td>2</td>\n",
       "      <td>2</td>\n",
       "      <td>2</td>\n",
       "      <td>6</td>\n",
       "    </tr>\n",
       "  </tbody>\n",
       "</table>\n",
       "</div>"
      ],
      "text/plain": [
       "                 Rank                 NOC  Gold  Silver  Bronze  Total\n",
       "0                   1            Slovenia     1       0       0      1\n",
       "1                   1               Spain     1       0       0      1\n",
       "2                   3              Japan*     0       1       1      2\n",
       "3                   4       United States     0       1       0      1\n",
       "4                   5             Austria     0       0       1      1\n",
       "5  Totals (5 entries)  Totals (5 entries)     2       2       2      6"
      ]
     },
     "execution_count": 33,
     "metadata": {},
     "output_type": "execute_result"
    }
   ],
   "source": [
    "Dataset_Wiki_Climbing_Summer_Olympics_2020[4]"
   ]
  },
  {
   "cell_type": "markdown",
   "id": "bf659391",
   "metadata": {},
   "source": [
    "[4] is the Nations Medal table at 2020 Summer Olympics"
   ]
  },
  {
   "cell_type": "code",
   "execution_count": 34,
   "id": "183e89ca",
   "metadata": {},
   "outputs": [
    {
     "data": {
      "text/plain": [
       "Index(['Rank', 'NOC', 'Gold', 'Silver', 'Bronze', 'Total'], dtype='object')"
      ]
     },
     "execution_count": 34,
     "metadata": {},
     "output_type": "execute_result"
    }
   ],
   "source": [
    "Dataset_Wiki_Climbing_Summer_Olympics_2020[4].columns"
   ]
  },
  {
   "cell_type": "code",
   "execution_count": 24,
   "id": "b764b549",
   "metadata": {},
   "outputs": [
    {
     "data": {
      "text/html": [
       "<div>\n",
       "<style scoped>\n",
       "    .dataframe tbody tr th:only-of-type {\n",
       "        vertical-align: middle;\n",
       "    }\n",
       "\n",
       "    .dataframe tbody tr th {\n",
       "        vertical-align: top;\n",
       "    }\n",
       "\n",
       "    .dataframe thead th {\n",
       "        text-align: right;\n",
       "    }\n",
       "</style>\n",
       "<table border=\"1\" class=\"dataframe\">\n",
       "  <thead>\n",
       "    <tr style=\"text-align: right;\">\n",
       "      <th></th>\n",
       "      <th>Rank</th>\n",
       "      <th>Nation</th>\n",
       "      <th>Gold</th>\n",
       "      <th>Silver</th>\n",
       "      <th>Bronze</th>\n",
       "      <th>Total</th>\n",
       "    </tr>\n",
       "  </thead>\n",
       "  <tbody>\n",
       "    <tr>\n",
       "      <th>0</th>\n",
       "      <td>1</td>\n",
       "      <td>Slovenia</td>\n",
       "      <td>1</td>\n",
       "      <td>0</td>\n",
       "      <td>0</td>\n",
       "      <td>1</td>\n",
       "    </tr>\n",
       "    <tr>\n",
       "      <th>1</th>\n",
       "      <td>1</td>\n",
       "      <td>Spain</td>\n",
       "      <td>1</td>\n",
       "      <td>0</td>\n",
       "      <td>0</td>\n",
       "      <td>1</td>\n",
       "    </tr>\n",
       "    <tr>\n",
       "      <th>2</th>\n",
       "      <td>3</td>\n",
       "      <td>Japan</td>\n",
       "      <td>0</td>\n",
       "      <td>1</td>\n",
       "      <td>1</td>\n",
       "      <td>2</td>\n",
       "    </tr>\n",
       "    <tr>\n",
       "      <th>3</th>\n",
       "      <td>4</td>\n",
       "      <td>United States</td>\n",
       "      <td>0</td>\n",
       "      <td>1</td>\n",
       "      <td>0</td>\n",
       "      <td>1</td>\n",
       "    </tr>\n",
       "    <tr>\n",
       "      <th>4</th>\n",
       "      <td>5</td>\n",
       "      <td>Austria</td>\n",
       "      <td>0</td>\n",
       "      <td>0</td>\n",
       "      <td>1</td>\n",
       "      <td>1</td>\n",
       "    </tr>\n",
       "    <tr>\n",
       "      <th>5</th>\n",
       "      <td>Totals (5 entries)</td>\n",
       "      <td>Totals (5 entries)</td>\n",
       "      <td>2</td>\n",
       "      <td>2</td>\n",
       "      <td>2</td>\n",
       "      <td>6</td>\n",
       "    </tr>\n",
       "  </tbody>\n",
       "</table>\n",
       "</div>"
      ],
      "text/plain": [
       "                 Rank              Nation  Gold  Silver  Bronze  Total\n",
       "0                   1            Slovenia     1       0       0      1\n",
       "1                   1               Spain     1       0       0      1\n",
       "2                   3               Japan     0       1       1      2\n",
       "3                   4       United States     0       1       0      1\n",
       "4                   5             Austria     0       0       1      1\n",
       "5  Totals (5 entries)  Totals (5 entries)     2       2       2      6"
      ]
     },
     "execution_count": 24,
     "metadata": {},
     "output_type": "execute_result"
    }
   ],
   "source": [
    "# Rename Column NOC to match with other competition tables\n",
    "Dataset_Wiki_Climbing_Summer_Olympics_2020[4].columns = ['Rank','Nation','Gold','Silver','Bronze','Total']\n",
    "Dataset_Wiki_Climbing_Summer_Olympics_2020[4]                                                                                                           "
   ]
  },
  {
   "cell_type": "code",
   "execution_count": 35,
   "id": "9ae3e876",
   "metadata": {},
   "outputs": [
    {
     "data": {
      "text/plain": [
       "'Japan*'"
      ]
     },
     "execution_count": 35,
     "metadata": {},
     "output_type": "execute_result"
    }
   ],
   "source": [
    "Dataset_Wiki_Climbing_Summer_Olympics_2020[4].iloc[2,1]"
   ]
  },
  {
   "cell_type": "code",
   "execution_count": 36,
   "id": "b8c6f817",
   "metadata": {},
   "outputs": [],
   "source": [
    "# Remove * on Japan\n",
    "# # Translate Country Names in French to Match with other Tables de Data (géographiques, Démographiques, ...)\n",
    "Dataset_Wiki_Climbing_Summer_Olympics_2020[4].iloc[0,1] = 'Slovénie'\n",
    "Dataset_Wiki_Climbing_Summer_Olympics_2020[4].iloc[1,1] = 'Espagne'\n",
    "Dataset_Wiki_Climbing_Summer_Olympics_2020[4].iloc[2,1] = 'Japan'\n",
    "Dataset_Wiki_Climbing_Summer_Olympics_2020[4].iloc[3,1] = 'États-Unis'\n",
    "Dataset_Wiki_Climbing_Summer_Olympics_2020[4].iloc[3,1] = 'Autriche'\n"
   ]
  },
  {
   "cell_type": "code",
   "execution_count": 37,
   "id": "4bbffdb3",
   "metadata": {},
   "outputs": [
    {
     "data": {
      "text/html": [
       "<div>\n",
       "<style scoped>\n",
       "    .dataframe tbody tr th:only-of-type {\n",
       "        vertical-align: middle;\n",
       "    }\n",
       "\n",
       "    .dataframe tbody tr th {\n",
       "        vertical-align: top;\n",
       "    }\n",
       "\n",
       "    .dataframe thead th {\n",
       "        text-align: right;\n",
       "    }\n",
       "</style>\n",
       "<table border=\"1\" class=\"dataframe\">\n",
       "  <thead>\n",
       "    <tr style=\"text-align: right;\">\n",
       "      <th></th>\n",
       "      <th>Rank</th>\n",
       "      <th>NOC</th>\n",
       "      <th>Gold</th>\n",
       "      <th>Silver</th>\n",
       "      <th>Bronze</th>\n",
       "      <th>Total</th>\n",
       "    </tr>\n",
       "  </thead>\n",
       "  <tbody>\n",
       "    <tr>\n",
       "      <th>0</th>\n",
       "      <td>1</td>\n",
       "      <td>Slovénie</td>\n",
       "      <td>1</td>\n",
       "      <td>0</td>\n",
       "      <td>0</td>\n",
       "      <td>1</td>\n",
       "    </tr>\n",
       "    <tr>\n",
       "      <th>1</th>\n",
       "      <td>1</td>\n",
       "      <td>Espagne</td>\n",
       "      <td>1</td>\n",
       "      <td>0</td>\n",
       "      <td>0</td>\n",
       "      <td>1</td>\n",
       "    </tr>\n",
       "    <tr>\n",
       "      <th>2</th>\n",
       "      <td>3</td>\n",
       "      <td>Japan</td>\n",
       "      <td>0</td>\n",
       "      <td>1</td>\n",
       "      <td>1</td>\n",
       "      <td>2</td>\n",
       "    </tr>\n",
       "    <tr>\n",
       "      <th>3</th>\n",
       "      <td>4</td>\n",
       "      <td>Autriche</td>\n",
       "      <td>0</td>\n",
       "      <td>1</td>\n",
       "      <td>0</td>\n",
       "      <td>1</td>\n",
       "    </tr>\n",
       "    <tr>\n",
       "      <th>4</th>\n",
       "      <td>5</td>\n",
       "      <td>Austria</td>\n",
       "      <td>0</td>\n",
       "      <td>0</td>\n",
       "      <td>1</td>\n",
       "      <td>1</td>\n",
       "    </tr>\n",
       "    <tr>\n",
       "      <th>5</th>\n",
       "      <td>Totals (5 entries)</td>\n",
       "      <td>Totals (5 entries)</td>\n",
       "      <td>2</td>\n",
       "      <td>2</td>\n",
       "      <td>2</td>\n",
       "      <td>6</td>\n",
       "    </tr>\n",
       "  </tbody>\n",
       "</table>\n",
       "</div>"
      ],
      "text/plain": [
       "                 Rank                 NOC  Gold  Silver  Bronze  Total\n",
       "0                   1            Slovénie     1       0       0      1\n",
       "1                   1             Espagne     1       0       0      1\n",
       "2                   3               Japan     0       1       1      2\n",
       "3                   4            Autriche     0       1       0      1\n",
       "4                   5             Austria     0       0       1      1\n",
       "5  Totals (5 entries)  Totals (5 entries)     2       2       2      6"
      ]
     },
     "execution_count": 37,
     "metadata": {},
     "output_type": "execute_result"
    }
   ],
   "source": [
    "Dataset_Wiki_Climbing_Summer_Olympics_2020[4]"
   ]
  },
  {
   "cell_type": "code",
   "execution_count": 38,
   "id": "0aba3399",
   "metadata": {},
   "outputs": [
    {
     "data": {
      "text/plain": [
       "Rank      object\n",
       "NOC       object\n",
       "Gold       int64\n",
       "Silver     int64\n",
       "Bronze     int64\n",
       "Total      int64\n",
       "dtype: object"
      ]
     },
     "execution_count": 38,
     "metadata": {},
     "output_type": "execute_result"
    }
   ],
   "source": [
    "Dataset_Wiki_Climbing_Summer_Olympics_2020[4].dtypes"
   ]
  },
  {
   "cell_type": "code",
   "execution_count": 39,
   "id": "5b553537",
   "metadata": {},
   "outputs": [
    {
     "name": "stdout",
     "output_type": "stream",
     "text": [
      "err: ('42S01', \"[42S01] [Microsoft][ODBC SQL Server Driver][SQL Server]There is already an object named 'Wiki_IFSC_Climbing_Summer_Olympics_2020_Countries_Total_Ranking_Df4' in the database. (2714) (SQLExecDirectW)\")\n"
     ]
    }
   ],
   "source": [
    "Wiki_IFSC_Climbing_Summer_Olympics_2020_Countries_Total_Ranking_Df4 = Dataset_Wiki_Climbing_Summer_Olympics_2020[4]\n",
    "\n",
    "# script de création d'une table ds SQL \n",
    "create_table = \"\"\"Create TABLE Wiki_IFSC_Climbing_Summer_Olympics_2020_Countries_Total_Ranking_Df4\n",
    "                                   ( \n",
    "                                        id INT IDENTITY PRIMARY KEY,\n",
    "                                        Rank VARCHAR(50),\n",
    "                                        Nation VARCHAR(50),\n",
    "                                        Gold INT,\n",
    "                                        Silver INT,\n",
    "                                        Bronze INT,\n",
    "                                        Total INT                                                                  \n",
    "                                   ) \"\"\"\n",
    "\n",
    "# launch session\n",
    "cnxn = pyodbc.connect(connection_string,autocommit=True) # no cursor.commit as Autocommit already\n",
    "cursor = cnxn.cursor() \n",
    "\n",
    "try: \n",
    "    # load script \"create \" \n",
    "    cursor.execute(create_table) \n",
    "    \n",
    "    # population de la table ds SQL\n",
    "    for i,row in Wiki_IFSC_Climbing_Summer_Olympics_2020_Countries_Total_Ranking_Df4.iterrows(): \n",
    "        row_dict=row.to_dict()\n",
    "        temp = template_SQL_insert_values('Wiki_IFSC_Climbing_Summer_Olympics_2020_Countries_Total_Ranking_Df4',row_dict)\n",
    "        cursor.execute(temp)\n",
    "   \n",
    "except Exception as err: \n",
    "    print('err:',err) \n",
    "try: \n",
    "    cursor.close()  # close session\n",
    "except Exception as err: \n",
    "    print('err:',err)"
   ]
  },
  {
   "cell_type": "code",
   "execution_count": 10,
   "id": "c6877998",
   "metadata": {},
   "outputs": [
    {
     "data": {
      "text/html": [
       "<div>\n",
       "<style scoped>\n",
       "    .dataframe tbody tr th:only-of-type {\n",
       "        vertical-align: middle;\n",
       "    }\n",
       "\n",
       "    .dataframe tbody tr th {\n",
       "        vertical-align: top;\n",
       "    }\n",
       "\n",
       "    .dataframe thead th {\n",
       "        text-align: right;\n",
       "    }\n",
       "</style>\n",
       "<table border=\"1\" class=\"dataframe\">\n",
       "  <thead>\n",
       "    <tr style=\"text-align: right;\">\n",
       "      <th></th>\n",
       "      <th>Event</th>\n",
       "      <th>Gold</th>\n",
       "      <th>Silver</th>\n",
       "      <th>Bronze</th>\n",
       "    </tr>\n",
       "  </thead>\n",
       "  <tbody>\n",
       "    <tr>\n",
       "      <th>0</th>\n",
       "      <td>Men's combined details</td>\n",
       "      <td>Alberto Ginés López  Spain</td>\n",
       "      <td>Nathaniel Coleman  United States</td>\n",
       "      <td>Jakob Schubert  Austria</td>\n",
       "    </tr>\n",
       "    <tr>\n",
       "      <th>1</th>\n",
       "      <td>Women's combined details</td>\n",
       "      <td>Janja Garnbret  Slovenia</td>\n",
       "      <td>Miho Nonaka  Japan</td>\n",
       "      <td>Akiyo Noguchi  Japan</td>\n",
       "    </tr>\n",
       "  </tbody>\n",
       "</table>\n",
       "</div>"
      ],
      "text/plain": [
       "                      Event                        Gold  \\\n",
       "0    Men's combined details  Alberto Ginés López  Spain   \n",
       "1  Women's combined details    Janja Garnbret  Slovenia   \n",
       "\n",
       "                             Silver                   Bronze  \n",
       "0  Nathaniel Coleman  United States  Jakob Schubert  Austria  \n",
       "1                Miho Nonaka  Japan     Akiyo Noguchi  Japan  "
      ]
     },
     "execution_count": 10,
     "metadata": {},
     "output_type": "execute_result"
    }
   ],
   "source": [
    "Dataset_Wiki_Climbing_2020_Summer_Olympics[5]"
   ]
  },
  {
   "cell_type": "markdown",
   "id": "b3c42d0c",
   "metadata": {},
   "source": [
    "[5] > to Discard, already available"
   ]
  },
  {
   "cell_type": "code",
   "execution_count": 11,
   "id": "c5176aea",
   "metadata": {},
   "outputs": [
    {
     "data": {
      "text/html": [
       "<div>\n",
       "<style scoped>\n",
       "    .dataframe tbody tr th:only-of-type {\n",
       "        vertical-align: middle;\n",
       "    }\n",
       "\n",
       "    .dataframe tbody tr th {\n",
       "        vertical-align: top;\n",
       "    }\n",
       "\n",
       "    .dataframe thead th {\n",
       "        text-align: right;\n",
       "    }\n",
       "</style>\n",
       "<table border=\"1\" class=\"dataframe\">\n",
       "  <thead>\n",
       "    <tr style=\"text-align: right;\">\n",
       "      <th></th>\n",
       "      <th>Event</th>\n",
       "      <th>Round</th>\n",
       "      <th>Climber</th>\n",
       "      <th>Nation</th>\n",
       "      <th>Time</th>\n",
       "      <th>Date</th>\n",
       "      <th>Record</th>\n",
       "    </tr>\n",
       "  </thead>\n",
       "  <tbody>\n",
       "    <tr>\n",
       "      <th>0</th>\n",
       "      <td>Men's combined (speed)</td>\n",
       "      <td>Qualification</td>\n",
       "      <td>Bassa Mawem</td>\n",
       "      <td>France</td>\n",
       "      <td>5.45</td>\n",
       "      <td>3 August</td>\n",
       "      <td>OR[17]</td>\n",
       "    </tr>\n",
       "    <tr>\n",
       "      <th>1</th>\n",
       "      <td>Women's combined (speed)</td>\n",
       "      <td>Qualification</td>\n",
       "      <td>Aleksandra Mirosław</td>\n",
       "      <td>Poland</td>\n",
       "      <td>6.97</td>\n",
       "      <td>4 August</td>\n",
       "      <td>OR[18]</td>\n",
       "    </tr>\n",
       "    <tr>\n",
       "      <th>2</th>\n",
       "      <td>Women's combined (speed)</td>\n",
       "      <td>Final</td>\n",
       "      <td>Aleksandra Mirosław</td>\n",
       "      <td>Poland</td>\n",
       "      <td>6.84</td>\n",
       "      <td>6 August</td>\n",
       "      <td>WR[19]</td>\n",
       "    </tr>\n",
       "  </tbody>\n",
       "</table>\n",
       "</div>"
      ],
      "text/plain": [
       "                      Event          Round              Climber  Nation  Time  \\\n",
       "0    Men's combined (speed)  Qualification          Bassa Mawem  France  5.45   \n",
       "1  Women's combined (speed)  Qualification  Aleksandra Mirosław  Poland  6.97   \n",
       "2  Women's combined (speed)          Final  Aleksandra Mirosław  Poland  6.84   \n",
       "\n",
       "       Date  Record  \n",
       "0  3 August  OR[17]  \n",
       "1  4 August  OR[18]  \n",
       "2  6 August  WR[19]  "
      ]
     },
     "execution_count": 11,
     "metadata": {},
     "output_type": "execute_result"
    }
   ],
   "source": [
    "Dataset_Wiki_Climbing_2020_Summer_Olympics[6]"
   ]
  },
  {
   "cell_type": "markdown",
   "id": "e2e7c0a6",
   "metadata": {},
   "source": [
    "[6] > to Discard."
   ]
  },
  {
   "cell_type": "code",
   "execution_count": 12,
   "id": "40236e71",
   "metadata": {},
   "outputs": [
    {
     "data": {
      "text/html": [
       "<div>\n",
       "<style scoped>\n",
       "    .dataframe tbody tr th:only-of-type {\n",
       "        vertical-align: middle;\n",
       "    }\n",
       "\n",
       "    .dataframe tbody tr th {\n",
       "        vertical-align: top;\n",
       "    }\n",
       "\n",
       "    .dataframe thead th {\n",
       "        text-align: right;\n",
       "    }\n",
       "</style>\n",
       "<table border=\"1\" class=\"dataframe\">\n",
       "  <thead>\n",
       "    <tr style=\"text-align: right;\">\n",
       "      <th></th>\n",
       "      <th>vteEvents at the 2020 Summer Olympics (Tokyo, Japan)</th>\n",
       "      <th>vteEvents at the 2020 Summer Olympics (Tokyo, Japan).1</th>\n",
       "    </tr>\n",
       "  </thead>\n",
       "  <tbody>\n",
       "    <tr>\n",
       "      <th>0</th>\n",
       "      <td>Archery Artistic swimming Athletics Badminton ...</td>\n",
       "      <td>Archery Artistic swimming Athletics Badminton ...</td>\n",
       "    </tr>\n",
       "    <tr>\n",
       "      <th>1</th>\n",
       "      <td>Chronological summary Medal table List of meda...</td>\n",
       "      <td>Chronological summary Medal table List of meda...</td>\n",
       "    </tr>\n",
       "  </tbody>\n",
       "</table>\n",
       "</div>"
      ],
      "text/plain": [
       "  vteEvents at the 2020 Summer Olympics (Tokyo, Japan)  \\\n",
       "0  Archery Artistic swimming Athletics Badminton ...     \n",
       "1  Chronological summary Medal table List of meda...     \n",
       "\n",
       "  vteEvents at the 2020 Summer Olympics (Tokyo, Japan).1  \n",
       "0  Archery Artistic swimming Athletics Badminton ...      \n",
       "1  Chronological summary Medal table List of meda...      "
      ]
     },
     "execution_count": 12,
     "metadata": {},
     "output_type": "execute_result"
    }
   ],
   "source": [
    "Dataset_Wiki_Climbing_2020_Summer_Olympics[7]"
   ]
  }
 ],
 "metadata": {
  "kernelspec": {
   "display_name": "Python 3 (ipykernel)",
   "language": "python",
   "name": "python3"
  },
  "language_info": {
   "codemirror_mode": {
    "name": "ipython",
    "version": 3
   },
   "file_extension": ".py",
   "mimetype": "text/x-python",
   "name": "python",
   "nbconvert_exporter": "python",
   "pygments_lexer": "ipython3",
   "version": "3.11.9"
  }
 },
 "nbformat": 4,
 "nbformat_minor": 5
}
