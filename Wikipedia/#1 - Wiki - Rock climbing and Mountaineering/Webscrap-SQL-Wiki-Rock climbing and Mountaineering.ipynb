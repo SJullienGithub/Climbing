{
 "cells": [
  {
   "cell_type": "markdown",
   "id": "73ea9c6d",
   "metadata": {},
   "source": [
    "### Webscrapping with Pandas/BeautifulSoup + ODBC on SQL Server with pyodbc"
   ]
  },
  {
   "cell_type": "markdown",
   "id": "b7333f2e",
   "metadata": {},
   "source": [
    "#### Source : Wikipedia / Rock Climbing and Mountaineering"
   ]
  },
  {
   "cell_type": "markdown",
   "id": "d7bfdccd",
   "metadata": {},
   "source": [
    "This page is discribed as a list of climbers and mountaineers who are notable for their activities in mountaineering (including alpine climbing), rock climbing (including aid climbing, free climbing, bouldering, speed climbing and competition climbing) or in ice climbing (including mixed climbing)."
   ]
  },
  {
   "cell_type": "markdown",
   "id": "eb7e9950",
   "metadata": {},
   "source": [
    "Extracted tables are NOT list of climbers and mountaineers BUT data about Rock Climbing and Mountaineering "
   ]
  },
  {
   "cell_type": "code",
   "execution_count": 24,
   "id": "3ed848f6",
   "metadata": {},
   "outputs": [],
   "source": [
    "import numpy as np\n",
    "import pandas as pd \n",
    "# Beautifulsoup already installed into Anaconda environment\n",
    "\n",
    "# Librairy PyODBC for SQL Server connection\n",
    "import os\n",
    "import pyodbc\n",
    "# setup SQL Server connection session\n",
    "server = '-PCSJN\\DATAVIZ'  \n",
    "database = 'Climbing_Staging'\n",
    "connection_string= (\n",
    "                    'DRIVER={SQL Server};SERVER='\n",
    "                     + server\n",
    "                     + ';DATABASE='\n",
    "                     + database \n",
    "                     + ';Trusted_Connection=yes'                  \n",
    "                    )\n",
    "\n",
    "# Function for injecting dataframe content into SQL Server Table\n",
    "def template_SQL_insert_values(table_name,dict):\n",
    "    \n",
    "    columns = \"(\"\n",
    "    for k in dict.keys():\n",
    "        columns += str(k) + ','\n",
    "    columns = columns[:-1] ### remove last comma\n",
    "    columns += \")\"\n",
    "    \n",
    "    req = f\"\"\"INSERT INTO {table_name} {columns} VALUES {tuple(dict.values())}\"\"\"\n",
    "    return req"
   ]
  },
  {
   "cell_type": "code",
   "execution_count": 25,
   "id": "f789ecf1",
   "metadata": {},
   "outputs": [
    {
     "data": {
      "text/plain": [
       "(list, 10)"
      ]
     },
     "execution_count": 25,
     "metadata": {},
     "output_type": "execute_result"
    }
   ],
   "source": [
    "###un premier url\n",
    "Wiki_Notable_Climbers_and_Mountaineers = \"https://en.wikipedia.org/wiki/List_of_climbers_and_mountaineers\"\n",
    "### récuperer toutes les tables html vu sur le site (url)\n",
    "Dataset_Wiki_Notable_Climbers_and_Mountaineers = pd.read_html(Wiki_Notable_Climbers_and_Mountaineers)\n",
    "type(Dataset_Wiki_Notable_Climbers_and_Mountaineers), len(Dataset_Wiki_Notable_Climbers_and_Mountaineers)"
   ]
  },
  {
   "cell_type": "markdown",
   "id": "33d96a1a",
   "metadata": {},
   "source": [
    "### on récupère 1 list de 10 élts"
   ]
  },
  {
   "cell_type": "code",
   "execution_count": 26,
   "id": "bc12a62b",
   "metadata": {},
   "outputs": [
    {
     "data": {
      "text/plain": [
       "pandas.core.frame.DataFrame"
      ]
     },
     "execution_count": 26,
     "metadata": {},
     "output_type": "execute_result"
    }
   ],
   "source": [
    "type(Dataset_Wiki_Notable_Climbers_and_Mountaineers[0])"
   ]
  },
  {
   "cell_type": "markdown",
   "id": "f64692b3",
   "metadata": {},
   "source": [
    "### Chaque élt est un DataFrame Pandas\n",
    "### Quel est le contenu chacun des 10 dataframes ? Lesquelles nous interessent ?"
   ]
  },
  {
   "cell_type": "code",
   "execution_count": 27,
   "id": "65fa8500",
   "metadata": {},
   "outputs": [
    {
     "data": {
      "text/html": [
       "<div>\n",
       "<style scoped>\n",
       "    .dataframe tbody tr th:only-of-type {\n",
       "        vertical-align: middle;\n",
       "    }\n",
       "\n",
       "    .dataframe tbody tr th {\n",
       "        vertical-align: top;\n",
       "    }\n",
       "\n",
       "    .dataframe thead th {\n",
       "        text-align: right;\n",
       "    }\n",
       "</style>\n",
       "<table border=\"1\" class=\"dataframe\">\n",
       "  <thead>\n",
       "    <tr style=\"text-align: right;\">\n",
       "      <th></th>\n",
       "      <th>0</th>\n",
       "    </tr>\n",
       "  </thead>\n",
       "  <tbody>\n",
       "    <tr>\n",
       "      <th>0</th>\n",
       "      <td>Part of a series on</td>\n",
       "    </tr>\n",
       "    <tr>\n",
       "      <th>1</th>\n",
       "      <td>Climbing</td>\n",
       "    </tr>\n",
       "    <tr>\n",
       "      <th>2</th>\n",
       "      <td>Reinhold Messner, the first mountaineer to cli...</td>\n",
       "    </tr>\n",
       "    <tr>\n",
       "      <th>3</th>\n",
       "      <td>Lists</td>\n",
       "    </tr>\n",
       "    <tr>\n",
       "      <th>4</th>\n",
       "      <td>Climbers Piolet d'Or winners IFSC victories Eq...</td>\n",
       "    </tr>\n",
       "    <tr>\n",
       "      <th>5</th>\n",
       "      <td>Types of rock climbing</td>\n",
       "    </tr>\n",
       "    <tr>\n",
       "      <th>6</th>\n",
       "      <td>Aid Big wall Multi-pitch Bouldering Highball C...</td>\n",
       "    </tr>\n",
       "    <tr>\n",
       "      <th>7</th>\n",
       "      <td>Types of mountaineering</td>\n",
       "    </tr>\n",
       "    <tr>\n",
       "      <th>8</th>\n",
       "      <td>Alpine Mixed Via ferrata Himalayan Alpine styl...</td>\n",
       "    </tr>\n",
       "    <tr>\n",
       "      <th>9</th>\n",
       "      <td>Other types</td>\n",
       "    </tr>\n",
       "    <tr>\n",
       "      <th>10</th>\n",
       "      <td>Buildering Canyoning Crane Grass Commercial Pa...</td>\n",
       "    </tr>\n",
       "    <tr>\n",
       "      <th>11</th>\n",
       "      <td>Key actions</td>\n",
       "    </tr>\n",
       "    <tr>\n",
       "      <th>12</th>\n",
       "      <td>Abseiling Belaying Leading Redpointing Jumarin...</td>\n",
       "    </tr>\n",
       "    <tr>\n",
       "      <th>13</th>\n",
       "      <td>Key terms</td>\n",
       "    </tr>\n",
       "    <tr>\n",
       "      <th>14</th>\n",
       "      <td>Anchor First ascent FFA FFFA Grade Route Beta ...</td>\n",
       "    </tr>\n",
       "    <tr>\n",
       "      <th>15</th>\n",
       "      <td>vte</td>\n",
       "    </tr>\n",
       "  </tbody>\n",
       "</table>\n",
       "</div>"
      ],
      "text/plain": [
       "                                                    0\n",
       "0                                 Part of a series on\n",
       "1                                            Climbing\n",
       "2   Reinhold Messner, the first mountaineer to cli...\n",
       "3                                               Lists\n",
       "4   Climbers Piolet d'Or winners IFSC victories Eq...\n",
       "5                              Types of rock climbing\n",
       "6   Aid Big wall Multi-pitch Bouldering Highball C...\n",
       "7                             Types of mountaineering\n",
       "8   Alpine Mixed Via ferrata Himalayan Alpine styl...\n",
       "9                                         Other types\n",
       "10  Buildering Canyoning Crane Grass Commercial Pa...\n",
       "11                                        Key actions\n",
       "12  Abseiling Belaying Leading Redpointing Jumarin...\n",
       "13                                          Key terms\n",
       "14  Anchor First ascent FFA FFFA Grade Route Beta ...\n",
       "15                                                vte"
      ]
     },
     "execution_count": 27,
     "metadata": {},
     "output_type": "execute_result"
    }
   ],
   "source": [
    "Dataset_Wiki_Notable_Climbers_and_Mountaineers[0]"
   ]
  },
  {
   "cell_type": "markdown",
   "id": "95c6bafc",
   "metadata": {},
   "source": [
    "[0] is about Types of RockClimbing and Mountaineering"
   ]
  },
  {
   "cell_type": "code",
   "execution_count": 28,
   "id": "c27ceede",
   "metadata": {},
   "outputs": [
    {
     "data": {
      "text/html": [
       "<div>\n",
       "<style scoped>\n",
       "    .dataframe tbody tr th:only-of-type {\n",
       "        vertical-align: middle;\n",
       "    }\n",
       "\n",
       "    .dataframe tbody tr th {\n",
       "        vertical-align: top;\n",
       "    }\n",
       "\n",
       "    .dataframe thead th {\n",
       "        text-align: right;\n",
       "    }\n",
       "</style>\n",
       "<table border=\"1\" class=\"dataframe\">\n",
       "  <thead>\n",
       "    <tr style=\"text-align: right;\">\n",
       "      <th></th>\n",
       "      <th>vteClimbing</th>\n",
       "      <th>vteClimbing.1</th>\n",
       "    </tr>\n",
       "  </thead>\n",
       "  <tbody>\n",
       "    <tr>\n",
       "      <th>0</th>\n",
       "      <td>Types</td>\n",
       "      <td>Rock climbingDisciplines Aid Big wall Multi-pi...</td>\n",
       "    </tr>\n",
       "    <tr>\n",
       "      <th>1</th>\n",
       "      <td>Rock climbing</td>\n",
       "      <td>Disciplines Aid Big wall Multi-pitch Boulderin...</td>\n",
       "    </tr>\n",
       "    <tr>\n",
       "      <th>2</th>\n",
       "      <td>Disciplines</td>\n",
       "      <td>Aid Big wall Multi-pitch Bouldering Highball C...</td>\n",
       "    </tr>\n",
       "    <tr>\n",
       "      <th>3</th>\n",
       "      <td>Rock types</td>\n",
       "      <td>Crack Face Roof Slab</td>\n",
       "    </tr>\n",
       "    <tr>\n",
       "      <th>4</th>\n",
       "      <td>Mountaineering</td>\n",
       "      <td>Alpine Via ferrata Himalayan Alpine style Expe...</td>\n",
       "    </tr>\n",
       "    <tr>\n",
       "      <th>5</th>\n",
       "      <td>Other</td>\n",
       "      <td>Buildering Canyoning Crane Grass Commercial Pa...</td>\n",
       "    </tr>\n",
       "    <tr>\n",
       "      <th>6</th>\n",
       "      <td>Lists</td>\n",
       "      <td>Alpine clubs Climbers Piolet d'Or winners IFSC...</td>\n",
       "    </tr>\n",
       "    <tr>\n",
       "      <th>7</th>\n",
       "      <td>Terminology</td>\n",
       "      <td>EquipmentRock Aider Daisy chain Anchor Ascende...</td>\n",
       "    </tr>\n",
       "    <tr>\n",
       "      <th>8</th>\n",
       "      <td>Equipment</td>\n",
       "      <td>Rock Aider Daisy chain Anchor Ascender Croll B...</td>\n",
       "    </tr>\n",
       "    <tr>\n",
       "      <th>9</th>\n",
       "      <td>Rock</td>\n",
       "      <td>Aider Daisy chain Anchor Ascender Croll Belay ...</td>\n",
       "    </tr>\n",
       "    <tr>\n",
       "      <th>10</th>\n",
       "      <td>Ice and snow</td>\n",
       "      <td>Alpenstock Abalakov thread Bottled oxygen Cram...</td>\n",
       "    </tr>\n",
       "    <tr>\n",
       "      <th>11</th>\n",
       "      <td>Action</td>\n",
       "      <td>Abseiling Australian Dülfersitz Belaying Front...</td>\n",
       "    </tr>\n",
       "    <tr>\n",
       "      <th>12</th>\n",
       "      <td>Other</td>\n",
       "      <td>Ape index Approach shoe Clean Climbing route B...</td>\n",
       "    </tr>\n",
       "    <tr>\n",
       "      <th>13</th>\n",
       "      <td>Media</td>\n",
       "      <td>Magazines and journals Alpine Journal Alpinist...</td>\n",
       "    </tr>\n",
       "    <tr>\n",
       "      <th>14</th>\n",
       "      <td>Magazines and journals</td>\n",
       "      <td>Alpine Journal Alpinist American Alpine Journa...</td>\n",
       "    </tr>\n",
       "    <tr>\n",
       "      <th>15</th>\n",
       "      <td>Non-fiction films</td>\n",
       "      <td>The Alpinist El Capitan The Dawn Wall Free Sol...</td>\n",
       "    </tr>\n",
       "    <tr>\n",
       "      <th>16</th>\n",
       "      <td>Companies</td>\n",
       "      <td>Black Diamond CAMP Cascade Designs Deuter Earl...</td>\n",
       "    </tr>\n",
       "    <tr>\n",
       "      <th>17</th>\n",
       "      <td>Organizations</td>\n",
       "      <td>National Access Fund Alpine Club Alpine Club o...</td>\n",
       "    </tr>\n",
       "    <tr>\n",
       "      <th>18</th>\n",
       "      <td>National</td>\n",
       "      <td>Access Fund Alpine Club Alpine Club of Canada ...</td>\n",
       "    </tr>\n",
       "    <tr>\n",
       "      <th>19</th>\n",
       "      <td>International</td>\n",
       "      <td>International Federation of Sport Climbing (IF...</td>\n",
       "    </tr>\n",
       "    <tr>\n",
       "      <th>20</th>\n",
       "      <td>Portal  Category  Commons  WikiProject</td>\n",
       "      <td>Portal  Category  Commons  WikiProject</td>\n",
       "    </tr>\n",
       "  </tbody>\n",
       "</table>\n",
       "</div>"
      ],
      "text/plain": [
       "                               vteClimbing  \\\n",
       "0                                    Types   \n",
       "1                            Rock climbing   \n",
       "2                              Disciplines   \n",
       "3                               Rock types   \n",
       "4                           Mountaineering   \n",
       "5                                    Other   \n",
       "6                                    Lists   \n",
       "7                              Terminology   \n",
       "8                                Equipment   \n",
       "9                                     Rock   \n",
       "10                            Ice and snow   \n",
       "11                                  Action   \n",
       "12                                   Other   \n",
       "13                                   Media   \n",
       "14                  Magazines and journals   \n",
       "15                       Non-fiction films   \n",
       "16                               Companies   \n",
       "17                           Organizations   \n",
       "18                                National   \n",
       "19                           International   \n",
       "20  Portal  Category  Commons  WikiProject   \n",
       "\n",
       "                                        vteClimbing.1  \n",
       "0   Rock climbingDisciplines Aid Big wall Multi-pi...  \n",
       "1   Disciplines Aid Big wall Multi-pitch Boulderin...  \n",
       "2   Aid Big wall Multi-pitch Bouldering Highball C...  \n",
       "3                                Crack Face Roof Slab  \n",
       "4   Alpine Via ferrata Himalayan Alpine style Expe...  \n",
       "5   Buildering Canyoning Crane Grass Commercial Pa...  \n",
       "6   Alpine clubs Climbers Piolet d'Or winners IFSC...  \n",
       "7   EquipmentRock Aider Daisy chain Anchor Ascende...  \n",
       "8   Rock Aider Daisy chain Anchor Ascender Croll B...  \n",
       "9   Aider Daisy chain Anchor Ascender Croll Belay ...  \n",
       "10  Alpenstock Abalakov thread Bottled oxygen Cram...  \n",
       "11  Abseiling Australian Dülfersitz Belaying Front...  \n",
       "12  Ape index Approach shoe Clean Climbing route B...  \n",
       "13  Magazines and journals Alpine Journal Alpinist...  \n",
       "14  Alpine Journal Alpinist American Alpine Journa...  \n",
       "15  The Alpinist El Capitan The Dawn Wall Free Sol...  \n",
       "16  Black Diamond CAMP Cascade Designs Deuter Earl...  \n",
       "17  National Access Fund Alpine Club Alpine Club o...  \n",
       "18  Access Fund Alpine Club Alpine Club of Canada ...  \n",
       "19  International Federation of Sport Climbing (IF...  \n",
       "20             Portal  Category  Commons  WikiProject  "
      ]
     },
     "execution_count": 28,
     "metadata": {},
     "output_type": "execute_result"
    }
   ],
   "source": [
    "Dataset_Wiki_Notable_Climbers_and_Mountaineers[1]"
   ]
  },
  {
   "cell_type": "markdown",
   "id": "77888302",
   "metadata": {},
   "source": [
    "[1] is about RockClimbing, Mountaineering Types, Equipments, Magazines, Videos, Companies, Organizations"
   ]
  },
  {
   "cell_type": "code",
   "execution_count": 29,
   "id": "3b498511",
   "metadata": {},
   "outputs": [
    {
     "data": {
      "text/html": [
       "<div>\n",
       "<style scoped>\n",
       "    .dataframe tbody tr th:only-of-type {\n",
       "        vertical-align: middle;\n",
       "    }\n",
       "\n",
       "    .dataframe tbody tr th {\n",
       "        vertical-align: top;\n",
       "    }\n",
       "\n",
       "    .dataframe thead th {\n",
       "        text-align: right;\n",
       "    }\n",
       "</style>\n",
       "<table border=\"1\" class=\"dataframe\">\n",
       "  <thead>\n",
       "    <tr style=\"text-align: right;\">\n",
       "      <th></th>\n",
       "      <th>0</th>\n",
       "      <th>1</th>\n",
       "    </tr>\n",
       "  </thead>\n",
       "  <tbody>\n",
       "    <tr>\n",
       "      <th>0</th>\n",
       "      <td>Rock climbing</td>\n",
       "      <td>Disciplines Aid Big wall Multi-pitch Boulderin...</td>\n",
       "    </tr>\n",
       "    <tr>\n",
       "      <th>1</th>\n",
       "      <td>Disciplines</td>\n",
       "      <td>Aid Big wall Multi-pitch Bouldering Highball C...</td>\n",
       "    </tr>\n",
       "    <tr>\n",
       "      <th>2</th>\n",
       "      <td>Rock types</td>\n",
       "      <td>Crack Face Roof Slab</td>\n",
       "    </tr>\n",
       "    <tr>\n",
       "      <th>3</th>\n",
       "      <td>Mountaineering</td>\n",
       "      <td>Alpine Via ferrata Himalayan Alpine style Expe...</td>\n",
       "    </tr>\n",
       "    <tr>\n",
       "      <th>4</th>\n",
       "      <td>Other</td>\n",
       "      <td>Buildering Canyoning Crane Grass Commercial Pa...</td>\n",
       "    </tr>\n",
       "  </tbody>\n",
       "</table>\n",
       "</div>"
      ],
      "text/plain": [
       "                0                                                  1\n",
       "0   Rock climbing  Disciplines Aid Big wall Multi-pitch Boulderin...\n",
       "1     Disciplines  Aid Big wall Multi-pitch Bouldering Highball C...\n",
       "2      Rock types                               Crack Face Roof Slab\n",
       "3  Mountaineering  Alpine Via ferrata Himalayan Alpine style Expe...\n",
       "4           Other  Buildering Canyoning Crane Grass Commercial Pa..."
      ]
     },
     "execution_count": 29,
     "metadata": {},
     "output_type": "execute_result"
    }
   ],
   "source": [
    "Dataset_Wiki_Notable_Climbers_and_Mountaineers[2]"
   ]
  },
  {
   "cell_type": "code",
   "execution_count": 47,
   "id": "32830f3b",
   "metadata": {},
   "outputs": [
    {
     "data": {
      "text/plain": [
       "(5, 2)"
      ]
     },
     "execution_count": 47,
     "metadata": {},
     "output_type": "execute_result"
    }
   ],
   "source": [
    "Dataset_Wiki_Notable_Climbers_and_Mountaineers[2]"
   ]
  },
  {
   "cell_type": "markdown",
   "id": "8451c485",
   "metadata": {},
   "source": [
    "[2] is about RockClimbing, Mountaineering and Rock Types"
   ]
  },
  {
   "cell_type": "code",
   "execution_count": 31,
   "id": "63ca6e69",
   "metadata": {},
   "outputs": [
    {
     "data": {
      "text/html": [
       "<div>\n",
       "<style scoped>\n",
       "    .dataframe tbody tr th:only-of-type {\n",
       "        vertical-align: middle;\n",
       "    }\n",
       "\n",
       "    .dataframe tbody tr th {\n",
       "        vertical-align: top;\n",
       "    }\n",
       "\n",
       "    .dataframe thead th {\n",
       "        text-align: right;\n",
       "    }\n",
       "</style>\n",
       "<table border=\"1\" class=\"dataframe\">\n",
       "  <thead>\n",
       "    <tr style=\"text-align: right;\">\n",
       "      <th></th>\n",
       "      <th>0</th>\n",
       "      <th>1</th>\n",
       "    </tr>\n",
       "  </thead>\n",
       "  <tbody>\n",
       "    <tr>\n",
       "      <th>0</th>\n",
       "      <td>Disciplines</td>\n",
       "      <td>Aid Big wall Multi-pitch Bouldering Highball C...</td>\n",
       "    </tr>\n",
       "    <tr>\n",
       "      <th>1</th>\n",
       "      <td>Rock types</td>\n",
       "      <td>Crack Face Roof Slab</td>\n",
       "    </tr>\n",
       "  </tbody>\n",
       "</table>\n",
       "</div>"
      ],
      "text/plain": [
       "             0                                                  1\n",
       "0  Disciplines  Aid Big wall Multi-pitch Bouldering Highball C...\n",
       "1   Rock types                               Crack Face Roof Slab"
      ]
     },
     "execution_count": 31,
     "metadata": {},
     "output_type": "execute_result"
    }
   ],
   "source": [
    "Dataset_Wiki_Notable_Climbers_and_Mountaineers[3]"
   ]
  },
  {
   "cell_type": "markdown",
   "id": "002177d3",
   "metadata": {},
   "source": [
    "[3] is duplicate fo [2] > To Discard"
   ]
  },
  {
   "cell_type": "code",
   "execution_count": 32,
   "id": "9716bbb6",
   "metadata": {},
   "outputs": [
    {
     "data": {
      "text/html": [
       "<div>\n",
       "<style scoped>\n",
       "    .dataframe tbody tr th:only-of-type {\n",
       "        vertical-align: middle;\n",
       "    }\n",
       "\n",
       "    .dataframe tbody tr th {\n",
       "        vertical-align: top;\n",
       "    }\n",
       "\n",
       "    .dataframe thead th {\n",
       "        text-align: right;\n",
       "    }\n",
       "</style>\n",
       "<table border=\"1\" class=\"dataframe\">\n",
       "  <thead>\n",
       "    <tr style=\"text-align: right;\">\n",
       "      <th></th>\n",
       "      <th>0</th>\n",
       "      <th>1</th>\n",
       "    </tr>\n",
       "  </thead>\n",
       "  <tbody>\n",
       "    <tr>\n",
       "      <th>0</th>\n",
       "      <td>Equipment</td>\n",
       "      <td>Rock Aider Daisy chain Anchor Ascender Croll B...</td>\n",
       "    </tr>\n",
       "    <tr>\n",
       "      <th>1</th>\n",
       "      <td>Rock</td>\n",
       "      <td>Aider Daisy chain Anchor Ascender Croll Belay ...</td>\n",
       "    </tr>\n",
       "    <tr>\n",
       "      <th>2</th>\n",
       "      <td>Ice and snow</td>\n",
       "      <td>Alpenstock Abalakov thread Bottled oxygen Cram...</td>\n",
       "    </tr>\n",
       "    <tr>\n",
       "      <th>3</th>\n",
       "      <td>Action</td>\n",
       "      <td>Abseiling Australian Dülfersitz Belaying Front...</td>\n",
       "    </tr>\n",
       "    <tr>\n",
       "      <th>4</th>\n",
       "      <td>Other</td>\n",
       "      <td>Ape index Approach shoe Clean Climbing route B...</td>\n",
       "    </tr>\n",
       "  </tbody>\n",
       "</table>\n",
       "</div>"
      ],
      "text/plain": [
       "              0                                                  1\n",
       "0     Equipment  Rock Aider Daisy chain Anchor Ascender Croll B...\n",
       "1          Rock  Aider Daisy chain Anchor Ascender Croll Belay ...\n",
       "2  Ice and snow  Alpenstock Abalakov thread Bottled oxygen Cram...\n",
       "3        Action  Abseiling Australian Dülfersitz Belaying Front...\n",
       "4         Other  Ape index Approach shoe Clean Climbing route B..."
      ]
     },
     "execution_count": 32,
     "metadata": {},
     "output_type": "execute_result"
    }
   ],
   "source": [
    "Dataset_Wiki_Notable_Climbers_and_Mountaineers[4]"
   ]
  },
  {
   "cell_type": "markdown",
   "id": "7330046c",
   "metadata": {},
   "source": [
    "[4] is about Equipments"
   ]
  },
  {
   "cell_type": "code",
   "execution_count": 34,
   "id": "c6877998",
   "metadata": {},
   "outputs": [
    {
     "data": {
      "text/html": [
       "<div>\n",
       "<style scoped>\n",
       "    .dataframe tbody tr th:only-of-type {\n",
       "        vertical-align: middle;\n",
       "    }\n",
       "\n",
       "    .dataframe tbody tr th {\n",
       "        vertical-align: top;\n",
       "    }\n",
       "\n",
       "    .dataframe thead th {\n",
       "        text-align: right;\n",
       "    }\n",
       "</style>\n",
       "<table border=\"1\" class=\"dataframe\">\n",
       "  <thead>\n",
       "    <tr style=\"text-align: right;\">\n",
       "      <th></th>\n",
       "      <th>0</th>\n",
       "      <th>1</th>\n",
       "    </tr>\n",
       "  </thead>\n",
       "  <tbody>\n",
       "    <tr>\n",
       "      <th>0</th>\n",
       "      <td>Rock</td>\n",
       "      <td>Aider Daisy chain Anchor Ascender Croll Belay ...</td>\n",
       "    </tr>\n",
       "    <tr>\n",
       "      <th>1</th>\n",
       "      <td>Ice and snow</td>\n",
       "      <td>Alpenstock Abalakov thread Bottled oxygen Cram...</td>\n",
       "    </tr>\n",
       "  </tbody>\n",
       "</table>\n",
       "</div>"
      ],
      "text/plain": [
       "              0                                                  1\n",
       "0          Rock  Aider Daisy chain Anchor Ascender Croll Belay ...\n",
       "1  Ice and snow  Alpenstock Abalakov thread Bottled oxygen Cram..."
      ]
     },
     "execution_count": 34,
     "metadata": {},
     "output_type": "execute_result"
    }
   ],
   "source": [
    "Dataset_Wiki_Notable_Climbers_and_Mountaineers[5]"
   ]
  },
  {
   "cell_type": "markdown",
   "id": "d2267cca",
   "metadata": {},
   "source": [
    "[5] is duplicate fo [4] > To Discard"
   ]
  },
  {
   "cell_type": "code",
   "execution_count": 35,
   "id": "c5176aea",
   "metadata": {},
   "outputs": [
    {
     "data": {
      "text/html": [
       "<div>\n",
       "<style scoped>\n",
       "    .dataframe tbody tr th:only-of-type {\n",
       "        vertical-align: middle;\n",
       "    }\n",
       "\n",
       "    .dataframe tbody tr th {\n",
       "        vertical-align: top;\n",
       "    }\n",
       "\n",
       "    .dataframe thead th {\n",
       "        text-align: right;\n",
       "    }\n",
       "</style>\n",
       "<table border=\"1\" class=\"dataframe\">\n",
       "  <thead>\n",
       "    <tr style=\"text-align: right;\">\n",
       "      <th></th>\n",
       "      <th>0</th>\n",
       "      <th>1</th>\n",
       "    </tr>\n",
       "  </thead>\n",
       "  <tbody>\n",
       "    <tr>\n",
       "      <th>0</th>\n",
       "      <td>Magazines and journals</td>\n",
       "      <td>Alpine Journal Alpinist American Alpine Journa...</td>\n",
       "    </tr>\n",
       "    <tr>\n",
       "      <th>1</th>\n",
       "      <td>Non-fiction films</td>\n",
       "      <td>The Alpinist El Capitan The Dawn Wall Free Sol...</td>\n",
       "    </tr>\n",
       "  </tbody>\n",
       "</table>\n",
       "</div>"
      ],
      "text/plain": [
       "                        0                                                  1\n",
       "0  Magazines and journals  Alpine Journal Alpinist American Alpine Journa...\n",
       "1       Non-fiction films  The Alpinist El Capitan The Dawn Wall Free Sol..."
      ]
     },
     "execution_count": 35,
     "metadata": {},
     "output_type": "execute_result"
    }
   ],
   "source": [
    "Dataset_Wiki_Notable_Climbers_and_Mountaineers[6]"
   ]
  },
  {
   "cell_type": "markdown",
   "id": "e6b4899b",
   "metadata": {},
   "source": [
    "[6] is about Media (Journals and Videos)"
   ]
  },
  {
   "cell_type": "code",
   "execution_count": 39,
   "id": "0528442f",
   "metadata": {},
   "outputs": [
    {
     "data": {
      "text/html": [
       "<div>\n",
       "<style scoped>\n",
       "    .dataframe tbody tr th:only-of-type {\n",
       "        vertical-align: middle;\n",
       "    }\n",
       "\n",
       "    .dataframe tbody tr th {\n",
       "        vertical-align: top;\n",
       "    }\n",
       "\n",
       "    .dataframe thead th {\n",
       "        text-align: right;\n",
       "    }\n",
       "</style>\n",
       "<table border=\"1\" class=\"dataframe\">\n",
       "  <thead>\n",
       "    <tr style=\"text-align: right;\">\n",
       "      <th></th>\n",
       "      <th>0</th>\n",
       "      <th>1</th>\n",
       "    </tr>\n",
       "  </thead>\n",
       "  <tbody>\n",
       "    <tr>\n",
       "      <th>0</th>\n",
       "      <td>National</td>\n",
       "      <td>Access Fund Alpine Club Alpine Club of Canada ...</td>\n",
       "    </tr>\n",
       "    <tr>\n",
       "      <th>1</th>\n",
       "      <td>International</td>\n",
       "      <td>International Federation of Sport Climbing (IF...</td>\n",
       "    </tr>\n",
       "  </tbody>\n",
       "</table>\n",
       "</div>"
      ],
      "text/plain": [
       "               0                                                  1\n",
       "0       National  Access Fund Alpine Club Alpine Club of Canada ...\n",
       "1  International  International Federation of Sport Climbing (IF..."
      ]
     },
     "execution_count": 39,
     "metadata": {},
     "output_type": "execute_result"
    }
   ],
   "source": [
    "Dataset_Wiki_Notable_Climbers_and_Mountaineers[7]"
   ]
  },
  {
   "cell_type": "markdown",
   "id": "70fcd155",
   "metadata": {},
   "source": [
    "[7] is about Organizations"
   ]
  },
  {
   "cell_type": "code",
   "execution_count": 41,
   "id": "40236e71",
   "metadata": {},
   "outputs": [
    {
     "data": {
      "text/html": [
       "<div>\n",
       "<style scoped>\n",
       "    .dataframe tbody tr th:only-of-type {\n",
       "        vertical-align: middle;\n",
       "    }\n",
       "\n",
       "    .dataframe tbody tr th {\n",
       "        vertical-align: top;\n",
       "    }\n",
       "\n",
       "    .dataframe thead th {\n",
       "        text-align: right;\n",
       "    }\n",
       "</style>\n",
       "<table border=\"1\" class=\"dataframe\">\n",
       "  <thead>\n",
       "    <tr style=\"text-align: right;\">\n",
       "      <th></th>\n",
       "      <th>vteExploration</th>\n",
       "      <th>vteExploration.1</th>\n",
       "    </tr>\n",
       "  </thead>\n",
       "  <tbody>\n",
       "    <tr>\n",
       "      <th>0</th>\n",
       "      <td>Exploration by environment</td>\n",
       "      <td>Canopy Cave Cave diving Desert Ocean Deep-sea</td>\n",
       "    </tr>\n",
       "    <tr>\n",
       "      <th>1</th>\n",
       "      <td>Exploration by region</td>\n",
       "      <td>Chronology of European exploration of Asia His...</td>\n",
       "    </tr>\n",
       "    <tr>\n",
       "      <th>2</th>\n",
       "      <td>Timelines</td>\n",
       "      <td>Chinese exploration Timeline of European explo...</td>\n",
       "    </tr>\n",
       "    <tr>\n",
       "      <th>3</th>\n",
       "      <td>Expeditions</td>\n",
       "      <td>1928 Great Barrier Reef expedition Austrian ex...</td>\n",
       "    </tr>\n",
       "    <tr>\n",
       "      <th>4</th>\n",
       "      <td>Lists of explorers</td>\n",
       "      <td>By country of origin French Italian Portuguese...</td>\n",
       "    </tr>\n",
       "    <tr>\n",
       "      <th>5</th>\n",
       "      <td>By country of origin</td>\n",
       "      <td>French Italian Portuguese Spanish Romanian Rus...</td>\n",
       "    </tr>\n",
       "    <tr>\n",
       "      <th>6</th>\n",
       "      <td>By environment</td>\n",
       "      <td>Circumnavigators Climbers Polar explorers Unde...</td>\n",
       "    </tr>\n",
       "  </tbody>\n",
       "</table>\n",
       "</div>"
      ],
      "text/plain": [
       "               vteExploration  \\\n",
       "0  Exploration by environment   \n",
       "1       Exploration by region   \n",
       "2                   Timelines   \n",
       "3                 Expeditions   \n",
       "4          Lists of explorers   \n",
       "5        By country of origin   \n",
       "6              By environment   \n",
       "\n",
       "                                    vteExploration.1  \n",
       "0      Canopy Cave Cave diving Desert Ocean Deep-sea  \n",
       "1  Chronology of European exploration of Asia His...  \n",
       "2  Chinese exploration Timeline of European explo...  \n",
       "3  1928 Great Barrier Reef expedition Austrian ex...  \n",
       "4  By country of origin French Italian Portuguese...  \n",
       "5  French Italian Portuguese Spanish Romanian Rus...  \n",
       "6  Circumnavigators Climbers Polar explorers Unde...  "
      ]
     },
     "execution_count": 41,
     "metadata": {},
     "output_type": "execute_result"
    }
   ],
   "source": [
    "Dataset_Wiki_Notable_Climbers_and_Mountaineers[8]"
   ]
  },
  {
   "cell_type": "markdown",
   "id": "a41efc95",
   "metadata": {},
   "source": [
    "[8] is about Explorations"
   ]
  },
  {
   "cell_type": "code",
   "execution_count": 42,
   "id": "54eb81dc",
   "metadata": {},
   "outputs": [
    {
     "data": {
      "text/html": [
       "<div>\n",
       "<style scoped>\n",
       "    .dataframe tbody tr th:only-of-type {\n",
       "        vertical-align: middle;\n",
       "    }\n",
       "\n",
       "    .dataframe tbody tr th {\n",
       "        vertical-align: top;\n",
       "    }\n",
       "\n",
       "    .dataframe thead th {\n",
       "        text-align: right;\n",
       "    }\n",
       "</style>\n",
       "<table border=\"1\" class=\"dataframe\">\n",
       "  <thead>\n",
       "    <tr style=\"text-align: right;\">\n",
       "      <th></th>\n",
       "      <th>0</th>\n",
       "      <th>1</th>\n",
       "    </tr>\n",
       "  </thead>\n",
       "  <tbody>\n",
       "    <tr>\n",
       "      <th>0</th>\n",
       "      <td>By country of origin</td>\n",
       "      <td>French Italian Portuguese Spanish Romanian Rus...</td>\n",
       "    </tr>\n",
       "    <tr>\n",
       "      <th>1</th>\n",
       "      <td>By environment</td>\n",
       "      <td>Circumnavigators Climbers Polar explorers Unde...</td>\n",
       "    </tr>\n",
       "  </tbody>\n",
       "</table>\n",
       "</div>"
      ],
      "text/plain": [
       "                      0                                                  1\n",
       "0  By country of origin  French Italian Portuguese Spanish Romanian Rus...\n",
       "1        By environment  Circumnavigators Climbers Polar explorers Unde..."
      ]
     },
     "execution_count": 42,
     "metadata": {},
     "output_type": "execute_result"
    }
   ],
   "source": [
    "Dataset_Wiki_Notable_Climbers_and_Mountaineers[9]"
   ]
  },
  {
   "cell_type": "markdown",
   "id": "dea3d5f0",
   "metadata": {},
   "source": [
    "[9] is duplicate fo [8] > To Discard"
   ]
  }
 ],
 "metadata": {
  "kernelspec": {
   "display_name": "Python 3 (ipykernel)",
   "language": "python",
   "name": "python3"
  },
  "language_info": {
   "codemirror_mode": {
    "name": "ipython",
    "version": 3
   },
   "file_extension": ".py",
   "mimetype": "text/x-python",
   "name": "python",
   "nbconvert_exporter": "python",
   "pygments_lexer": "ipython3",
   "version": "3.11.9"
  }
 },
 "nbformat": 4,
 "nbformat_minor": 5
}
