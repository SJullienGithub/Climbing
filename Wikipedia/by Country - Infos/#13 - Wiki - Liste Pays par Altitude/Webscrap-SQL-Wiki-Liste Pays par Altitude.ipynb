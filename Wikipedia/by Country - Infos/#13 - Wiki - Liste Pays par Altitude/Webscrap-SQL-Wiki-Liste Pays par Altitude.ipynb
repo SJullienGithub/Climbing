{
 "cells": [
  {
   "cell_type": "markdown",
   "id": "73ea9c6d",
   "metadata": {},
   "source": [
    "### Webscrapping with Pandas pd.read_html()  + ODBC on SQL Server with pyodbc"
   ]
  },
  {
   "cell_type": "markdown",
   "id": "2001a642",
   "metadata": {},
   "source": [
    "#### Source : Wikipedia / Liste des pays par altitude moyenne (l'altitude moyenne mondiale est de 840 mètres)"
   ]
  },
  {
   "cell_type": "markdown",
   "id": "fc95af51",
   "metadata": {},
   "source": [
    "Liste des pays et territoires à statut spécial par altitude moyenne. "
   ]
  },
  {
   "cell_type": "code",
   "execution_count": 56,
   "id": "0e0132b2",
   "metadata": {},
   "outputs": [],
   "source": [
    "import numpy as np\n",
    "import pandas as pd\n",
    "# Beautifulsoup already installed into Anaconda environment\n",
    "\n",
    "# Librairy PyODBC for SQL Server connection\n",
    "import os\n",
    "import pyodbc\n",
    "# setup SQL Server connection session\n",
    "server = '-PCSJN\\DATAVIZ'  \n",
    "database = 'Climbing_DW_BI'\n",
    "connection_string= (\n",
    "                    'DRIVER={SQL Server};SERVER='\n",
    "                     + server\n",
    "                     + ';DATABASE='\n",
    "                     + database \n",
    "                     + ';Trusted_Connection=yes'                  \n",
    "                    )\n",
    "\n",
    "# Function for injecting dataframe content into SQL Server Table\n",
    "def template_SQL_insert_values(table_name,dict):\n",
    "    \n",
    "    columns = \"(\"\n",
    "    for k in dict.keys():\n",
    "        columns += str(k) + ','\n",
    "    columns = columns[:-1] ### remove last comma\n",
    "    columns += \")\"\n",
    "    \n",
    "    req = f\"\"\"INSERT INTO {table_name} {columns} VALUES {tuple(dict.values())}\"\"\"\n",
    "    return req"
   ]
  },
  {
   "cell_type": "code",
   "execution_count": 57,
   "id": "035550bf",
   "metadata": {},
   "outputs": [
    {
     "data": {
      "text/plain": [
       "(list, 4)"
      ]
     },
     "execution_count": 57,
     "metadata": {},
     "output_type": "execute_result"
    }
   ],
   "source": [
    "### 1er url\n",
    "Wiki_Countries_Mean_Altitude = \"https://fr.wikipedia.org/wiki/Liste_des_pays_par_altitude_moyenne\"\n",
    "### récuperer toutes les tables html vu sur le site (url)\n",
    "Dataset_Wiki_Countries_Mean_Altitude = pd.read_html(Wiki_Countries_Mean_Altitude)\n",
    "type(Dataset_Wiki_Countries_Mean_Altitude), len(Dataset_Wiki_Countries_Mean_Altitude)"
   ]
  },
  {
   "cell_type": "code",
   "execution_count": 58,
   "id": "e203011f",
   "metadata": {},
   "outputs": [
    {
     "data": {
      "text/html": [
       "<div>\n",
       "<style scoped>\n",
       "    .dataframe tbody tr th:only-of-type {\n",
       "        vertical-align: middle;\n",
       "    }\n",
       "\n",
       "    .dataframe tbody tr th {\n",
       "        vertical-align: top;\n",
       "    }\n",
       "\n",
       "    .dataframe thead th {\n",
       "        text-align: right;\n",
       "    }\n",
       "</style>\n",
       "<table border=\"1\" class=\"dataframe\">\n",
       "  <thead>\n",
       "    <tr style=\"text-align: right;\">\n",
       "      <th></th>\n",
       "      <th>Rang</th>\n",
       "      <th>Pays</th>\n",
       "      <th>Altitude</th>\n",
       "    </tr>\n",
       "  </thead>\n",
       "  <tbody>\n",
       "    <tr>\n",
       "      <th>0</th>\n",
       "      <td>1</td>\n",
       "      <td>Tadjikistan</td>\n",
       "      <td>3186</td>\n",
       "    </tr>\n",
       "    <tr>\n",
       "      <th>1</th>\n",
       "      <td>2</td>\n",
       "      <td>Kirghizistan</td>\n",
       "      <td>2988</td>\n",
       "    </tr>\n",
       "    <tr>\n",
       "      <th>2</th>\n",
       "      <td>3</td>\n",
       "      <td>Népal</td>\n",
       "      <td>2565</td>\n",
       "    </tr>\n",
       "    <tr>\n",
       "      <th>3</th>\n",
       "      <td>4</td>\n",
       "      <td>Bhoutan</td>\n",
       "      <td>2220</td>\n",
       "    </tr>\n",
       "    <tr>\n",
       "      <th>4</th>\n",
       "      <td>5</td>\n",
       "      <td>Lesotho</td>\n",
       "      <td>2161</td>\n",
       "    </tr>\n",
       "    <tr>\n",
       "      <th>...</th>\n",
       "      <td>...</td>\n",
       "      <td>...</td>\n",
       "      <td>...</td>\n",
       "    </tr>\n",
       "    <tr>\n",
       "      <th>158</th>\n",
       "      <td>158</td>\n",
       "      <td>Gambie</td>\n",
       "      <td>34</td>\n",
       "    </tr>\n",
       "    <tr>\n",
       "      <th>159</th>\n",
       "      <td>159</td>\n",
       "      <td>Pays-Bas</td>\n",
       "      <td>30</td>\n",
       "    </tr>\n",
       "    <tr>\n",
       "      <th>160</th>\n",
       "      <td>160</td>\n",
       "      <td>Qatar</td>\n",
       "      <td>28</td>\n",
       "    </tr>\n",
       "    <tr>\n",
       "      <th>161</th>\n",
       "      <td>161</td>\n",
       "      <td>Singapour</td>\n",
       "      <td>15</td>\n",
       "    </tr>\n",
       "    <tr>\n",
       "      <th>162</th>\n",
       "      <td>162</td>\n",
       "      <td>Maldives</td>\n",
       "      <td>2</td>\n",
       "    </tr>\n",
       "  </tbody>\n",
       "</table>\n",
       "<p>163 rows × 3 columns</p>\n",
       "</div>"
      ],
      "text/plain": [
       "     Rang          Pays Altitude\n",
       "0       1   Tadjikistan     3186\n",
       "1       2  Kirghizistan     2988\n",
       "2       3         Népal     2565\n",
       "3       4       Bhoutan     2220\n",
       "4       5       Lesotho     2161\n",
       "..    ...           ...      ...\n",
       "158   158        Gambie       34\n",
       "159   159      Pays-Bas       30\n",
       "160   160         Qatar       28\n",
       "161   161     Singapour       15\n",
       "162   162      Maldives        2\n",
       "\n",
       "[163 rows x 3 columns]"
      ]
     },
     "execution_count": 58,
     "metadata": {},
     "output_type": "execute_result"
    }
   ],
   "source": [
    "Dataset_Wiki_Countries_Mean_Altitude[0]"
   ]
  },
  {
   "cell_type": "code",
   "execution_count": 59,
   "id": "d0371844",
   "metadata": {},
   "outputs": [
    {
     "data": {
      "text/html": [
       "<div>\n",
       "<style scoped>\n",
       "    .dataframe tbody tr th:only-of-type {\n",
       "        vertical-align: middle;\n",
       "    }\n",
       "\n",
       "    .dataframe tbody tr th {\n",
       "        vertical-align: top;\n",
       "    }\n",
       "\n",
       "    .dataframe thead th {\n",
       "        text-align: right;\n",
       "    }\n",
       "</style>\n",
       "<table border=\"1\" class=\"dataframe\">\n",
       "  <thead>\n",
       "    <tr style=\"text-align: right;\">\n",
       "      <th></th>\n",
       "      <th>Rang</th>\n",
       "      <th>Nation</th>\n",
       "      <th>Altitude</th>\n",
       "    </tr>\n",
       "  </thead>\n",
       "  <tbody>\n",
       "    <tr>\n",
       "      <th>0</th>\n",
       "      <td>1</td>\n",
       "      <td>Tadjikistan</td>\n",
       "      <td>3186</td>\n",
       "    </tr>\n",
       "    <tr>\n",
       "      <th>1</th>\n",
       "      <td>2</td>\n",
       "      <td>Kirghizistan</td>\n",
       "      <td>2988</td>\n",
       "    </tr>\n",
       "    <tr>\n",
       "      <th>2</th>\n",
       "      <td>3</td>\n",
       "      <td>Népal</td>\n",
       "      <td>2565</td>\n",
       "    </tr>\n",
       "    <tr>\n",
       "      <th>3</th>\n",
       "      <td>4</td>\n",
       "      <td>Bhoutan</td>\n",
       "      <td>2220</td>\n",
       "    </tr>\n",
       "    <tr>\n",
       "      <th>4</th>\n",
       "      <td>5</td>\n",
       "      <td>Lesotho</td>\n",
       "      <td>2161</td>\n",
       "    </tr>\n",
       "    <tr>\n",
       "      <th>...</th>\n",
       "      <td>...</td>\n",
       "      <td>...</td>\n",
       "      <td>...</td>\n",
       "    </tr>\n",
       "    <tr>\n",
       "      <th>158</th>\n",
       "      <td>158</td>\n",
       "      <td>Gambie</td>\n",
       "      <td>34</td>\n",
       "    </tr>\n",
       "    <tr>\n",
       "      <th>159</th>\n",
       "      <td>159</td>\n",
       "      <td>Pays-Bas</td>\n",
       "      <td>30</td>\n",
       "    </tr>\n",
       "    <tr>\n",
       "      <th>160</th>\n",
       "      <td>160</td>\n",
       "      <td>Qatar</td>\n",
       "      <td>28</td>\n",
       "    </tr>\n",
       "    <tr>\n",
       "      <th>161</th>\n",
       "      <td>161</td>\n",
       "      <td>Singapour</td>\n",
       "      <td>15</td>\n",
       "    </tr>\n",
       "    <tr>\n",
       "      <th>162</th>\n",
       "      <td>162</td>\n",
       "      <td>Maldives</td>\n",
       "      <td>2</td>\n",
       "    </tr>\n",
       "  </tbody>\n",
       "</table>\n",
       "<p>163 rows × 3 columns</p>\n",
       "</div>"
      ],
      "text/plain": [
       "     Rang        Nation Altitude\n",
       "0       1   Tadjikistan     3186\n",
       "1       2  Kirghizistan     2988\n",
       "2       3         Népal     2565\n",
       "3       4       Bhoutan     2220\n",
       "4       5       Lesotho     2161\n",
       "..    ...           ...      ...\n",
       "158   158        Gambie       34\n",
       "159   159      Pays-Bas       30\n",
       "160   160         Qatar       28\n",
       "161   161     Singapour       15\n",
       "162   162      Maldives        2\n",
       "\n",
       "[163 rows x 3 columns]"
      ]
     },
     "execution_count": 59,
     "metadata": {},
     "output_type": "execute_result"
    }
   ],
   "source": [
    "Dataset_Wiki_Countries_Mean_Altitude[0].columns = ['Rang','Nation','Altitude']\n",
    "Dataset_Wiki_Countries_Mean_Altitude[0]"
   ]
  },
  {
   "cell_type": "code",
   "execution_count": 60,
   "id": "939c7299",
   "metadata": {},
   "outputs": [
    {
     "data": {
      "text/plain": [
       "Rang                  124\n",
       "Nation      Côte d'Ivoire\n",
       "Altitude              250\n",
       "Name: 124, dtype: object"
      ]
     },
     "execution_count": 60,
     "metadata": {},
     "output_type": "execute_result"
    }
   ],
   "source": [
    "# retrouver par tatonnement Invalid column name 'Côte d'Ivoire' pour script d'insertion de data ds SQL server\n",
    "Dataset_Wiki_Countries_Mean_Altitude[0].loc[124,:]"
   ]
  },
  {
   "cell_type": "code",
   "execution_count": 61,
   "id": "3fe3d41c",
   "metadata": {},
   "outputs": [
    {
     "data": {
      "text/plain": [
       "Rang                  124\n",
       "Nation      Cote d Ivoire\n",
       "Altitude              250\n",
       "Name: 124, dtype: object"
      ]
     },
     "execution_count": 61,
     "metadata": {},
     "output_type": "execute_result"
    }
   ],
   "source": [
    "# Remplacement 'Côte d'Ivoire'\n",
    "Dataset_Wiki_Countries_Mean_Altitude[0].iloc[124,1] = 'Cote d Ivoire'\n",
    "Dataset_Wiki_Countries_Mean_Altitude[0].loc[124,:]"
   ]
  },
  {
   "cell_type": "code",
   "execution_count": 62,
   "id": "925b652d",
   "metadata": {},
   "outputs": [
    {
     "data": {
      "text/plain": [
       "Rang         int64\n",
       "Nation      object\n",
       "Altitude    object\n",
       "dtype: object"
      ]
     },
     "execution_count": 62,
     "metadata": {},
     "output_type": "execute_result"
    }
   ],
   "source": [
    "Dataset_Wiki_Countries_Mean_Altitude[0].dtypes"
   ]
  },
  {
   "cell_type": "code",
   "execution_count": 71,
   "id": "c8d8468b",
   "metadata": {},
   "outputs": [],
   "source": [
    "Wiki_Geography_perCountries_Mean_Altitude = Dataset_Wiki_Countries_Mean_Altitude[0]\n",
    "\n",
    "# script de création d'une table ds SQL \n",
    "create_table = \"\"\"Create TABLE Wiki_Geography_perCountries_Mean_Altitude\n",
    "                                   ( \n",
    "                                        id INT IDENTITY PRIMARY KEY,\n",
    "                                        Rang INT,\n",
    "                                        Nation VARCHAR(200),\n",
    "                                        Altitude VARCHAR(50),                                                                                                                                              \n",
    "                                   ) \"\"\"\n",
    "\n",
    "# launch session\n",
    "cnxn = pyodbc.connect(connection_string,autocommit=True) # no cursor.commit as Autocommit already\n",
    "cursor = cnxn.cursor() \n",
    "\n",
    "try: \n",
    "    # load script \"create \" \n",
    "    cursor.execute(create_table) \n",
    "    \n",
    "    # population de la table ds SQL\n",
    "    for i,row in Wiki_Geography_perCountries_Mean_Altitude.iterrows(): \n",
    "        row_dict=row.to_dict()\n",
    "        temp = template_SQL_insert_values('Wiki_Geography_perCountries_Mean_Altitude',row_dict)\n",
    "        cursor.execute(temp)\n",
    "   \n",
    "except Exception as err: \n",
    "    print('err:',err) \n",
    "try: \n",
    "    cursor.close()  # close session\n",
    "except Exception as err: \n",
    "    print('err:',err)"
   ]
  },
  {
   "cell_type": "code",
   "execution_count": 64,
   "id": "3eab2df3",
   "metadata": {},
   "outputs": [
    {
     "data": {
      "text/html": [
       "<div>\n",
       "<style scoped>\n",
       "    .dataframe tbody tr th:only-of-type {\n",
       "        vertical-align: middle;\n",
       "    }\n",
       "\n",
       "    .dataframe tbody tr th {\n",
       "        vertical-align: top;\n",
       "    }\n",
       "\n",
       "    .dataframe thead th {\n",
       "        text-align: right;\n",
       "    }\n",
       "</style>\n",
       "<table border=\"1\" class=\"dataframe\">\n",
       "  <thead>\n",
       "    <tr style=\"text-align: right;\">\n",
       "      <th></th>\n",
       "      <th>Rang</th>\n",
       "      <th>Pays</th>\n",
       "      <th>Pays reconnu</th>\n",
       "      <th>Altitude</th>\n",
       "    </tr>\n",
       "  </thead>\n",
       "  <tbody>\n",
       "    <tr>\n",
       "      <th>0</th>\n",
       "      <td>NaN</td>\n",
       "      <td>Sahara occidental</td>\n",
       "      <td>Maroc</td>\n",
       "      <td>256</td>\n",
       "    </tr>\n",
       "  </tbody>\n",
       "</table>\n",
       "</div>"
      ],
      "text/plain": [
       "   Rang               Pays Pays reconnu  Altitude\n",
       "0   NaN  Sahara occidental        Maroc       256"
      ]
     },
     "execution_count": 64,
     "metadata": {},
     "output_type": "execute_result"
    }
   ],
   "source": [
    "Dataset_Wiki_Countries_Mean_Altitude[1]"
   ]
  },
  {
   "cell_type": "code",
   "execution_count": 65,
   "id": "305c5009",
   "metadata": {},
   "outputs": [],
   "source": [
    "Df_1_Wiki_Occidental_Sahara_Mean_Altitude = Dataset_Wiki_Countries_Mean_Altitude[1]"
   ]
  },
  {
   "cell_type": "code",
   "execution_count": 66,
   "id": "f661dbcf",
   "metadata": {},
   "outputs": [
    {
     "data": {
      "text/html": [
       "<div>\n",
       "<style scoped>\n",
       "    .dataframe tbody tr th:only-of-type {\n",
       "        vertical-align: middle;\n",
       "    }\n",
       "\n",
       "    .dataframe tbody tr th {\n",
       "        vertical-align: top;\n",
       "    }\n",
       "\n",
       "    .dataframe thead th {\n",
       "        text-align: right;\n",
       "    }\n",
       "</style>\n",
       "<table border=\"1\" class=\"dataframe\">\n",
       "  <thead>\n",
       "    <tr style=\"text-align: right;\">\n",
       "      <th></th>\n",
       "      <th>Rang</th>\n",
       "      <th>Pays ou territoire</th>\n",
       "      <th>Pays responsable</th>\n",
       "      <th>Altitude</th>\n",
       "    </tr>\n",
       "  </thead>\n",
       "  <tbody>\n",
       "    <tr>\n",
       "      <th>0</th>\n",
       "      <td>NaN</td>\n",
       "      <td>Antarctique</td>\n",
       "      <td>Aucun</td>\n",
       "      <td>2300</td>\n",
       "    </tr>\n",
       "    <tr>\n",
       "      <th>1</th>\n",
       "      <td>NaN</td>\n",
       "      <td>Groenland</td>\n",
       "      <td>Danemark</td>\n",
       "      <td>1792</td>\n",
       "    </tr>\n",
       "    <tr>\n",
       "      <th>2</th>\n",
       "      <td>NaN</td>\n",
       "      <td>Porto Rico</td>\n",
       "      <td>États-Unis</td>\n",
       "      <td>263</td>\n",
       "    </tr>\n",
       "    <tr>\n",
       "      <th>3</th>\n",
       "      <td>NaN</td>\n",
       "      <td>Guyane</td>\n",
       "      <td>France</td>\n",
       "      <td>168</td>\n",
       "    </tr>\n",
       "  </tbody>\n",
       "</table>\n",
       "</div>"
      ],
      "text/plain": [
       "   Rang Pays ou territoire Pays responsable  Altitude\n",
       "0   NaN        Antarctique            Aucun      2300\n",
       "1   NaN          Groenland         Danemark      1792\n",
       "2   NaN         Porto Rico       États-Unis       263\n",
       "3   NaN             Guyane           France       168"
      ]
     },
     "execution_count": 66,
     "metadata": {},
     "output_type": "execute_result"
    }
   ],
   "source": [
    "Dataset_Wiki_Countries_Mean_Altitude[2]"
   ]
  },
  {
   "cell_type": "code",
   "execution_count": 67,
   "id": "2dcfc3a4",
   "metadata": {},
   "outputs": [],
   "source": [
    "Df_2_Wiki_Territories_Mean_Altitude = Dataset_Wiki_Countries_Mean_Altitude[2]"
   ]
  },
  {
   "cell_type": "code",
   "execution_count": 68,
   "id": "1b23fd1a",
   "metadata": {},
   "outputs": [
    {
     "data": {
      "text/html": [
       "<div>\n",
       "<style scoped>\n",
       "    .dataframe tbody tr th:only-of-type {\n",
       "        vertical-align: middle;\n",
       "    }\n",
       "\n",
       "    .dataframe tbody tr th {\n",
       "        vertical-align: top;\n",
       "    }\n",
       "\n",
       "    .dataframe thead th {\n",
       "        text-align: right;\n",
       "    }\n",
       "</style>\n",
       "<table border=\"1\" class=\"dataframe\">\n",
       "  <thead>\n",
       "    <tr style=\"text-align: right;\">\n",
       "      <th></th>\n",
       "      <th>v · mListes de pays</th>\n",
       "      <th>v · mListes de pays.1</th>\n",
       "    </tr>\n",
       "  </thead>\n",
       "  <tbody>\n",
       "    <tr>\n",
       "      <th>0</th>\n",
       "      <td>Démographie</td>\n",
       "      <td>Population 1700 1800 1907 Densité de populatio...</td>\n",
       "    </tr>\n",
       "    <tr>\n",
       "      <th>1</th>\n",
       "      <td>Économie</td>\n",
       "      <td>Monnaies Dette publique Dette extérieure Égali...</td>\n",
       "    </tr>\n",
       "    <tr>\n",
       "      <th>2</th>\n",
       "      <td>Éducation</td>\n",
       "      <td>Dépenses d'éducation Taux d'alphabétisation Cl...</td>\n",
       "    </tr>\n",
       "    <tr>\n",
       "      <th>3</th>\n",
       "      <td>Environnement</td>\n",
       "      <td>Performance environnementale Empreinte écologi...</td>\n",
       "    </tr>\n",
       "    <tr>\n",
       "      <th>4</th>\n",
       "      <td>Géographie</td>\n",
       "      <td>Continent Superficie forestière Sans cours d'e...</td>\n",
       "    </tr>\n",
       "    <tr>\n",
       "      <th>5</th>\n",
       "      <td>Militaire</td>\n",
       "      <td>Paix Dépenses militaires Forces militaires Ne ...</td>\n",
       "    </tr>\n",
       "    <tr>\n",
       "      <th>6</th>\n",
       "      <td>Politique</td>\n",
       "      <td>États membres de l'ONU Date d'acquisition de l...</td>\n",
       "    </tr>\n",
       "    <tr>\n",
       "      <th>7</th>\n",
       "      <td>Religion</td>\n",
       "      <td>Par religion Irréligion Bouddhisme Christianis...</td>\n",
       "    </tr>\n",
       "    <tr>\n",
       "      <th>8</th>\n",
       "      <td>Santé</td>\n",
       "      <td>Dépenses de santé Consommation de médicaments ...</td>\n",
       "    </tr>\n",
       "    <tr>\n",
       "      <th>9</th>\n",
       "      <td>Droit</td>\n",
       "      <td>Peine de mort exécutions les plus récentes Tau...</td>\n",
       "    </tr>\n",
       "    <tr>\n",
       "      <th>10</th>\n",
       "      <td>Symboles</td>\n",
       "      <td>Drapeaux Armoiries Hymnes Gentilés Étymologies...</td>\n",
       "    </tr>\n",
       "    <tr>\n",
       "      <th>11</th>\n",
       "      <td>Tourisme</td>\n",
       "      <td>Destinations touristiques Liste des destinatio...</td>\n",
       "    </tr>\n",
       "    <tr>\n",
       "      <th>12</th>\n",
       "      <td>Codes</td>\n",
       "      <td>CIO Indicatifs téléphoniques par pays Football...</td>\n",
       "    </tr>\n",
       "    <tr>\n",
       "      <th>13</th>\n",
       "      <td>Autre</td>\n",
       "      <td>Nombres de véhicules Pays fictifs (sur Terre) ...</td>\n",
       "    </tr>\n",
       "  </tbody>\n",
       "</table>\n",
       "</div>"
      ],
      "text/plain": [
       "   v · mListes de pays                              v · mListes de pays.1\n",
       "0          Démographie  Population 1700 1800 1907 Densité de populatio...\n",
       "1             Économie  Monnaies Dette publique Dette extérieure Égali...\n",
       "2            Éducation  Dépenses d'éducation Taux d'alphabétisation Cl...\n",
       "3        Environnement  Performance environnementale Empreinte écologi...\n",
       "4           Géographie  Continent Superficie forestière Sans cours d'e...\n",
       "5            Militaire  Paix Dépenses militaires Forces militaires Ne ...\n",
       "6            Politique  États membres de l'ONU Date d'acquisition de l...\n",
       "7             Religion  Par religion Irréligion Bouddhisme Christianis...\n",
       "8                Santé  Dépenses de santé Consommation de médicaments ...\n",
       "9                Droit  Peine de mort exécutions les plus récentes Tau...\n",
       "10            Symboles  Drapeaux Armoiries Hymnes Gentilés Étymologies...\n",
       "11            Tourisme  Destinations touristiques Liste des destinatio...\n",
       "12               Codes  CIO Indicatifs téléphoniques par pays Football...\n",
       "13               Autre  Nombres de véhicules Pays fictifs (sur Terre) ..."
      ]
     },
     "execution_count": 68,
     "metadata": {},
     "output_type": "execute_result"
    }
   ],
   "source": [
    "Dataset_Wiki_Countries_Mean_Altitude[3]"
   ]
  }
 ],
 "metadata": {
  "kernelspec": {
   "display_name": "Python 3 (ipykernel)",
   "language": "python",
   "name": "python3"
  },
  "language_info": {
   "codemirror_mode": {
    "name": "ipython",
    "version": 3
   },
   "file_extension": ".py",
   "mimetype": "text/x-python",
   "name": "python",
   "nbconvert_exporter": "python",
   "pygments_lexer": "ipython3",
   "version": "3.11.9"
  }
 },
 "nbformat": 4,
 "nbformat_minor": 5
}
