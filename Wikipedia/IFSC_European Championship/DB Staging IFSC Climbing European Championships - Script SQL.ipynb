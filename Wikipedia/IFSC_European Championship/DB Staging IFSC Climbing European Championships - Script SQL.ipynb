{
 "cells": [
  {
   "cell_type": "markdown",
   "id": "73ea9c6d",
   "metadata": {},
   "source": [
    "### Script SQL for Dataframe of IFSC Climbing European Championships in DB Staging"
   ]
  },
  {
   "cell_type": "markdown",
   "id": "bf59ca54",
   "metadata": {},
   "source": [
    "in the Data availabe on 03sept2024"
   ]
  },
  {
   "cell_type": "markdown",
   "id": "72d14de1",
   "metadata": {},
   "source": [
    "Sex : Male, Female"
   ]
  },
  {
   "cell_type": "markdown",
   "id": "107f032d",
   "metadata": {},
   "source": [
    "Age Category : Senior (no Junior)"
   ]
  },
  {
   "cell_type": "markdown",
   "id": "10ad9dce",
   "metadata": {},
   "source": [
    "Disciplines : Lead, Bouldering, Speed,Combined "
   ]
  },
  {
   "cell_type": "code",
   "execution_count": 1,
   "id": "669a39fa",
   "metadata": {},
   "outputs": [],
   "source": [
    "import numpy as np\n",
    "import pandas as pd\n",
    "# Beautifulsoup already installed into Anaconda environment\n",
    "\n",
    "# Librairy PyODBC for SQL Server connection\n",
    "import os\n",
    "import pyodbc\n",
    "# setup SQL Server connection session\n",
    "server = '-PCSJN\\DATAVIZ'  \n",
    "database = 'Climbing_Staging'\n",
    "connection_string= (\n",
    "                    'DRIVER={SQL Server};SERVER='\n",
    "                     + server\n",
    "                     + ';DATABASE='\n",
    "                     + database \n",
    "                     + ';Trusted_Connection=yes'                  \n",
    "                    )"
   ]
  },
  {
   "cell_type": "code",
   "execution_count": 3,
   "id": "7be24602",
   "metadata": {},
   "outputs": [],
   "source": [
    "# script de création d'une table ds SQL \n",
    "create_table = \"\"\"Create TABLE Wiki_IFSC_Climbing_European_Championships_Climbers_Synthesis_03sept2024\n",
    "                                   ( \n",
    "                                        id INT IDENTITY PRIMARY KEY,\n",
    "                                        Competition VARCHAR(100),\n",
    "                                        Discipline VARCHAR(100),\n",
    "                                        Category_Age VARCHAR(100),\n",
    "                                        Sex VARCHAR(100),\n",
    "                                        Year VARCHAR(100),\n",
    "                                        Gold VARCHAR(100),\n",
    "                                        Silver VARCHAR(100),\n",
    "                                        Bronze VARCHAR(100),                                                                                                 \n",
    "                                   ) \"\"\"\n",
    "\n",
    "# launch session\n",
    "cnxn = pyodbc.connect(connection_string,autocommit=True) # no cursor.commit as Autocommit already\n",
    "cursor = cnxn.cursor() \n",
    "\n",
    "try: \n",
    "    # load script \"create \" \n",
    "    cursor.execute(create_table) \n",
    "     \n",
    "except Exception as err: \n",
    "    print('err:',err) \n",
    "try: \n",
    "    cursor.close()  # close session\n",
    "except Exception as err: \n",
    "    print('err:',err)"
   ]
  },
  {
   "cell_type": "code",
   "execution_count": null,
   "id": "295b33c3",
   "metadata": {},
   "outputs": [],
   "source": []
  }
 ],
 "metadata": {
  "kernelspec": {
   "display_name": "Python 3 (ipykernel)",
   "language": "python",
   "name": "python3"
  },
  "language_info": {
   "codemirror_mode": {
    "name": "ipython",
    "version": 3
   },
   "file_extension": ".py",
   "mimetype": "text/x-python",
   "name": "python",
   "nbconvert_exporter": "python",
   "pygments_lexer": "ipython3",
   "version": "3.11.9"
  }
 },
 "nbformat": 4,
 "nbformat_minor": 5
}
