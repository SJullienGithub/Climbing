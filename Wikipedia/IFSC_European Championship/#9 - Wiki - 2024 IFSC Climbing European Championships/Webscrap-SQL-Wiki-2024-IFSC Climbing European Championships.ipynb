{
 "cells": [
  {
   "cell_type": "markdown",
   "id": "73ea9c6d",
   "metadata": {},
   "source": [
    "### Webscrapping with Pandas pd.read_html()  + ODBC on SQL Server with pyodbc"
   ]
  },
  {
   "cell_type": "markdown",
   "id": "2001a642",
   "metadata": {},
   "source": [
    "#### Source : Wikipedia / Sport climbing at 2024 IFSC Climbing European Championships"
   ]
  },
  {
   "cell_type": "markdown",
   "id": "fc95af51",
   "metadata": {},
   "source": [
    "The 2024 IFSC Climbing European Championships, the 15th edition, was held in Villars-sur-Ollon, Switzerland from 27 August to 1 September 2024. "
   ]
  },
  {
   "cell_type": "markdown",
   "id": "6c5aafda",
   "metadata": {},
   "source": [
    "The competition climbing event consisted of lead, speed, bouldering, and combined events"
   ]
  },
  {
   "cell_type": "code",
   "execution_count": 3,
   "id": "669a39fa",
   "metadata": {},
   "outputs": [],
   "source": [
    "import numpy as np\n",
    "import pandas as pd\n",
    "# Beautifulsoup already installed into Anaconda environment\n",
    "\n",
    "# Librairy PyODBC for SQL Server connection\n",
    "import os\n",
    "import pyodbc\n",
    "# setup SQL Server connection session\n",
    "server = '-PCSJN\\DATAVIZ'  \n",
    "database = 'Climbing_Staging'\n",
    "connection_string= (\n",
    "                    'DRIVER={SQL Server};SERVER='\n",
    "                     + server\n",
    "                     + ';DATABASE='\n",
    "                     + database \n",
    "                     + ';Trusted_Connection=yes'                  \n",
    "                    )\n",
    "\n",
    "# Function for injecting dataframe content into SQL Server Table\n",
    "def template_SQL_insert_values(table_name,dict):\n",
    "    \n",
    "    columns = \"(\"\n",
    "    for k in dict.keys():\n",
    "        columns += str(k) + ','\n",
    "    columns = columns[:-1] ### remove last comma\n",
    "    columns += \")\"\n",
    "    \n",
    "    req = f\"\"\"INSERT INTO {table_name} {columns} VALUES {tuple(dict.values())}\"\"\"\n",
    "    return req"
   ]
  },
  {
   "cell_type": "code",
   "execution_count": 4,
   "id": "f789ecf1",
   "metadata": {},
   "outputs": [
    {
     "data": {
      "text/plain": [
       "(list, 4)"
      ]
     },
     "execution_count": 4,
     "metadata": {},
     "output_type": "execute_result"
    }
   ],
   "source": [
    "### url\n",
    "Wiki_Climbing_2024_IFSC_European_Championship = \"https://en.wikipedia.org/wiki/2024_IFSC_Climbing_European_Championships#:~:text=The%202024%20IFSC%20Climbing%20European,%2C%20bouldering%2C%20and%20combined%20events.\"\n",
    "### récuperer toutes les tables html vu sur le site (url)\n",
    "Dataset_Wiki_Climbing_2024_IFSC_European_Championship = pd.read_html(Wiki_Climbing_2024_IFSC_European_Championship)\n",
    "type(Dataset_Wiki_Climbing_2024_IFSC_European_Championship), len(Dataset_Wiki_Climbing_2024_IFSC_European_Championship)"
   ]
  },
  {
   "cell_type": "markdown",
   "id": "33d96a1a",
   "metadata": {},
   "source": [
    "##### on récupère 1 list de 4 élts"
   ]
  },
  {
   "cell_type": "code",
   "execution_count": 5,
   "id": "bc12a62b",
   "metadata": {},
   "outputs": [
    {
     "data": {
      "text/plain": [
       "pandas.core.frame.DataFrame"
      ]
     },
     "execution_count": 5,
     "metadata": {},
     "output_type": "execute_result"
    }
   ],
   "source": [
    "type(Dataset_Wiki_Climbing_2024_IFSC_European_Championship[0])"
   ]
  },
  {
   "cell_type": "markdown",
   "id": "f64692b3",
   "metadata": {},
   "source": [
    "##### > Chaque élt est un DataFrame Pandas\n",
    "##### ? Quel est le contenu chacun des 9 dataframes ? Lesquelles nous interessent ?"
   ]
  },
  {
   "cell_type": "code",
   "execution_count": 6,
   "id": "65fa8500",
   "metadata": {},
   "outputs": [
    {
     "data": {
      "text/html": [
       "<div>\n",
       "<style scoped>\n",
       "    .dataframe tbody tr th:only-of-type {\n",
       "        vertical-align: middle;\n",
       "    }\n",
       "\n",
       "    .dataframe tbody tr th {\n",
       "        vertical-align: top;\n",
       "    }\n",
       "\n",
       "    .dataframe thead th {\n",
       "        text-align: right;\n",
       "    }\n",
       "</style>\n",
       "<table border=\"1\" class=\"dataframe\">\n",
       "  <thead>\n",
       "    <tr style=\"text-align: right;\">\n",
       "      <th></th>\n",
       "      <th>2024 IFSC Climbing European Championships</th>\n",
       "      <th>2024 IFSC Climbing European Championships.1</th>\n",
       "    </tr>\n",
       "  </thead>\n",
       "  <tbody>\n",
       "    <tr>\n",
       "      <th>0</th>\n",
       "      <td>Venue</td>\n",
       "      <td>Place du Rendez-Vous</td>\n",
       "    </tr>\n",
       "    <tr>\n",
       "      <th>1</th>\n",
       "      <td>Location</td>\n",
       "      <td>Villars-sur-Ollon, Switzerland</td>\n",
       "    </tr>\n",
       "    <tr>\n",
       "      <th>2</th>\n",
       "      <td>Date</td>\n",
       "      <td>27 August – 1 September</td>\n",
       "    </tr>\n",
       "    <tr>\n",
       "      <th>3</th>\n",
       "      <td>Website</td>\n",
       "      <td>ifsc-climbing.org</td>\n",
       "    </tr>\n",
       "    <tr>\n",
       "      <th>4</th>\n",
       "      <td>← 20222026 →</td>\n",
       "      <td>← 20222026 →</td>\n",
       "    </tr>\n",
       "  </tbody>\n",
       "</table>\n",
       "</div>"
      ],
      "text/plain": [
       "  2024 IFSC Climbing European Championships  \\\n",
       "0                                     Venue   \n",
       "1                                  Location   \n",
       "2                                      Date   \n",
       "3                                   Website   \n",
       "4                              ← 20222026 →   \n",
       "\n",
       "  2024 IFSC Climbing European Championships.1  \n",
       "0                        Place du Rendez-Vous  \n",
       "1              Villars-sur-Ollon, Switzerland  \n",
       "2                     27 August – 1 September  \n",
       "3                           ifsc-climbing.org  \n",
       "4                                ← 20222026 →  "
      ]
     },
     "execution_count": 6,
     "metadata": {},
     "output_type": "execute_result"
    }
   ],
   "source": [
    "Dataset_Wiki_Climbing_2024_IFSC_European_Championship[0]"
   ]
  },
  {
   "cell_type": "markdown",
   "id": "0c3ca9b2",
   "metadata": {},
   "source": [
    "######## [0] is dataset of summarized data about Sport Climbing at 2024 IFSC Climbing European Championships dataset > NOT to Discard"
   ]
  },
  {
   "cell_type": "code",
   "execution_count": 7,
   "id": "c27ceede",
   "metadata": {},
   "outputs": [
    {
     "data": {
      "text/html": [
       "<div>\n",
       "<style scoped>\n",
       "    .dataframe tbody tr th:only-of-type {\n",
       "        vertical-align: middle;\n",
       "    }\n",
       "\n",
       "    .dataframe tbody tr th {\n",
       "        vertical-align: top;\n",
       "    }\n",
       "\n",
       "    .dataframe thead th {\n",
       "        text-align: right;\n",
       "    }\n",
       "</style>\n",
       "<table border=\"1\" class=\"dataframe\">\n",
       "  <thead>\n",
       "    <tr style=\"text-align: right;\">\n",
       "      <th></th>\n",
       "      <th>Event</th>\n",
       "      <th>Gold</th>\n",
       "      <th>Silver</th>\n",
       "      <th>Bronze</th>\n",
       "    </tr>\n",
       "  </thead>\n",
       "  <tbody>\n",
       "    <tr>\n",
       "      <th>0</th>\n",
       "      <td>Men's boulder[2]</td>\n",
       "      <td>Sam Avezou  France</td>\n",
       "      <td>Maximillian Milne  Great Britain</td>\n",
       "      <td>Dayan Akhtar  Great Britain</td>\n",
       "    </tr>\n",
       "    <tr>\n",
       "      <th>1</th>\n",
       "      <td>Men's lead[3]</td>\n",
       "      <td>Sascha Lehmann  Switzerland</td>\n",
       "      <td>Sam Avezou  France</td>\n",
       "      <td>Guillermo Peinado  Spain</td>\n",
       "    </tr>\n",
       "    <tr>\n",
       "      <th>2</th>\n",
       "      <td>Men's speed[4]</td>\n",
       "      <td>Ludovico Fossali  Italy</td>\n",
       "      <td>Matteo Zurloni  Italy</td>\n",
       "      <td>Erik Noya Cardona  Spain</td>\n",
       "    </tr>\n",
       "    <tr>\n",
       "      <th>3</th>\n",
       "      <td>Men's combined (boulder &amp; lead)[5]</td>\n",
       "      <td>Sam Avezou  France</td>\n",
       "      <td>Sascha Lehmann  Switzerland</td>\n",
       "      <td>Jonas Utelli  Switzerland</td>\n",
       "    </tr>\n",
       "    <tr>\n",
       "      <th>4</th>\n",
       "      <td>Women's boulder[6]</td>\n",
       "      <td>Naïlé Meignan  France</td>\n",
       "      <td>Ayala Kerem  Israel</td>\n",
       "      <td>Agathe Calliet  France</td>\n",
       "    </tr>\n",
       "    <tr>\n",
       "      <th>5</th>\n",
       "      <td>Women's lead[7]</td>\n",
       "      <td>Laura Rogora  Italy</td>\n",
       "      <td>Jenya Kazbekova  Ukraine</td>\n",
       "      <td>Lynn van der Meer  Netherlands</td>\n",
       "    </tr>\n",
       "    <tr>\n",
       "      <th>6</th>\n",
       "      <td>Women's speed[8]</td>\n",
       "      <td>Natalia Kałucka  Poland</td>\n",
       "      <td>Patrycja Chudziak  Poland</td>\n",
       "      <td>Giulia Randi  Italy</td>\n",
       "    </tr>\n",
       "    <tr>\n",
       "      <th>7</th>\n",
       "      <td>Women's combined (boulder &amp; lead)[9]</td>\n",
       "      <td>Laura Rogora  Italy</td>\n",
       "      <td>Jenya Kazbekova  Ukraine</td>\n",
       "      <td>Zélia Avezou  France</td>\n",
       "    </tr>\n",
       "  </tbody>\n",
       "</table>\n",
       "</div>"
      ],
      "text/plain": [
       "                                  Event                         Gold  \\\n",
       "0                      Men's boulder[2]           Sam Avezou  France   \n",
       "1                         Men's lead[3]  Sascha Lehmann  Switzerland   \n",
       "2                        Men's speed[4]      Ludovico Fossali  Italy   \n",
       "3    Men's combined (boulder & lead)[5]           Sam Avezou  France   \n",
       "4                    Women's boulder[6]        Naïlé Meignan  France   \n",
       "5                       Women's lead[7]          Laura Rogora  Italy   \n",
       "6                      Women's speed[8]      Natalia Kałucka  Poland   \n",
       "7  Women's combined (boulder & lead)[9]          Laura Rogora  Italy   \n",
       "\n",
       "                             Silver                          Bronze  \n",
       "0  Maximillian Milne  Great Britain     Dayan Akhtar  Great Britain  \n",
       "1                Sam Avezou  France        Guillermo Peinado  Spain  \n",
       "2             Matteo Zurloni  Italy        Erik Noya Cardona  Spain  \n",
       "3       Sascha Lehmann  Switzerland       Jonas Utelli  Switzerland  \n",
       "4               Ayala Kerem  Israel          Agathe Calliet  France  \n",
       "5          Jenya Kazbekova  Ukraine  Lynn van der Meer  Netherlands  \n",
       "6         Patrycja Chudziak  Poland             Giulia Randi  Italy  \n",
       "7          Jenya Kazbekova  Ukraine            Zélia Avezou  France  "
      ]
     },
     "execution_count": 7,
     "metadata": {},
     "output_type": "execute_result"
    }
   ],
   "source": [
    "Dataset_Wiki_Climbing_2024_IFSC_European_Championship[1]"
   ]
  },
  {
   "cell_type": "markdown",
   "id": "d2521ef3",
   "metadata": {},
   "source": [
    "######## [1] about Men and Women Medal winner full names and Nations in BOULDERING, LEAD, SPEED and COMBINED (boulder + lead) at 2024 European Championship > NOT to Discard."
   ]
  },
  {
   "cell_type": "code",
   "execution_count": 8,
   "id": "ff6e2858",
   "metadata": {},
   "outputs": [
    {
     "data": {
      "text/plain": [
       "Index(['Event', 'Gold', 'Silver', 'Bronze'], dtype='object')"
      ]
     },
     "execution_count": 8,
     "metadata": {},
     "output_type": "execute_result"
    }
   ],
   "source": [
    "Dataset_Wiki_Climbing_2024_IFSC_European_Championship[1].columns"
   ]
  },
  {
   "cell_type": "code",
   "execution_count": 9,
   "id": "8d309076",
   "metadata": {},
   "outputs": [
    {
     "data": {
      "text/html": [
       "<div>\n",
       "<style scoped>\n",
       "    .dataframe tbody tr th:only-of-type {\n",
       "        vertical-align: middle;\n",
       "    }\n",
       "\n",
       "    .dataframe tbody tr th {\n",
       "        vertical-align: top;\n",
       "    }\n",
       "\n",
       "    .dataframe thead th {\n",
       "        text-align: right;\n",
       "    }\n",
       "</style>\n",
       "<table border=\"1\" class=\"dataframe\">\n",
       "  <thead>\n",
       "    <tr style=\"text-align: right;\">\n",
       "      <th></th>\n",
       "      <th>Year</th>\n",
       "      <th>Gold</th>\n",
       "      <th>Silver</th>\n",
       "      <th>Bronze</th>\n",
       "    </tr>\n",
       "  </thead>\n",
       "  <tbody>\n",
       "    <tr>\n",
       "      <th>0</th>\n",
       "      <td>Men's boulder[2]</td>\n",
       "      <td>Sam Avezou  France</td>\n",
       "      <td>Maximillian Milne  Great Britain</td>\n",
       "      <td>Dayan Akhtar  Great Britain</td>\n",
       "    </tr>\n",
       "    <tr>\n",
       "      <th>1</th>\n",
       "      <td>Men's lead[3]</td>\n",
       "      <td>Sascha Lehmann  Switzerland</td>\n",
       "      <td>Sam Avezou  France</td>\n",
       "      <td>Guillermo Peinado  Spain</td>\n",
       "    </tr>\n",
       "    <tr>\n",
       "      <th>2</th>\n",
       "      <td>Men's speed[4]</td>\n",
       "      <td>Ludovico Fossali  Italy</td>\n",
       "      <td>Matteo Zurloni  Italy</td>\n",
       "      <td>Erik Noya Cardona  Spain</td>\n",
       "    </tr>\n",
       "    <tr>\n",
       "      <th>3</th>\n",
       "      <td>Men's combined (boulder &amp; lead)[5]</td>\n",
       "      <td>Sam Avezou  France</td>\n",
       "      <td>Sascha Lehmann  Switzerland</td>\n",
       "      <td>Jonas Utelli  Switzerland</td>\n",
       "    </tr>\n",
       "    <tr>\n",
       "      <th>4</th>\n",
       "      <td>Women's boulder[6]</td>\n",
       "      <td>Naïlé Meignan  France</td>\n",
       "      <td>Ayala Kerem  Israel</td>\n",
       "      <td>Agathe Calliet  France</td>\n",
       "    </tr>\n",
       "    <tr>\n",
       "      <th>5</th>\n",
       "      <td>Women's lead[7]</td>\n",
       "      <td>Laura Rogora  Italy</td>\n",
       "      <td>Jenya Kazbekova  Ukraine</td>\n",
       "      <td>Lynn van der Meer  Netherlands</td>\n",
       "    </tr>\n",
       "    <tr>\n",
       "      <th>6</th>\n",
       "      <td>Women's speed[8]</td>\n",
       "      <td>Natalia Kałucka  Poland</td>\n",
       "      <td>Patrycja Chudziak  Poland</td>\n",
       "      <td>Giulia Randi  Italy</td>\n",
       "    </tr>\n",
       "    <tr>\n",
       "      <th>7</th>\n",
       "      <td>Women's combined (boulder &amp; lead)[9]</td>\n",
       "      <td>Laura Rogora  Italy</td>\n",
       "      <td>Jenya Kazbekova  Ukraine</td>\n",
       "      <td>Zélia Avezou  France</td>\n",
       "    </tr>\n",
       "  </tbody>\n",
       "</table>\n",
       "</div>"
      ],
      "text/plain": [
       "                                   Year                         Gold  \\\n",
       "0                      Men's boulder[2]           Sam Avezou  France   \n",
       "1                         Men's lead[3]  Sascha Lehmann  Switzerland   \n",
       "2                        Men's speed[4]      Ludovico Fossali  Italy   \n",
       "3    Men's combined (boulder & lead)[5]           Sam Avezou  France   \n",
       "4                    Women's boulder[6]        Naïlé Meignan  France   \n",
       "5                       Women's lead[7]          Laura Rogora  Italy   \n",
       "6                      Women's speed[8]      Natalia Kałucka  Poland   \n",
       "7  Women's combined (boulder & lead)[9]          Laura Rogora  Italy   \n",
       "\n",
       "                             Silver                          Bronze  \n",
       "0  Maximillian Milne  Great Britain     Dayan Akhtar  Great Britain  \n",
       "1                Sam Avezou  France        Guillermo Peinado  Spain  \n",
       "2             Matteo Zurloni  Italy        Erik Noya Cardona  Spain  \n",
       "3       Sascha Lehmann  Switzerland       Jonas Utelli  Switzerland  \n",
       "4               Ayala Kerem  Israel          Agathe Calliet  France  \n",
       "5          Jenya Kazbekova  Ukraine  Lynn van der Meer  Netherlands  \n",
       "6         Patrycja Chudziak  Poland             Giulia Randi  Italy  \n",
       "7          Jenya Kazbekova  Ukraine            Zélia Avezou  France  "
      ]
     },
     "execution_count": 9,
     "metadata": {},
     "output_type": "execute_result"
    }
   ],
   "source": [
    "# Replace 'Event' column by 'Year' to fit with other tables. Result for Gender and Discipline are in a specific table\n",
    "Dataset_Wiki_Climbing_2024_IFSC_European_Championship[1].columns =  ['Year','Gold','Silver','Bronze']\n",
    "Dataset_Wiki_Climbing_2024_IFSC_European_Championship[1]"
   ]
  },
  {
   "cell_type": "code",
   "execution_count": 10,
   "id": "90927ef6",
   "metadata": {},
   "outputs": [],
   "source": [
    "# Split Men/Women and Disciplines into differents df\n",
    "Wiki_IFSC_Climbing_European_Championship_2024_Medal_Men_Bouldering_Df1 = Dataset_Wiki_Climbing_2024_IFSC_European_Championship[1].loc[0,:]\n",
    "Wiki_IFSC_Climbing_European_Championship_2024_Medal_Men_Lead_Df1 = Dataset_Wiki_Climbing_2024_IFSC_European_Championship[1].loc[1,:]\n",
    "Wiki_IFSC_Climbing_European_Championship_2024_Medal_Men_Speed_Df1 = Dataset_Wiki_Climbing_2024_IFSC_European_Championship[1].loc[2,:]\n",
    "Wiki_IFSC_Climbing_European_Championship_2024_Medal_Men_Combined_Df1 = Dataset_Wiki_Climbing_2024_IFSC_European_Championship[1].loc[3,:]\n",
    "Wiki_IFSC_Climbing_European_Championship_2024_Medal_Women_Bouldering_Df1 = Dataset_Wiki_Climbing_2024_IFSC_European_Championship[1].loc[4,:]\n",
    "Wiki_IFSC_Climbing_European_Championship_2024_Medal_Women_Lead_Df1 = Dataset_Wiki_Climbing_2024_IFSC_European_Championship[1].loc[5,:]\n",
    "Wiki_IFSC_Climbing_European_Championship_2024_Medal_Women_Speed_Df1 = Dataset_Wiki_Climbing_2024_IFSC_European_Championship[1].loc[6,:]\n",
    "Wiki_IFSC_Climbing_European_Championship_2024_Medal_Women_Combined_Df1 = Dataset_Wiki_Climbing_2024_IFSC_European_Championship[1].loc[7,:]"
   ]
  },
  {
   "cell_type": "code",
   "execution_count": 11,
   "id": "0afa463f",
   "metadata": {},
   "outputs": [
    {
     "data": {
      "text/plain": [
       "Year                      Men's boulder[2]\n",
       "Gold                    Sam Avezou  France\n",
       "Silver    Maximillian Milne  Great Britain\n",
       "Bronze         Dayan Akhtar  Great Britain\n",
       "Name: 0, dtype: object"
      ]
     },
     "execution_count": 11,
     "metadata": {},
     "output_type": "execute_result"
    }
   ],
   "source": [
    "Wiki_IFSC_Climbing_European_Championship_2024_Medal_Men_Bouldering_Df1"
   ]
  },
  {
   "cell_type": "code",
   "execution_count": 12,
   "id": "fcc8bc96",
   "metadata": {},
   "outputs": [],
   "source": [
    "# script de création d'une table ds SQL \n",
    "create_table = \"\"\"Create TABLE Wiki_IFSC_Climbing_European_Championship_2024_Medal_Men_Bouldering_Df1\n",
    "                                   ( \n",
    "                                        id INT IDENTITY PRIMARY KEY,\n",
    "                                        Year VARCHAR(100),\n",
    "                                        Gold VARCHAR(100),\n",
    "                                        Silver VARCHAR(100),\n",
    "                                        Bronze VARCHAR(100),                                                                   \n",
    "                                   ) \"\"\"\n",
    "\n",
    "# script d'ajout des data d'une table ds SQL\n",
    "# le pays n'est pas ajouté, pour matcher avec les autres tables, et 2024 est ajouté ds champ Year\n",
    "populate_table = \"\"\"INSERT INTO Wiki_IFSC_Climbing_European_Championship_2024_Medal_Men_Bouldering_Df1 VALUES ('2024','Sam Avezou','Maximillian Milne','Dayan Akhtar')\n",
    "                    \"\"\"\n",
    "                                  \n",
    "# launch session\n",
    "cnxn = pyodbc.connect(connection_string,autocommit=True) # no cursor.commit as Autocommit already\n",
    "cursor = cnxn.cursor() \n",
    "\n",
    "try: \n",
    "    # load script \"create \" \n",
    "    cursor.execute(create_table) \n",
    "    \n",
    "    # population de la table ds SQL\n",
    "    cursor.execute(populate_table) \n",
    "   \n",
    "except Exception as err: \n",
    "    print('err:',err) \n",
    "try: \n",
    "    cursor.close()  # close session\n",
    "except Exception as err: \n",
    "    print('err:',err)"
   ]
  },
  {
   "cell_type": "code",
   "execution_count": 13,
   "id": "6c399c5a",
   "metadata": {},
   "outputs": [
    {
     "data": {
      "text/plain": [
       "Year                    Men's lead[3]\n",
       "Gold      Sascha Lehmann  Switzerland\n",
       "Silver             Sam Avezou  France\n",
       "Bronze       Guillermo Peinado  Spain\n",
       "Name: 1, dtype: object"
      ]
     },
     "execution_count": 13,
     "metadata": {},
     "output_type": "execute_result"
    }
   ],
   "source": [
    "Wiki_IFSC_Climbing_European_Championship_2024_Medal_Men_Lead_Df1"
   ]
  },
  {
   "cell_type": "code",
   "execution_count": 14,
   "id": "860ea1a1",
   "metadata": {},
   "outputs": [],
   "source": [
    "# script de création d'une table ds SQL \n",
    "create_table = \"\"\"Create TABLE Wiki_IFSC_Climbing_European_Championship_2024_Medal_Men_Lead_Df1\n",
    "                                   ( \n",
    "                                        id INT IDENTITY PRIMARY KEY,\n",
    "                                        Year VARCHAR(100),\n",
    "                                        Gold VARCHAR(100),\n",
    "                                        Silver VARCHAR(100),\n",
    "                                        Bronze VARCHAR(100),                                                                   \n",
    "                                   ) \"\"\"\n",
    "\n",
    "# script d'ajout des data d'une table ds SQL\n",
    "# le pays n'est pas ajouté, pour matcher avec les autres tables, et 2024 est ajouté ds champ Year\n",
    "populate_table = \"\"\"INSERT INTO Wiki_IFSC_Climbing_European_Championship_2024_Medal_Men_Lead_Df1 VALUES ('2024','Sascha Lehmann','Sam Avezou','Guillermo Peinado')\n",
    "                    \"\"\"\n",
    "                                  \n",
    "# launch session\n",
    "cnxn = pyodbc.connect(connection_string,autocommit=True) # no cursor.commit as Autocommit already\n",
    "cursor = cnxn.cursor() \n",
    "\n",
    "try: \n",
    "    # load script \"create \" \n",
    "    cursor.execute(create_table) \n",
    "    \n",
    "    # population de la table ds SQL\n",
    "    cursor.execute(populate_table) \n",
    "   \n",
    "except Exception as err: \n",
    "    print('err:',err) \n",
    "try: \n",
    "    cursor.close()  # close session\n",
    "except Exception as err: \n",
    "    print('err:',err)"
   ]
  },
  {
   "cell_type": "code",
   "execution_count": 15,
   "id": "0232b08b",
   "metadata": {},
   "outputs": [
    {
     "data": {
      "text/plain": [
       "Year                Men's speed[4]\n",
       "Gold       Ludovico Fossali  Italy\n",
       "Silver       Matteo Zurloni  Italy\n",
       "Bronze    Erik Noya Cardona  Spain\n",
       "Name: 2, dtype: object"
      ]
     },
     "execution_count": 15,
     "metadata": {},
     "output_type": "execute_result"
    }
   ],
   "source": [
    "Wiki_IFSC_Climbing_European_Championship_2024_Medal_Men_Speed_Df1"
   ]
  },
  {
   "cell_type": "code",
   "execution_count": 16,
   "id": "7d61c9dd",
   "metadata": {},
   "outputs": [],
   "source": [
    "# script de création d'une table ds SQL \n",
    "create_table = \"\"\"Create TABLE Wiki_IFSC_Climbing_European_Championship_2024_Medal_Men_Speed_Df1\n",
    "                                   ( \n",
    "                                        id INT IDENTITY PRIMARY KEY,\n",
    "                                        Year VARCHAR(100),\n",
    "                                        Gold VARCHAR(100),\n",
    "                                        Silver VARCHAR(100),\n",
    "                                        Bronze VARCHAR(100),                                                                   \n",
    "                                   ) \"\"\"\n",
    "\n",
    "# script d'ajout des data d'une table ds SQL\n",
    "# le pays n'est pas ajouté, pour matcher avec les autres tables, et 2024 est ajouté ds champ Year\n",
    "populate_table = \"\"\"INSERT INTO Wiki_IFSC_Climbing_European_Championship_2024_Medal_Men_Speed_Df1 VALUES ('2024','Ludovico Fossali','Matteo Zurloni','Erik Noya Cardona')\n",
    "                    \"\"\"\n",
    "                                  \n",
    "# launch session\n",
    "cnxn = pyodbc.connect(connection_string,autocommit=True) # no cursor.commit as Autocommit already\n",
    "cursor = cnxn.cursor() \n",
    "\n",
    "try: \n",
    "    # load script \"create \" \n",
    "    cursor.execute(create_table) \n",
    "    \n",
    "    # population de la table ds SQL\n",
    "    cursor.execute(populate_table) \n",
    "   \n",
    "except Exception as err: \n",
    "    print('err:',err) \n",
    "try: \n",
    "    cursor.close()  # close session\n",
    "except Exception as err: \n",
    "    print('err:',err)"
   ]
  },
  {
   "cell_type": "code",
   "execution_count": 17,
   "id": "259bb554",
   "metadata": {},
   "outputs": [
    {
     "data": {
      "text/plain": [
       "Year      Men's combined (boulder & lead)[5]\n",
       "Gold                      Sam Avezou  France\n",
       "Silver           Sascha Lehmann  Switzerland\n",
       "Bronze             Jonas Utelli  Switzerland\n",
       "Name: 3, dtype: object"
      ]
     },
     "execution_count": 17,
     "metadata": {},
     "output_type": "execute_result"
    }
   ],
   "source": [
    "Wiki_IFSC_Climbing_European_Championship_2024_Medal_Men_Combined_Df1"
   ]
  },
  {
   "cell_type": "code",
   "execution_count": 18,
   "id": "82e8136e",
   "metadata": {},
   "outputs": [],
   "source": [
    "# script de création d'une table ds SQL \n",
    "create_table = \"\"\"Create TABLE Wiki_IFSC_Climbing_European_Championship_2024_Medal_Men_Combined_Df1\n",
    "                                   ( \n",
    "                                        id INT IDENTITY PRIMARY KEY,\n",
    "                                        Year VARCHAR(100),\n",
    "                                        Gold VARCHAR(100),\n",
    "                                        Silver VARCHAR(100),\n",
    "                                        Bronze VARCHAR(100),                                                                   \n",
    "                                   ) \"\"\"\n",
    "\n",
    "# script d'ajout des data d'une table ds SQL\n",
    "# le pays n'est pas ajouté, pour matcher avec les autres tables, et 2024 est ajouté ds champ Year\n",
    "populate_table = \"\"\"INSERT INTO Wiki_IFSC_Climbing_European_Championship_2024_Medal_Men_Combined_Df1 VALUES ('2024','Sam Avezou','Sascha Lehmann','Jonas Utelli')\n",
    "                    \"\"\"\n",
    "                                  \n",
    "# launch session\n",
    "cnxn = pyodbc.connect(connection_string,autocommit=True) # no cursor.commit as Autocommit already\n",
    "cursor = cnxn.cursor() \n",
    "\n",
    "try: \n",
    "    # load script \"create \" \n",
    "    cursor.execute(create_table) \n",
    "    \n",
    "    # population de la table ds SQL\n",
    "    cursor.execute(populate_table) \n",
    "   \n",
    "except Exception as err: \n",
    "    print('err:',err) \n",
    "try: \n",
    "    cursor.close()  # close session\n",
    "except Exception as err: \n",
    "    print('err:',err)"
   ]
  },
  {
   "cell_type": "code",
   "execution_count": 19,
   "id": "535c5411",
   "metadata": {},
   "outputs": [
    {
     "data": {
      "text/plain": [
       "Year          Women's boulder[6]\n",
       "Gold       Naïlé Meignan  France\n",
       "Silver       Ayala Kerem  Israel\n",
       "Bronze    Agathe Calliet  France\n",
       "Name: 4, dtype: object"
      ]
     },
     "execution_count": 19,
     "metadata": {},
     "output_type": "execute_result"
    }
   ],
   "source": [
    "Wiki_IFSC_Climbing_European_Championship_2024_Medal_Women_Bouldering_Df1"
   ]
  },
  {
   "cell_type": "code",
   "execution_count": 20,
   "id": "f7170afd",
   "metadata": {},
   "outputs": [],
   "source": [
    "# script de création d'une table ds SQL \n",
    "create_table = \"\"\"Create TABLE Wiki_IFSC_Climbing_European_Championship_2024_Medal_Women_Bouldering_Df1\n",
    "                                   ( \n",
    "                                        id INT IDENTITY PRIMARY KEY,\n",
    "                                        Year VARCHAR(100),\n",
    "                                        Gold VARCHAR(100),\n",
    "                                        Silver VARCHAR(100),\n",
    "                                        Bronze VARCHAR(100),                                                                   \n",
    "                                   ) \"\"\"\n",
    "\n",
    "# script d'ajout des data d'une table ds SQL\n",
    "# le pays n'est pas ajouté, pour matcher avec les autres tables, et 2024 est ajouté ds champ Year\n",
    "populate_table = \"\"\"INSERT INTO Wiki_IFSC_Climbing_European_Championship_2024_Medal_Women_Bouldering_Df1 VALUES ('2024','Naïlé Meignan','Ayala Kerem','Agathe Calliet')\n",
    "                    \"\"\"\n",
    "                                  \n",
    "# launch session\n",
    "cnxn = pyodbc.connect(connection_string,autocommit=True) # no cursor.commit as Autocommit already\n",
    "cursor = cnxn.cursor() \n",
    "\n",
    "try: \n",
    "    # load script \"create \" \n",
    "    cursor.execute(create_table) \n",
    "    \n",
    "    # population de la table ds SQL\n",
    "    cursor.execute(populate_table) \n",
    "   \n",
    "except Exception as err: \n",
    "    print('err:',err) \n",
    "try: \n",
    "    cursor.close()  # close session\n",
    "except Exception as err: \n",
    "    print('err:',err)"
   ]
  },
  {
   "cell_type": "code",
   "execution_count": 21,
   "id": "faa84095",
   "metadata": {},
   "outputs": [
    {
     "data": {
      "text/plain": [
       "Year                     Women's lead[7]\n",
       "Gold                 Laura Rogora  Italy\n",
       "Silver          Jenya Kazbekova  Ukraine\n",
       "Bronze    Lynn van der Meer  Netherlands\n",
       "Name: 5, dtype: object"
      ]
     },
     "execution_count": 21,
     "metadata": {},
     "output_type": "execute_result"
    }
   ],
   "source": [
    "Wiki_IFSC_Climbing_European_Championship_2024_Medal_Women_Lead_Df1"
   ]
  },
  {
   "cell_type": "code",
   "execution_count": 22,
   "id": "f9c6beda",
   "metadata": {},
   "outputs": [],
   "source": [
    "# script de création d'une table ds SQL \n",
    "create_table = \"\"\"Create TABLE Wiki_IFSC_Climbing_European_Championship_2024_Medal_Women_Lead_Df1\n",
    "                                   ( \n",
    "                                        id INT IDENTITY PRIMARY KEY,\n",
    "                                        Year VARCHAR(100),\n",
    "                                        Gold VARCHAR(100),\n",
    "                                        Silver VARCHAR(100),\n",
    "                                        Bronze VARCHAR(100),                                                                   \n",
    "                                   ) \"\"\"\n",
    "\n",
    "# script d'ajout des data d'une table ds SQL\n",
    "# le pays n'est pas ajouté, pour matcher avec les autres tables, et 2024 est ajouté ds champ Year\n",
    "populate_table = \"\"\"INSERT INTO Wiki_IFSC_Climbing_European_Championship_2024_Medal_Women_Lead_Df1 VALUES ('2024','Laura Rogora','Jenya Kazbekova','Lynn van der Meer')\n",
    "                    \"\"\"\n",
    "                                  \n",
    "# launch session\n",
    "cnxn = pyodbc.connect(connection_string,autocommit=True) # no cursor.commit as Autocommit already\n",
    "cursor = cnxn.cursor() \n",
    "\n",
    "try: \n",
    "    # load script \"create \" \n",
    "    cursor.execute(create_table) \n",
    "    \n",
    "    # population de la table ds SQL\n",
    "    cursor.execute(populate_table) \n",
    "   \n",
    "except Exception as err: \n",
    "    print('err:',err) \n",
    "try: \n",
    "    cursor.close()  # close session\n",
    "except Exception as err: \n",
    "    print('err:',err)"
   ]
  },
  {
   "cell_type": "code",
   "execution_count": 23,
   "id": "c38137a9",
   "metadata": {},
   "outputs": [
    {
     "data": {
      "text/plain": [
       "Year               Women's speed[8]\n",
       "Gold        Natalia Kałucka  Poland\n",
       "Silver    Patrycja Chudziak  Poland\n",
       "Bronze          Giulia Randi  Italy\n",
       "Name: 6, dtype: object"
      ]
     },
     "execution_count": 23,
     "metadata": {},
     "output_type": "execute_result"
    }
   ],
   "source": [
    "Wiki_IFSC_Climbing_European_Championship_2024_Medal_Women_Speed_Df1"
   ]
  },
  {
   "cell_type": "code",
   "execution_count": 24,
   "id": "902414ab",
   "metadata": {},
   "outputs": [],
   "source": [
    "# script de création d'une table ds SQL \n",
    "create_table = \"\"\"Create TABLE Wiki_IFSC_Climbing_European_Championship_2024_Medal_Women_Speed_Df1\n",
    "                                   ( \n",
    "                                        id INT IDENTITY PRIMARY KEY,\n",
    "                                        Year VARCHAR(100),\n",
    "                                        Gold VARCHAR(100),\n",
    "                                        Silver VARCHAR(100),\n",
    "                                        Bronze VARCHAR(100),                                                                   \n",
    "                                   ) \"\"\"\n",
    "\n",
    "# script d'ajout des data d'une table ds SQL\n",
    "# le pays n'est pas ajouté, pour matcher avec les autres tables, et 2024 est ajouté ds champ Year\n",
    "populate_table = \"\"\"INSERT INTO Wiki_IFSC_Climbing_European_Championship_2024_Medal_Women_Speed_Df1 VALUES ('2024','Natalia Kałucka','Patrycja Chudziak','Giulia Randi')\n",
    "                    \"\"\"\n",
    "                                  \n",
    "# launch session\n",
    "cnxn = pyodbc.connect(connection_string,autocommit=True) # no cursor.commit as Autocommit already\n",
    "cursor = cnxn.cursor() \n",
    "\n",
    "try: \n",
    "    # load script \"create \" \n",
    "    cursor.execute(create_table) \n",
    "    \n",
    "    # population de la table ds SQL\n",
    "    cursor.execute(populate_table) \n",
    "   \n",
    "except Exception as err: \n",
    "    print('err:',err) \n",
    "try: \n",
    "    cursor.close()  # close session\n",
    "except Exception as err: \n",
    "    print('err:',err)"
   ]
  },
  {
   "cell_type": "code",
   "execution_count": 25,
   "id": "e82bc0fb",
   "metadata": {},
   "outputs": [
    {
     "data": {
      "text/plain": [
       "Year      Women's combined (boulder & lead)[9]\n",
       "Gold                       Laura Rogora  Italy\n",
       "Silver                Jenya Kazbekova  Ukraine\n",
       "Bronze                    Zélia Avezou  France\n",
       "Name: 7, dtype: object"
      ]
     },
     "execution_count": 25,
     "metadata": {},
     "output_type": "execute_result"
    }
   ],
   "source": [
    "Wiki_IFSC_Climbing_European_Championship_2024_Medal_Women_Combined_Df1"
   ]
  },
  {
   "cell_type": "code",
   "execution_count": 26,
   "id": "32466b3e",
   "metadata": {},
   "outputs": [],
   "source": [
    "# script de création d'une table ds SQL \n",
    "create_table = \"\"\"Create TABLE Wiki_IFSC_Climbing_European_Championship_2024_Medal_Women_Combined_Df1\n",
    "                                   ( \n",
    "                                        id INT IDENTITY PRIMARY KEY,\n",
    "                                        Year VARCHAR(100),\n",
    "                                        Gold VARCHAR(100),\n",
    "                                        Silver VARCHAR(100),\n",
    "                                        Bronze VARCHAR(100),                                                                   \n",
    "                                   ) \"\"\"\n",
    "\n",
    "# script d'ajout des data d'une table ds SQL\n",
    "# le pays n'est pas ajouté, pour matcher avec les autres tables, et 2024 est ajouté ds champ Year\n",
    "populate_table = \"\"\"INSERT INTO Wiki_IFSC_Climbing_European_Championship_2024_Medal_Women_Combined_Df1 VALUES ('2024','Laura Rogora','Jenya Kazbekova','Zélia Avezou')\n",
    "                    \"\"\"\n",
    "                                  \n",
    "# launch session\n",
    "cnxn = pyodbc.connect(connection_string,autocommit=True) # no cursor.commit as Autocommit already\n",
    "cursor = cnxn.cursor() \n",
    "\n",
    "try: \n",
    "    # load script \"create \" \n",
    "    cursor.execute(create_table) \n",
    "    \n",
    "    # population de la table ds SQL\n",
    "    cursor.execute(populate_table) \n",
    "   \n",
    "except Exception as err: \n",
    "    print('err:',err) \n",
    "try: \n",
    "    cursor.close()  # close session\n",
    "except Exception as err: \n",
    "    print('err:',err)"
   ]
  },
  {
   "cell_type": "code",
   "execution_count": 27,
   "id": "3b498511",
   "metadata": {},
   "outputs": [
    {
     "data": {
      "text/html": [
       "<div>\n",
       "<style scoped>\n",
       "    .dataframe tbody tr th:only-of-type {\n",
       "        vertical-align: middle;\n",
       "    }\n",
       "\n",
       "    .dataframe tbody tr th {\n",
       "        vertical-align: top;\n",
       "    }\n",
       "\n",
       "    .dataframe thead th {\n",
       "        text-align: right;\n",
       "    }\n",
       "</style>\n",
       "<table border=\"1\" class=\"dataframe\">\n",
       "  <thead>\n",
       "    <tr style=\"text-align: right;\">\n",
       "      <th></th>\n",
       "      <th>Rank</th>\n",
       "      <th>Nation</th>\n",
       "      <th>Gold</th>\n",
       "      <th>Silver</th>\n",
       "      <th>Bronze</th>\n",
       "      <th>Total</th>\n",
       "    </tr>\n",
       "  </thead>\n",
       "  <tbody>\n",
       "    <tr>\n",
       "      <th>0</th>\n",
       "      <td>1</td>\n",
       "      <td>France (FRA)</td>\n",
       "      <td>3</td>\n",
       "      <td>1</td>\n",
       "      <td>2</td>\n",
       "      <td>6</td>\n",
       "    </tr>\n",
       "    <tr>\n",
       "      <th>1</th>\n",
       "      <td>2</td>\n",
       "      <td>Italy (ITA)</td>\n",
       "      <td>3</td>\n",
       "      <td>1</td>\n",
       "      <td>1</td>\n",
       "      <td>5</td>\n",
       "    </tr>\n",
       "    <tr>\n",
       "      <th>2</th>\n",
       "      <td>3</td>\n",
       "      <td>Switzerland (SUI)</td>\n",
       "      <td>1</td>\n",
       "      <td>1</td>\n",
       "      <td>1</td>\n",
       "      <td>3</td>\n",
       "    </tr>\n",
       "    <tr>\n",
       "      <th>3</th>\n",
       "      <td>4</td>\n",
       "      <td>Poland (POL)</td>\n",
       "      <td>1</td>\n",
       "      <td>1</td>\n",
       "      <td>0</td>\n",
       "      <td>2</td>\n",
       "    </tr>\n",
       "    <tr>\n",
       "      <th>4</th>\n",
       "      <td>5</td>\n",
       "      <td>Ukraine (UKR)</td>\n",
       "      <td>0</td>\n",
       "      <td>2</td>\n",
       "      <td>0</td>\n",
       "      <td>2</td>\n",
       "    </tr>\n",
       "    <tr>\n",
       "      <th>5</th>\n",
       "      <td>6</td>\n",
       "      <td>Great Britain (GBR)</td>\n",
       "      <td>0</td>\n",
       "      <td>1</td>\n",
       "      <td>1</td>\n",
       "      <td>2</td>\n",
       "    </tr>\n",
       "    <tr>\n",
       "      <th>6</th>\n",
       "      <td>7</td>\n",
       "      <td>Israel (ISR)</td>\n",
       "      <td>0</td>\n",
       "      <td>1</td>\n",
       "      <td>0</td>\n",
       "      <td>1</td>\n",
       "    </tr>\n",
       "    <tr>\n",
       "      <th>7</th>\n",
       "      <td>8</td>\n",
       "      <td>Spain (ESP)</td>\n",
       "      <td>0</td>\n",
       "      <td>0</td>\n",
       "      <td>2</td>\n",
       "      <td>2</td>\n",
       "    </tr>\n",
       "    <tr>\n",
       "      <th>8</th>\n",
       "      <td>9</td>\n",
       "      <td>Netherlands (NED)</td>\n",
       "      <td>0</td>\n",
       "      <td>0</td>\n",
       "      <td>1</td>\n",
       "      <td>1</td>\n",
       "    </tr>\n",
       "    <tr>\n",
       "      <th>9</th>\n",
       "      <td>Totals (9 entries)</td>\n",
       "      <td>Totals (9 entries)</td>\n",
       "      <td>8</td>\n",
       "      <td>8</td>\n",
       "      <td>8</td>\n",
       "      <td>24</td>\n",
       "    </tr>\n",
       "  </tbody>\n",
       "</table>\n",
       "</div>"
      ],
      "text/plain": [
       "                 Rank               Nation  Gold  Silver  Bronze  Total\n",
       "0                   1         France (FRA)     3       1       2      6\n",
       "1                   2          Italy (ITA)     3       1       1      5\n",
       "2                   3    Switzerland (SUI)     1       1       1      3\n",
       "3                   4         Poland (POL)     1       1       0      2\n",
       "4                   5        Ukraine (UKR)     0       2       0      2\n",
       "5                   6  Great Britain (GBR)     0       1       1      2\n",
       "6                   7         Israel (ISR)     0       1       0      1\n",
       "7                   8          Spain (ESP)     0       0       2      2\n",
       "8                   9    Netherlands (NED)     0       0       1      1\n",
       "9  Totals (9 entries)   Totals (9 entries)     8       8       8     24"
      ]
     },
     "execution_count": 27,
     "metadata": {},
     "output_type": "execute_result"
    }
   ],
   "source": [
    "Dataset_Wiki_Climbing_2024_IFSC_European_Championship[2]"
   ]
  },
  {
   "cell_type": "markdown",
   "id": "6f893c16",
   "metadata": {},
   "source": [
    "[2] is about Nation Medal winners at 2024 European Championship > NOT to Discard."
   ]
  },
  {
   "cell_type": "code",
   "execution_count": 28,
   "id": "27dcf392",
   "metadata": {},
   "outputs": [
    {
     "data": {
      "text/plain": [
       "Rank      object\n",
       "Nation    object\n",
       "Gold       int64\n",
       "Silver     int64\n",
       "Bronze     int64\n",
       "Total      int64\n",
       "dtype: object"
      ]
     },
     "execution_count": 28,
     "metadata": {},
     "output_type": "execute_result"
    }
   ],
   "source": [
    "Dataset_Wiki_Climbing_2024_IFSC_European_Championship[2].dtypes"
   ]
  },
  {
   "cell_type": "code",
   "execution_count": 29,
   "id": "2fbf1a63",
   "metadata": {},
   "outputs": [],
   "source": [
    "Wiki_IFSC_Climbing_European_Championship_2024_Countries_Total_Ranking_Df2 = Dataset_Wiki_Climbing_2024_IFSC_European_Championship[2]\n",
    "\n",
    "# script de création d'une table ds SQL \n",
    "create_table = \"\"\"Create TABLE Wiki_IFSC_Climbing_European_Championship_2024_Countries_Total_Ranking_Df2\n",
    "                                   ( \n",
    "                                        id INT IDENTITY PRIMARY KEY,\n",
    "                                        Rank VARCHAR(50),\n",
    "                                        Nation VARCHAR(50),\n",
    "                                        Gold INT,\n",
    "                                        Silver INT,\n",
    "                                        Bronze INT,\n",
    "                                        Total INT                                                                   \n",
    "                                   ) \"\"\"\n",
    "\n",
    "# launch session\n",
    "cnxn = pyodbc.connect(connection_string,autocommit=True) # no cursor.commit as Autocommit already\n",
    "cursor = cnxn.cursor() \n",
    "\n",
    "try: \n",
    "    # load script \"create \" \n",
    "    cursor.execute(create_table) \n",
    "    \n",
    "    # population de la table ds SQL\n",
    "    for i,row in Wiki_IFSC_Climbing_European_Championship_2024_Countries_Total_Ranking_Df2.iterrows(): \n",
    "        row_dict=row.to_dict()\n",
    "        temp = template_SQL_insert_values('Wiki_IFSC_Climbing_European_Championship_2024_Countries_Total_Ranking_Df2',row_dict)\n",
    "        cursor.execute(temp)\n",
    "   \n",
    "except Exception as err: \n",
    "    print('err:',err) \n",
    "try: \n",
    "    cursor.close()  # close session\n",
    "except Exception as err: \n",
    "    print('err:',err)"
   ]
  },
  {
   "cell_type": "code",
   "execution_count": 30,
   "id": "63ca6e69",
   "metadata": {},
   "outputs": [
    {
     "data": {
      "text/html": [
       "<div>\n",
       "<style scoped>\n",
       "    .dataframe tbody tr th:only-of-type {\n",
       "        vertical-align: middle;\n",
       "    }\n",
       "\n",
       "    .dataframe tbody tr th {\n",
       "        vertical-align: top;\n",
       "    }\n",
       "\n",
       "    .dataframe thead th {\n",
       "        text-align: right;\n",
       "    }\n",
       "</style>\n",
       "<table border=\"1\" class=\"dataframe\">\n",
       "  <thead>\n",
       "    <tr style=\"text-align: right;\">\n",
       "      <th></th>\n",
       "      <th>vteEuropean championships in 2024</th>\n",
       "      <th>vteEuropean championships in 2024.1</th>\n",
       "    </tr>\n",
       "  </thead>\n",
       "  <tbody>\n",
       "    <tr>\n",
       "      <th>0</th>\n",
       "      <td>Summer sports &amp; indoor sports</td>\n",
       "      <td>Aquatic sports Athletics Archery indoor outdoo...</td>\n",
       "    </tr>\n",
       "    <tr>\n",
       "      <th>1</th>\n",
       "      <td>Winter sports</td>\n",
       "      <td>Biathlon Bobsleigh / Skeleton Curling Figure s...</td>\n",
       "    </tr>\n",
       "    <tr>\n",
       "      <th>2</th>\n",
       "      <td>Cue &amp; mind sports</td>\n",
       "      <td>Chess Darts</td>\n",
       "    </tr>\n",
       "    <tr>\n",
       "      <th>3</th>\n",
       "      <td>Motor sports</td>\n",
       "      <td>Formula Regional Le Mans Series Motocross Rall...</td>\n",
       "    </tr>\n",
       "  </tbody>\n",
       "</table>\n",
       "</div>"
      ],
      "text/plain": [
       "  vteEuropean championships in 2024  \\\n",
       "0     Summer sports & indoor sports   \n",
       "1                     Winter sports   \n",
       "2                 Cue & mind sports   \n",
       "3                      Motor sports   \n",
       "\n",
       "                 vteEuropean championships in 2024.1  \n",
       "0  Aquatic sports Athletics Archery indoor outdoo...  \n",
       "1  Biathlon Bobsleigh / Skeleton Curling Figure s...  \n",
       "2                                        Chess Darts  \n",
       "3  Formula Regional Le Mans Series Motocross Rall...  "
      ]
     },
     "execution_count": 30,
     "metadata": {},
     "output_type": "execute_result"
    }
   ],
   "source": [
    "Dataset_Wiki_Climbing_2024_IFSC_European_Championship[3]"
   ]
  },
  {
   "cell_type": "markdown",
   "id": "ac1c3326",
   "metadata": {},
   "source": [
    "[3] > To Discard"
   ]
  }
 ],
 "metadata": {
  "kernelspec": {
   "display_name": "Python 3 (ipykernel)",
   "language": "python",
   "name": "python3"
  },
  "language_info": {
   "codemirror_mode": {
    "name": "ipython",
    "version": 3
   },
   "file_extension": ".py",
   "mimetype": "text/x-python",
   "name": "python",
   "nbconvert_exporter": "python",
   "pygments_lexer": "ipython3",
   "version": "3.11.9"
  }
 },
 "nbformat": 4,
 "nbformat_minor": 5
}
